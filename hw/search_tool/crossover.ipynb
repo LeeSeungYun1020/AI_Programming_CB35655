{
 "cells": [
  {
   "cell_type": "code",
   "execution_count": 2,
   "outputs": [],
   "source": [
    "import random"
   ],
   "metadata": {
    "collapsed": false,
    "pycharm": {
     "name": "#%%\n"
    }
   }
  },
  {
   "cell_type": "code",
   "execution_count": 2,
   "metadata": {
    "collapsed": true
   },
   "outputs": [],
   "source": [
    "def uXover(ind1, ind2, p):\n",
    "    child1 = ind1.copy()\n",
    "    child2 = ind2.copy()\n",
    "    for i in range(ind1):\n",
    "        if random.uniform(0, 1) < p:\n",
    "            child1[i], child2[i] = child2[i], child1[i]\n",
    "    return child1, child2"
   ]
  },
  {
   "cell_type": "code",
   "execution_count": 24,
   "outputs": [],
   "source": [
    "def oXover(ind1, ind2, a=None, b=None):\n",
    "    chr1 = ind1.copy()\n",
    "    chr2 = ind2.copy()\n",
    "    size = len(chr1)\n",
    "    if not a or not b:\n",
    "        a, b = sorted([random.randrange(0, size) for _ in range(2)])\n",
    "    hole1, hole2 = [False] * size, [False] * size\n",
    "    for i in range(a, b + 1):\n",
    "        hole1[chr2[i]] = True\n",
    "        hole2[chr1[i]] = True\n",
    "\n",
    "    temp1, temp2 = chr1, chr2\n",
    "    k1, k2 = b+1, b+1\n",
    "    for i in range(size):\n",
    "        if not hole1[temp1[(i + b + 1) % size]]:\n",
    "            chr1[k1 % size] = temp1[(i + b + 1) % size]\n",
    "            k1 += 1\n",
    "        if not hole2[temp2[(i + b + 1) % size]]:\n",
    "            chr2[k2 % size] = temp2[(i + b + 1) % size]\n",
    "            k2 += 1\n",
    "\n",
    "    print(1)\n",
    "    print(chr1)\n",
    "    print(temp1)\n",
    "    print(chr2)\n",
    "    print(temp2)\n",
    "\n",
    "    for i in range(a, b + 1):\n",
    "        chr1[i], chr2[i] = chr2[i], chr1[i]\n",
    "\n",
    "    return chr1, chr2"
   ],
   "metadata": {
    "collapsed": false,
    "pycharm": {
     "name": "#%%\n"
    }
   }
  },
  {
   "cell_type": "code",
   "execution_count": 25,
   "outputs": [],
   "source": [
    "def oXover2(ind1, ind2, a=None, b=None):\n",
    "    chr1 = ind1.copy()\n",
    "    chr2 = ind2.copy()\n",
    "    size = len(chr1)\n",
    "    if not a or not b:\n",
    "        a, b = sorted([random.randrange(0, size) for _ in range(2)])\n",
    "    hole1, hole2 = [False] * size, [False] * size\n",
    "    for i in range(a, b + 1):\n",
    "        hole1[chr2[i]] = True\n",
    "        hole2[chr1[i]] = True\n",
    "\n",
    "    k1, k2 = b+1, b+1\n",
    "    for i in range(size):\n",
    "        if not hole1[chr1[(i + b + 1) % size]]:\n",
    "            chr1[k1 % size] = chr1[(i + b + 1) % size]\n",
    "            k1 += 1\n",
    "        if not hole2[chr2[(i + b + 1) % size]]:\n",
    "            chr2[k2 % size] = chr2[(i + b + 1) % size]\n",
    "            k2 += 1\n",
    "\n",
    "    print(2)\n",
    "    print(chr1)\n",
    "    print(chr2)\n",
    "\n",
    "    for i in range(a, b + 1):\n",
    "        chr1[i], chr2[i] = chr2[i], chr1[i]\n",
    "\n",
    "    return chr1, chr2"
   ],
   "metadata": {
    "collapsed": false,
    "pycharm": {
     "name": "#%%\n"
    }
   }
  },
  {
   "cell_type": "code",
   "execution_count": 26,
   "outputs": [],
   "source": [
    "def oXover3(ind1, ind2, a=None, b=None):\n",
    "    chr1 = ind1.copy()\n",
    "    chr2 = ind2.copy()\n",
    "    size = len(chr1)\n",
    "    if not a or not b:\n",
    "        a, b = sorted([random.randrange(0, size) for _ in range(2)])\n",
    "    hole1, hole2 = [False] * size, [False] * size\n",
    "    for i in range(a, b + 1):\n",
    "        hole1[chr2[i]] = True\n",
    "        hole2[chr1[i]] = True\n",
    "\n",
    "    temp1, temp2 = chr1[:], chr2[:]\n",
    "    k1, k2 = b+1, b+1\n",
    "    for i in range(size):\n",
    "        if not hole1[temp1[(i + b + 1) % size]]:\n",
    "            chr1[k1 % size] = temp1[(i + b + 1) % size]\n",
    "            k1 += 1\n",
    "        if not hole2[temp2[(i + b + 1) % size]]:\n",
    "            chr2[k2 % size] = temp2[(i + b + 1) % size]\n",
    "            k2 += 1\n",
    "\n",
    "    print(3)\n",
    "    print(chr1)\n",
    "    print(temp1)\n",
    "    print(chr2)\n",
    "    print(temp2)\n",
    "\n",
    "    for i in range(a, b + 1):\n",
    "        chr1[i], chr2[i] = chr2[i], chr1[i]\n",
    "\n",
    "    return chr1, chr2"
   ],
   "metadata": {
    "collapsed": false,
    "pycharm": {
     "name": "#%%\n"
    }
   }
  },
  {
   "cell_type": "code",
   "execution_count": 29,
   "outputs": [
    {
     "name": "stdout",
     "output_type": "stream",
     "text": [
      "1\n",
      "[2, 2, 1, 3, 4]\n",
      "[2, 2, 1, 3, 4]\n",
      "[0, 1, 0, 4, 3]\n",
      "[0, 1, 0, 4, 3]\n",
      "1: ([2, 1, 0, 3, 4], [0, 2, 1, 4, 3])\n",
      "2\n",
      "[2, 2, 1, 3, 4]\n",
      "[0, 1, 0, 4, 3]\n",
      "2: ([2, 1, 0, 3, 4], [0, 2, 1, 4, 3])\n",
      "3\n",
      "[2, 2, 1, 3, 4]\n",
      "[0, 2, 1, 3, 4]\n",
      "[0, 1, 0, 4, 3]\n",
      "[3, 1, 0, 4, 2]\n",
      "3: ([2, 1, 0, 3, 4], [0, 2, 1, 4, 3])\n"
     ]
    }
   ],
   "source": [
    "print(\"1:\", oXover([0, 2, 1, 3, 4], [3, 1, 0, 4, 2], 1, 2))\n",
    "print(\"2:\", oXover2([0, 2, 1, 3, 4], [3, 1, 0, 4, 2], 1, 2))\n",
    "print(\"3:\", oXover3([0, 2, 1, 3, 4], [3, 1, 0, 4, 2], 1, 2))"
   ],
   "metadata": {
    "collapsed": false,
    "pycharm": {
     "name": "#%%\n"
    }
   }
  },
  {
   "cell_type": "code",
   "execution_count": 25,
   "outputs": [
    {
     "data": {
      "text/plain": "[1, 100, 3, 4]"
     },
     "execution_count": 25,
     "metadata": {},
     "output_type": "execute_result"
    }
   ],
   "source": [
    "a = [1, 2, 3, 4]\n",
    "b = [5, 6, 7, 8]\n",
    "tem1, tem2 = a, b\n",
    "a[1] = 100\n",
    "tem1"
   ],
   "metadata": {
    "collapsed": false,
    "pycharm": {
     "name": "#%%\n"
    }
   }
  }
 ],
 "metadata": {
  "kernelspec": {
   "name": "pycharm-e791103c",
   "language": "python",
   "display_name": "PyCharm (clothes_crawler)"
  },
  "language_info": {
   "codemirror_mode": {
    "name": "ipython",
    "version": 2
   },
   "file_extension": ".py",
   "mimetype": "text/x-python",
   "name": "python",
   "nbconvert_exporter": "python",
   "pygments_lexer": "ipython2",
   "version": "2.7.6"
  }
 },
 "nbformat": 4,
 "nbformat_minor": 0
}