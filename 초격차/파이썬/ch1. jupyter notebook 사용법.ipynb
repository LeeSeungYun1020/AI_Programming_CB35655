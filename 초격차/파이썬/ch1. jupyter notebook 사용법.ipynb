{
 "cells": [
  {
   "cell_type": "markdown",
   "id": "87fab483",
   "metadata": {},
   "source": [
    "# 주피터 노트북 사용법"
   ]
  },
  {
   "cell_type": "markdown",
   "id": "3902df69",
   "metadata": {},
   "source": [
    "## 단축키\n",
    "- a: 위에 셀 추가\n",
    "- b: 아래에 셀 추가\n",
    "- shift + enter: 실행 후 아래로 이동\n",
    "- ctrl + enter: 실행\n",
    "- alt + enter: 실행 후 아래에 추가\n",
    "- y: 코드 입력 모드로 변환\n",
    "- m: markdown 입력 모드로 변환"
   ]
  },
  {
   "cell_type": "markdown",
   "id": "ea1069a8",
   "metadata": {},
   "source": [
    "## Markdown\n",
    "**strong**   \n",
    "```\n",
    "**strong**\n",
    "```\n",
    "*italic*\n",
    "```\n",
    "*italic*\n",
    "```\n",
    "> block quote\n",
    "```\n",
    "> block quote\n",
    "```\n",
    "$latex$\n",
    "```\n",
    "$latex$\n",
    "```\n",
    "[link](https://github.com/LeeSeungYun1020)\n",
    "```\n",
    "[link](https://github.com/LeeSeungYun1020)\n",
    "```"
   ]
  }
 ],
 "metadata": {
  "kernelspec": {
   "display_name": "Python 3",
   "language": "python",
   "name": "python3"
  },
  "language_info": {
   "codemirror_mode": {
    "name": "ipython",
    "version": 3
   },
   "file_extension": ".py",
   "mimetype": "text/x-python",
   "name": "python",
   "nbconvert_exporter": "python",
   "pygments_lexer": "ipython3",
   "version": "3.8.8"
  }
 },
 "nbformat": 4,
 "nbformat_minor": 5
}
