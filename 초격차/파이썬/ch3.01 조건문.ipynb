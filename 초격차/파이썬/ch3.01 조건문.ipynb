{
 "cells": [
  {
   "cell_type": "markdown",
   "metadata": {},
   "source": [
    "# 조건문"
   ]
  },
  {
   "cell_type": "markdown",
   "metadata": {},
   "source": [
    "## condition 조건문\n",
    "- 특정 조건 만족하는 경우에만 작업 수행\n",
    "- if, elif, else\n",
    "- 들여쓰기로 종속된 코드 구분\n",
    "- 들여쓰기된 코드 = block\n",
    "- block의 시작점 마지막에 : 추가가 필요"
   ]
  },
  {
   "cell_type": "markdown",
   "metadata": {},
   "source": [
    "## 논리식\n",
    "- and\n",
    "- or\n",
    "- not\n",
    "- 우선 순위 NOT > AND > OR"
   ]
  },
  {
   "cell_type": "code",
   "execution_count": 2,
   "metadata": {},
   "outputs": [
    {
     "name": "stdout",
     "output_type": "stream",
     "text": [
      "That is true\n"
     ]
    }
   ],
   "source": [
    "a = 10\n",
    "b = 9\n",
    "c = 8\n",
    "\n",
    "if a == 10 or b == 10:\n",
    "    print(\"That is true\")"
   ]
  },
  {
   "cell_type": "code",
   "execution_count": 4,
   "metadata": {},
   "outputs": [
    {
     "name": "stdout",
     "output_type": "stream",
     "text": [
      "c2\n"
     ]
    }
   ],
   "source": [
    "if not a == 10:\n",
    "    print(\"c1\")\n",
    "if not a == 10 or not b == 10:\n",
    "    print(\"c2\")"
   ]
  },
  {
   "cell_type": "markdown",
   "metadata": {},
   "source": [
    "## if의 조건이 bool이 아닌 경우\n",
    "- False로 간주되는 값\n",
    "    - None\n",
    "    - 0\n",
    "    - 0.0\n",
    "    - \"\"\n",
    "    - []\n",
    "    - ()\n",
    "    - {}\n",
    "    - set()\n",
    "- 나머지는 모두 True"
   ]
  },
  {
   "cell_type": "code",
   "execution_count": 5,
   "metadata": {},
   "outputs": [
    {
     "name": "stdout",
     "output_type": "stream",
     "text": [
      "b\n"
     ]
    }
   ],
   "source": [
    "a = 0\n",
    "b = 10\n",
    "if a:\n",
    "    print(\"a\")\n",
    "\n",
    "if b:\n",
    "    print(\"b\")"
   ]
  },
  {
   "cell_type": "code",
   "execution_count": 7,
   "metadata": {},
   "outputs": [],
   "source": [
    "a = 10\n",
    "b = 9\n",
    "c = 8\n",
    "\n",
    "if a == 10:\n",
    "    if b == 8:\n",
    "        if c == 8:\n",
    "            print(a, b, c)\n",
    "else:\n",
    "    print(\"ELSE\")\n",
    "# 중첩 반복문에서 들여쓰기 주의!"
   ]
  }
 ],
 "metadata": {
  "kernelspec": {
   "display_name": "Python 3",
   "language": "python",
   "name": "python3"
  },
  "language_info": {
   "codemirror_mode": {
    "name": "ipython",
    "version": 3
   },
   "file_extension": ".py",
   "mimetype": "text/x-python",
   "name": "python",
   "nbconvert_exporter": "python",
   "pygments_lexer": "ipython3",
   "version": "3.8.5"
  }
 },
 "nbformat": 4,
 "nbformat_minor": 4
}
