{
 "cells": [
  {
   "cell_type": "markdown",
   "metadata": {
    "collapsed": true,
    "pycharm": {
     "name": "#%% md\n"
    }
   },
   "source": [
    "# 정규표현식"
   ]
  },
  {
   "cell_type": "markdown",
   "source": [
    "## 정규표현식이란\n",
    "- 특정 패턴 일치 문자열을 검색, 치환, 제거할 때 사용\n",
    "- 정규표현식 없이 패턴 찾는 방법은 불완전하거나 cost가 높다\n",
    "- 이메일, 전화번호, URL 형식 판별, 숫자 문자열 판별등에 사용"
   ],
   "metadata": {
    "collapsed": false
   }
  },
  {
   "cell_type": "markdown",
   "source": [
    "## raw string\n",
    "- 문자열 앞에 r을 붙여 구성 문자열 그대로 반환"
   ],
   "metadata": {
    "collapsed": false
   }
  },
  {
   "cell_type": "code",
   "execution_count": 1,
   "outputs": [
    {
     "name": "stdout",
     "output_type": "stream",
     "text": [
      "abc\tdef\n",
      "abc\\tdef\n"
     ]
    }
   ],
   "source": [
    "a = \"abc\\tdef\"\n",
    "print(a)\n",
    "b = r\"abc\\tdef\"\n",
    "print(b)"
   ],
   "metadata": {
    "collapsed": false,
    "pycharm": {
     "name": "#%%\n"
    }
   }
  },
  {
   "cell_type": "markdown",
   "source": [
    "## 기본 패턴\n",
    "- 일반 문자들은 해당 문자와 일치\n",
    "- 메타 문자 . ^ $ * + ? {} [] \\ | ()는 다른 의미 \\로 escape\n",
    "- \\w: 문자와 일치 \\[a-zA-Z0-9_]\n",
    "- \\s: 공백 문자와 일치\n",
    "- \\d: 숫자 문자와 일치 \\[0-9]\n",
    "- ^: 시작, $: 끝"
   ],
   "metadata": {
    "collapsed": false
   }
  },
  {
   "cell_type": "markdown",
   "source": [
    "## search\n",
    "- 첫번째로 패턴 찾으면 match 객체 반환\n",
    "- 패턴 없으면 None 반환"
   ],
   "metadata": {
    "collapsed": false,
    "pycharm": {
     "name": "#%% md\n"
    }
   }
  },
  {
   "cell_type": "code",
   "execution_count": 2,
   "outputs": [],
   "source": [
    "import re"
   ],
   "metadata": {
    "collapsed": false,
    "pycharm": {
     "name": "#%%\n"
    }
   }
  },
  {
   "cell_type": "code",
   "execution_count": 5,
   "outputs": [
    {
     "name": "stdout",
     "output_type": "stream",
     "text": [
      "3\n",
      "6\n",
      "abc\n"
     ]
    }
   ],
   "source": [
    "m = re.search(r'abc', '123abcdef')\n",
    "print(m.start())\n",
    "print(m.end())\n",
    "print(m.group())"
   ],
   "metadata": {
    "collapsed": false,
    "pycharm": {
     "name": "#%%\n"
    }
   }
  },
  {
   "cell_type": "code",
   "execution_count": 7,
   "outputs": [
    {
     "name": "stdout",
     "output_type": "stream",
     "text": [
      "None\n"
     ]
    }
   ],
   "source": [
    "m = re.search(r'abc', '123abdef')\n",
    "print(m)\n"
   ],
   "metadata": {
    "collapsed": false,
    "pycharm": {
     "name": "#%%\n"
    }
   }
  },
  {
   "cell_type": "code",
   "execution_count": 10,
   "outputs": [
    {
     "data": {
      "text/plain": "<re.Match object; span=(0, 2), match='11'>"
     },
     "execution_count": 10,
     "metadata": {},
     "output_type": "execute_result"
    }
   ],
   "source": [
    "re.search(r'\\d\\w', '111abc222')\n",
    "# w는 숫자 문자열도 포함한다!"
   ],
   "metadata": {
    "collapsed": false,
    "pycharm": {
     "name": "#%%\n"
    }
   }
  },
  {
   "cell_type": "markdown",
   "source": [
    "## [] 문자 범위\n",
    "- \\[abck] a or b or c or k\n",
    "- \\[ab.^] a or b or . or ^  특수 기호 아닌 그 자체\n",
    "- \\[a-z] 소문자\n",
    "- \\[A-Z0-9] 대문자 또는 숫자\n",
    "- \\[^0-9] 숫자 아닌 것 - ^가 앞에 오면 해당되지 않는 것과 매칭"
   ],
   "metadata": {
    "collapsed": false,
    "pycharm": {
     "name": "#%% md\n"
    }
   }
  },
  {
   "cell_type": "code",
   "execution_count": 16,
   "outputs": [
    {
     "name": "stdout",
     "output_type": "stream",
     "text": [
      "['cat', 'bat']\n",
      "['cat', 'bat', 'sat']\n"
     ]
    }
   ],
   "source": [
    "words = [\"cat\", \"out\", \"bat\", \"sat\", \"can\"]\n",
    "print(list(filter(lambda w: re.search(r\"[cbm]at\", w), words)))\n",
    "print(list(filter(lambda w: re.search(r\"[a-z]at\", w), words)))"
   ],
   "metadata": {
    "collapsed": false,
    "pycharm": {
     "name": "#%%\n"
    }
   }
  },
  {
   "cell_type": "code",
   "execution_count": 18,
   "outputs": [
    {
     "data": {
      "text/plain": "<re.Match object; span=(5, 7), match='.a'>"
     },
     "execution_count": 18,
     "metadata": {},
     "output_type": "execute_result"
    }
   ],
   "source": [
    "re.search(r'[abc.^]a', \"pusan.ac.kr\")"
   ],
   "metadata": {
    "collapsed": false,
    "pycharm": {
     "name": "#%%\n"
    }
   }
  },
  {
   "cell_type": "code",
   "execution_count": 19,
   "outputs": [
    {
     "data": {
      "text/plain": "<re.Match object; span=(2, 4), match='sa'>"
     },
     "execution_count": 19,
     "metadata": {},
     "output_type": "execute_result"
    }
   ],
   "source": [
    "re.search(r'[^abc.^]a', \"pusan.ac.kr\")"
   ],
   "metadata": {
    "collapsed": false,
    "pycharm": {
     "name": "#%%\n"
    }
   }
  },
  {
   "cell_type": "markdown",
   "source": [
    "## \\\n",
    "1. 다른 문자와 함께 사용\n",
    "    - \\d: 숫자 문자\n",
    "    - \\D: 숫자 아닌 문자\n",
    "    - \\s: 공백 문자\n",
    "    - \\S: 공백 아닌 문자\n",
    "    - \\w: 대소문자, 숫자 \\[0-9a-zA-z]\n",
    "    - \\W: 대소문자, 숫자 아닌 문자(non alpha numeric 문자)\n",
    "2. 메타 문자가 케릭터 자체를 표현\n",
    "    - \\\\\n",
    "    - \\."
   ],
   "metadata": {
    "collapsed": false
   }
  },
  {
   "cell_type": "code",
   "execution_count": 22,
   "outputs": [
    {
     "name": "stdout",
     "output_type": "stream",
     "text": [
      "<re.Match object; span=(5, 9), match=' and'>\n",
      "None\n",
      "<re.Match object; span=(0, 4), match='land'>\n"
     ]
    }
   ],
   "source": [
    "print(re.search(r\"\\sand\", \"apple and banana\"))\n",
    "print(re.search(r\"\\Sand\", \"apple and banana\"))\n",
    "print(re.search(r\"\\Sand\", \"land\"))"
   ],
   "metadata": {
    "collapsed": false,
    "pycharm": {
     "name": "#%%\n"
    }
   }
  },
  {
   "cell_type": "code",
   "execution_count": 24,
   "outputs": [
    {
     "name": "stdout",
     "output_type": "stream",
     "text": [
      "<re.Match object; span=(3, 7), match='.com'>\n",
      "<re.Match object; span=(1, 5), match='ecom'>\n",
      "<re.Match object; span=(3, 7), match='.com'>\n",
      "None\n"
     ]
    }
   ],
   "source": [
    "print(re.search(r\".com\", \"lsy.com\"))\n",
    "print(re.search(r\".com\", \"secom\"))\n",
    "print(re.search(r\"\\.com\", \"lsy.com\"))\n",
    "print(re.search(r\"\\.com\", \"secom\"))"
   ],
   "metadata": {
    "collapsed": false,
    "pycharm": {
     "name": "#%%\n"
    }
   }
  },
  {
   "cell_type": "markdown",
   "source": [
    "## .\n",
    "- 모든 문자 의미"
   ],
   "metadata": {
    "collapsed": false,
    "pycharm": {
     "name": "#%% md\n"
    }
   }
  },
  {
   "cell_type": "markdown",
   "source": [
    "## 반복패턴\n",
    "- *, +, ?는 반복 검사\n",
    "- +: 1번 이상\n",
    "- *: 0번 이상\n",
    "- ?: 0번 또는 1번\n",
    "- 그리디하게 검색(가능한 많은 부분 매칭), 단 첫번째 매칭만 탐색!!"
   ],
   "metadata": {
    "collapsed": false
   }
  },
  {
   "cell_type": "code",
   "execution_count": 28,
   "outputs": [
    {
     "name": "stdout",
     "output_type": "stream",
     "text": [
      "<re.Match object; span=(1, 13), match='abcdbcdbdddb'>\n",
      "<re.Match object; span=(0, 3), match='abb'>\n"
     ]
    }
   ],
   "source": [
    "print(re.search(r\"a[bcd]*b\", 'kabcdbcdbdddbcx'))\n",
    "print(re.search(r\"a[bcd]*b\", 'abb'))\n"
   ],
   "metadata": {
    "collapsed": false,
    "pycharm": {
     "name": "#%%\n"
    }
   }
  },
  {
   "cell_type": "code",
   "execution_count": 29,
   "outputs": [
    {
     "data": {
      "text/plain": "<re.Match object; span=(1, 3), match='ii'>"
     },
     "execution_count": 29,
     "metadata": {},
     "output_type": "execute_result"
    }
   ],
   "source": [
    "re.search(r\"i+\", \"piigiiiii\")\n",
    "# 첫번째 탐색 부분에서 그리디하게"
   ],
   "metadata": {
    "collapsed": false,
    "pycharm": {
     "name": "#%%\n"
    }
   }
  },
  {
   "cell_type": "code",
   "execution_count": 31,
   "outputs": [
    {
     "data": {
      "text/plain": "<re.Match object; span=(0, 4), match='http'>"
     },
     "execution_count": 31,
     "metadata": {},
     "output_type": "execute_result"
    }
   ],
   "source": [
    "re.search(r\"https?\", \"https://www.google.com\")\n",
    "re.search(r\"https?\", \"http://www.google.com\")"
   ],
   "metadata": {
    "collapsed": false,
    "pycharm": {
     "name": "#%%\n"
    }
   }
  },
  {
   "cell_type": "markdown",
   "source": [
    "## ^와 $\n",
    "- ^-: 문자열 맨 앞부터 일치하는지 탐색\n",
    "- -$: 문자열 맨 뒤부터 일치하는지 탐색"
   ],
   "metadata": {
    "collapsed": false
   }
  },
  {
   "cell_type": "code",
   "execution_count": 32,
   "outputs": [
    {
     "data": {
      "text/plain": "<re.Match object; span=(2, 6), match='bana'>"
     },
     "execution_count": 32,
     "metadata": {},
     "output_type": "execute_result"
    }
   ],
   "source": [
    "re.search(r\"b\\w+a\", 'cabana')"
   ],
   "metadata": {
    "collapsed": false,
    "pycharm": {
     "name": "#%%\n"
    }
   }
  },
  {
   "cell_type": "code",
   "execution_count": 33,
   "outputs": [],
   "source": [
    "re.search(r\"^b\\w+a\", 'cabana')"
   ],
   "metadata": {
    "collapsed": false,
    "pycharm": {
     "name": "#%%\n"
    }
   }
  },
  {
   "cell_type": "code",
   "execution_count": 34,
   "outputs": [
    {
     "data": {
      "text/plain": "<re.Match object; span=(0, 6), match='banana'>"
     },
     "execution_count": 34,
     "metadata": {},
     "output_type": "execute_result"
    }
   ],
   "source": [
    "re.search(r\"^b\\w+a\", 'banana')"
   ],
   "metadata": {
    "collapsed": false,
    "pycharm": {
     "name": "#%%\n"
    }
   }
  },
  {
   "cell_type": "code",
   "execution_count": 35,
   "outputs": [
    {
     "data": {
      "text/plain": "<re.Match object; span=(18, 22), match='.com'>"
     },
     "execution_count": 35,
     "metadata": {},
     "output_type": "execute_result"
    }
   ],
   "source": [
    "re.search(r\".com$\", \"https://www.google.com\")"
   ],
   "metadata": {
    "collapsed": false,
    "pycharm": {
     "name": "#%%\n"
    }
   }
  },
  {
   "cell_type": "markdown",
   "source": [
    "## grouping\n",
    "- ()로 그루핑\n",
    "- 매칭 결과를 그룹별로 분리\n",
    "- 패턴 명시할 때 그룹을 괄호 안에 넣어 분리하여 사용"
   ],
   "metadata": {
    "collapsed": false
   }
  },
  {
   "cell_type": "code",
   "execution_count": 44,
   "outputs": [
    {
     "name": "stdout",
     "output_type": "stream",
     "text": [
      "('test', 'gmail.com')\n",
      "test@gmail.com\n",
      "test\n",
      "gmail.com\n"
     ]
    }
   ],
   "source": [
    "m = re.search(r\"(\\w+)@(\\w+.+)\", 'test@gmail.com')\n",
    "print(m.groups())\n",
    "print(m.group(0))\n",
    "print(m.group(1))\n",
    "print(m.group(2))"
   ],
   "metadata": {
    "collapsed": false,
    "pycharm": {
     "name": "#%%\n"
    }
   }
  },
  {
   "cell_type": "markdown",
   "source": [
    "## {}\n",
    "- 반복 횟수 명시\n",
    "- {3}: 3번 반복\n",
    "- {3,4}: 3 ~ 4번 반복"
   ],
   "metadata": {
    "collapsed": false,
    "pycharm": {
     "name": "#%% md\n"
    }
   }
  },
  {
   "cell_type": "code",
   "execution_count": 46,
   "outputs": [
    {
     "data": {
      "text/plain": "<re.Match object; span=(0, 5), match='piiig'>"
     },
     "execution_count": 46,
     "metadata": {},
     "output_type": "execute_result"
    }
   ],
   "source": [
    "re.search(r'pi{3,5}g', \"piiig\")\n"
   ],
   "metadata": {
    "collapsed": false,
    "pycharm": {
     "name": "#%%\n"
    }
   }
  },
  {
   "cell_type": "markdown",
   "source": [
    "## 미니멈 매칭\n",
    "- 그리디하게 동작하지 않기를 원하는 경우\n",
    "- *?, +?, {}?로 해당 기능 구현"
   ],
   "metadata": {
    "collapsed": false
   }
  },
  {
   "cell_type": "code",
   "execution_count": 47,
   "outputs": [
    {
     "data": {
      "text/plain": "<re.Match object; span=(0, 17), match='<html>haha</html>'>"
     },
     "execution_count": 47,
     "metadata": {},
     "output_type": "execute_result"
    }
   ],
   "source": [
    "re.search(r'<.+>', '<html>haha</html>')"
   ],
   "metadata": {
    "collapsed": false,
    "pycharm": {
     "name": "#%%\n"
    }
   }
  },
  {
   "cell_type": "code",
   "execution_count": 48,
   "outputs": [
    {
     "data": {
      "text/plain": "<re.Match object; span=(0, 6), match='<html>'>"
     },
     "execution_count": 48,
     "metadata": {},
     "output_type": "execute_result"
    }
   ],
   "source": [
    "re.search(r'<.+?>', '<html>haha</html>')\n"
   ],
   "metadata": {
    "collapsed": false,
    "pycharm": {
     "name": "#%%\n"
    }
   }
  },
  {
   "cell_type": "code",
   "execution_count": 49,
   "outputs": [
    {
     "data": {
      "text/plain": "<re.Match object; span=(0, 5), match='aaaaa'>"
     },
     "execution_count": 49,
     "metadata": {},
     "output_type": "execute_result"
    }
   ],
   "source": [
    "re.search(r'a{3,5}', 'aaaaa')"
   ],
   "metadata": {
    "collapsed": false,
    "pycharm": {
     "name": "#%%\n"
    }
   }
  },
  {
   "cell_type": "code",
   "execution_count": 50,
   "outputs": [
    {
     "data": {
      "text/plain": "<re.Match object; span=(0, 3), match='aaa'>"
     },
     "execution_count": 50,
     "metadata": {},
     "output_type": "execute_result"
    }
   ],
   "source": [
    "re.search(r'a{3,5}?', 'aaaaa')"
   ],
   "metadata": {
    "collapsed": false,
    "pycharm": {
     "name": "#%%\n"
    }
   }
  },
  {
   "cell_type": "markdown",
   "source": [
    "## match\n",
    "- 문자열 시작부터 비교하여 패턴이 있는지 확인\n",
    "- 없으면 None 반환"
   ],
   "metadata": {
    "collapsed": false
   }
  },
  {
   "cell_type": "code",
   "execution_count": 51,
   "outputs": [
    {
     "data": {
      "text/plain": "<re.Match object; span=(0, 3), match='123'>"
     },
     "execution_count": 51,
     "metadata": {},
     "output_type": "execute_result"
    }
   ],
   "source": [
    "re.match(r'\\d\\d\\d', \"123 is my number\")"
   ],
   "metadata": {
    "collapsed": false,
    "pycharm": {
     "name": "#%%\n"
    }
   }
  },
  {
   "cell_type": "code",
   "execution_count": 56,
   "outputs": [
    {
     "data": {
      "text/plain": "<re.Match object; span=(0, 3), match='123'>"
     },
     "execution_count": 56,
     "metadata": {},
     "output_type": "execute_result"
    }
   ],
   "source": [
    "re.search(r'^\\d\\d\\d', \"123 is my number\")\n",
    "# search에서 ^ 사용한 것과 같은 효과"
   ],
   "metadata": {
    "collapsed": false,
    "pycharm": {
     "name": "#%%\n"
    }
   }
  },
  {
   "cell_type": "markdown",
   "source": [
    "## findall\n",
    "- search는 첫번째로 매칭되는 것만 반환\n",
    "- 매칭되는 모든 결과를 list 형태로 반환"
   ],
   "metadata": {
    "collapsed": false
   }
  },
  {
   "cell_type": "code",
   "execution_count": 61,
   "outputs": [
    {
     "data": {
      "text/plain": "['test@gmail.com', 'test2@naver.com', 'teee@kakao.com']"
     },
     "execution_count": 61,
     "metadata": {},
     "output_type": "execute_result"
    }
   ],
   "source": [
    "re.findall(r'\\w+@[\\w.]+', \"test@gmail.com haha something test2@naver.com teee@kakao.com\")"
   ],
   "metadata": {
    "collapsed": false,
    "pycharm": {
     "name": "#%%\n"
    }
   }
  },
  {
   "cell_type": "markdown",
   "source": [
    "## sub\n",
    "- 일치하는 모든 패턴을 replace 해서 반환\n",
    "- 두번째 인자로 특정 문자열, 변환 함수\n",
    "- count는 기본값 0으로 전체 변환, 1 이상이면 해당 숫자만큼만 치환\n"
   ],
   "metadata": {
    "collapsed": false
   }
  },
  {
   "cell_type": "code",
   "execution_count": 62,
   "outputs": [
    {
     "data": {
      "text/plain": "'E-mail haha something E-mail E-mail'"
     },
     "execution_count": 62,
     "metadata": {},
     "output_type": "execute_result"
    }
   ],
   "source": [
    "re.sub(r'\\w+@[\\w.]+', 'E-mail', \"test@gmail.com haha something test2@naver.com teee@kakao.com\")"
   ],
   "metadata": {
    "collapsed": false,
    "pycharm": {
     "name": "#%%\n"
    }
   }
  },
  {
   "cell_type": "code",
   "execution_count": 63,
   "outputs": [
    {
     "data": {
      "text/plain": "'E-mail haha something test2@naver.com teee@kakao.com'"
     },
     "execution_count": 63,
     "metadata": {},
     "output_type": "execute_result"
    }
   ],
   "source": [
    "re.sub(r'\\w+@[\\w.]+', 'E-mail', \"test@gmail.com haha something test2@naver.com teee@kakao.com\", count=1)"
   ],
   "metadata": {
    "collapsed": false,
    "pycharm": {
     "name": "#%%\n"
    }
   }
  },
  {
   "cell_type": "markdown",
   "source": [
    "## compile\n",
    "- 동일한 정규표현식을 매번 다시 쓰기 어려움\n",
    "- compile로 특정 표현식을 객체로 저장하여 사용 가능"
   ],
   "metadata": {
    "collapsed": false
   }
  },
  {
   "cell_type": "code",
   "execution_count": 64,
   "outputs": [
    {
     "data": {
      "text/plain": "['test@gmail.com', 'test2@naver.com', 'teee@kakao.com']"
     },
     "execution_count": 64,
     "metadata": {},
     "output_type": "execute_result"
    }
   ],
   "source": [
    "email_reg = re.compile(r'\\w+@[\\w.]+')\n",
    "email_reg.findall(\"test@gmail.com haha something test2@naver.com teee@kakao.com\")"
   ],
   "metadata": {
    "collapsed": false,
    "pycharm": {
     "name": "#%%\n"
    }
   }
  },
  {
   "cell_type": "markdown",
   "source": [
    "## 연습"
   ],
   "metadata": {
    "collapsed": false,
    "pycharm": {
     "name": "#%% md\n"
    }
   }
  },
  {
   "cell_type": "markdown",
   "source": [
    "1. 이메일 주소 추출\n"
   ],
   "metadata": {
    "collapsed": false
   }
  },
  {
   "cell_type": "code",
   "execution_count": 5,
   "outputs": [
    {
     "name": "stdout",
     "output_type": "stream",
     "text": [
      "[IT동아 남시현 기자] 2019년 5월 15일, 미국 도널드 트럼프 대통령이 ‘정보통신 기술 및 서비스 공급망 확보’에 관한 행정 명령을 발동했다. 백악관은 외부의 적으로부터 미국 정보 통신 기술과 서비스를 보호한다는 명목으로 행정 명령을 발동했고, 그다음 날 화웨이(HUAWEI)를 비롯한 68개 계열사를 거래 금지 목록으로 발표해 화웨이를 미국의 적으로 규정했다. 이 사건은 트럼프 행정부 출범 직후부터 이어져 온 미국-중국 무역 분쟁의 일환이었고, 이때의 타격으로 화웨이는 2년 만에 중국 내 스마트폰 점유율 41%대에서 10% 이하로 추락한 상황이다.전 세계 스마트폰 출하량 1위를 기록했던 화웨이가 2년 만에 벼랑 끝에 몰린 이유는 바로 ‘반도체’였다. 행정 명령이 발동하자 구글은 화웨이와의 안드로이드 운영 체제 계약을 철회했고, 화웨이는 독자 운영 체제 ‘훙멍(鴻蒙·하모니)’으로 자립을 시도했다. 하지만 스마트폰의 두뇌인 애플리케이션 프로세서(AP), 통신, 인터페이스, 저장 장치 등 주요 기술과 반도체를 대체할 수 없어 화웨이의 자립은 사실상 실패로 끝났다. 화웨이의 몰락은 현대 자본주의 시장에서 반도체의 전략적 가치를 보여준 사건이며, 전 세계가 경쟁적으로 반도체 패권을 확보하려는 신호탄이 됐다.반도체 패권의 위력을 확인한 미국은 바이든 행정부 수립에 맞춰 본격적으로 반도체 시장 강화에 나선다. 오늘날 반도체 산업 생태계는 생산 설비 없이 반도체 기술을 개발하는 팹리스(Fabless) 기업과 반도체를 위탁 생산하는 파운드리(또는 팹, Fabrication)로 분업화돼있다. 개발과 생산을 모두 수행하는 기업은 통합 장치 제조[IDM, Integrated Device Manufacturers] 기업으로 분류하지만, 오늘날 많은 반도체 기업이 효율성을 팹 또는 팹리스 기업에 해당하는데 이는 효율성을 높이기 위한 전략으로 풀이된다. 반도체 개발에 필요한 기술 개발과 생산 과정 각각에 막대한 자금이 투입되어야 하다 보니, 전 세계에 걸쳐 반도체 생산이 나뉜 것이다. 이 생태계에서 미국은 세계 최고 수준의 기술력을 보유하고 있지만, 반대로 반도체 생산량은 전 세계 10% 정도에 불과하다. 1990년대 후반까지만 해도 37%였던 점과 비교하면 크게 줄어든 수치다. 현 상황에서 미국이 반도체 패권을 확립하고, 이를 견제 수단으로 활용하기 위해서는 현재의 개발력을 유지하면서, 그에 합당한 생산력도 갖춰야 한다는 계산이 나온다.미국의 뜻은 지난 5월 열린 ‘반도체 및 공급망 회복 최고경영자 회의’에서 여실히 드러났다. 회의를 소집한 조 바이든 대통령은 “미국이 21세기에도 세계를 이끌려면 반도체와 배터리 같은 첨단 기술 분야에 공격적으로 투자할 필요가 있다”라며, 반도체 생산 자립의 중요성을 강조했다. 이미 바이든 대통령은 올해 3월 말, 2조 2,500억 달러(한화 약 2,500조 원) 규모의 ‘미국 일자리 계획(American Jobs Plan)’을 발표하면서, 그중 500억 달러를 반도체 생산 시설 확충 및 연구 개발에 배정했다. 추가로 미국 내 제조업체의 자본에 대한 접근성과 지역 혁신거점, 전국의 연구 인프라 업그레이드 등 부차적인 부분까지 자금을 투입한다. 미국 기업이 자국에 반도체 공장을 설립하면 연방 정부 차원에서 연구 개발에 필요한 자금과 비용을 지원하겠다는 의미다.미국이 힘을 실어주자, 인텔이 분위기를 주도하기 시작했다. 인텔은 2017~18년을 제외하고는 꾸준히 30년간 세계 1위 반도체 기업으로 군림해왔지만, 삼성전자가 반도체 위탁 생산에서 의미 있는 점유율을 확보하면서 매 분기 1~2위를 놓고 경쟁하는 상황이다. 이에 인텔은 당시 VM웨어(VMWare)를 이끌고 있던 팻 겔싱어(Patrick Paul Gelsinger)를 새로운 최고경영자로 선임하며 내실을 다지기 시작했다.팻 겔싱어는 1979년 18세의 나이로 인텔에 입사해 30년간 인텔에서 근무한 ‘인텔맨’이며, 2001년 인텔의 첫 최고기술책임자로 부임해 와이파이, USB, 인텔 코어 및 제온 프로세서 외 14개의 칩 프로젝트를 진행한 기술전문가다. 2009년 9월에 그는 인텔을 떠나 저장 장치 전문 기업인 EMC로 자리를 옮겼고, 2012년부터 VM웨어를 이끌고 있던 상태였다. 하지만 인텔을 둘러싼 반도체 산업의 긴장감이 고조되면서 팻 겔싱어를 다시 불러들여 최고경영자로 추대하게 됐다.최고경영자로서 팻 겔싱어의 첫 행보는 인텔의 반도체 제조 산업 진출이다. 인텔은 지난 3월 ‘통합 장치 제조 2.0 [IDM 2.0]’ 비전을 발표하면서 세계적인 반도체 공급 문제 해결을 위해 애리조나에 두 개의 반도체 공장을 세우겠다는 뜻을 밝혔다. 지금까지 인텔은 반도체 및 마이크로프로세서를 설계하는 데 주력했지만, 제조 부문인 파운드리 사업부를 신설해 설계부터 제조까지 미국 영토 내에서 추진하게 된다. 이렇게 되면 인텔은 자체적인 반도체 생산 역량을 통해 안정적인 공급 체계를 갖추는 것은 물론, 미국 내 다른 기업의 반도체까지 위탁 생산해 미국의 반도체 패권주의에 힘을 실어주게 된다.인텔의 반도체 제조 산업 진출은 파운드리 시장의 지각 변동을 예고하고 있다. 현재 반도체 위탁 생산(파운드리) 세계 1위는 대만의 TSMC, 2위는 우리나라의 삼성전자다. 이미 TSMC는 지난 4월, 향후 3년간 생산 및 기술 개발에 1,000억 달러(한화 약 117조 원)를 투자할 계획을 밝혔고, 삼성전자 역시 ‘시스템반도체 비전 2030’의 일환으로 첨단 파운드리 공정 연구 개발 및 생산 시설 건설에 2030년까지 171조 원을 투자할 계획이다. 그런 분위기 속에 인텔이 미국 시장에만 200억 달러(한화 23조 원)를 투자하고, 유럽 반도체 제조 시장에 향후 10년간 800억 유로(한화 110조 4천억 원)를 더 투입하겠다고 밝히면서 TSMC와 삼성전자가 주도하는 반도체 제조 시장이 삼파전으로 번질 양상이다.이뿐만이 아니다. 지난 7월, 팻 겔싱어는 인텔 액셀러레이티드(Intel Accelerated) 전략 발표회를 통해 공정 외 패키징 기술(생산된 반도체 회로를 후가공하는 기술)을 혁신해 차세대 반도체 산업을 이끌겠다는 전략도 공개했다. 인텔은 앞으로 반도체 공정을 인텔 7(10nm 향상된 슈퍼핀)’ – ‘인텔 4(구 인텔 7nm)’ – ‘인텔 3’ – ‘인텔 20A’로 발전시키며, 공정을 미세화한다. 특히 인텔 20A의 경우, 옹스트롬(angstrom, 0.1nm)급 반도체의 시대를 연다는 의미를 담고 있다. 인텔이 지난 몇 년 동안 출시한 마이크로프로세서는 14나노미터(10억 분의 1미터, nm) 공정으로 출시되면서 기술력이 부족하다는 평가를 받아왔다. 하지만 대규모 투자와 자체적인 생산 역량을 확보하면서 2024년까지 2nm에 가까운 20A 공정 기반 제품을 양산하겠다고 공언한 것이다. 인텔의 전략이 흔들림 없이 나아간다면 10년 내로 미국은 반도체 생산과 공정 모든 부분에서 막강한 영향력을 행사하게 되리라 예상된다.앞으로 인텔이 나아갈 방향은 뚜렷하다. 9월 23일(현지 시각), 바이든 행정부는 국제적 반도체 부족 현상과 코로나 19 델타 변이에 따른 생산 차질 극복을 위한 최고경영자 회의를 소집했다. 반도체 기업 최고경영자 회의는 바이든 행정부 들어 세 번째며, 미국의 기술경쟁력 확보가 상당히 높은 우선 순위임을 보여주는 대목이다. 유럽 연합(EU) 역시 올해 들어 세계 반도체 제품의 최소 20%를 EU 내 공장에서 생산한다는 ‘2030 디지털 컴퍼스’ 계획을 발표하고, ‘유럽 반도체 법[European Chips Act]’을 제정해 유럽 내 반도체 자급률을 끌어올릴 계획이다. 수십 년간 이어져 온 반도체 가치 사슬에 금이 가고 있지만, 그만큼 거대한 시장이 새롭게 등장할 시점이 도래한 것이다.인텔의 공동 창립자이자 명예 회장인 고든 무어(Gordon earle Moore)가 1965년 ‘무어의 법칙’을 발표한 이후, 인텔은 무어의 법칙을 따라 끊임없이 반도체 혁신을 이뤄왔다. 덕분에 지난 30년간 개인용 컴퓨터는 눈부시게 발전했고, 여기서 인텔의 역할은 절대적이었다. 이제 인텔은 일정 주기마다 공정의 미세도를 높이는 ‘무어의 법칙’을 넘어서, IDM 2.0이라는 새로운 반도체 전략으로 시대를 이끌어갈 채비를 하고 있다. 반도체가 세상을 바꾸는 미래의 시점에서 인텔이 또 한 번 주도적인 역할을 해낼 것으로 보이는 이유다.글 / IT동아 남시현 (sh@itdonga.com)IT동아의 모든 콘텐츠(기사)는 저작권법의 보호를 받습니다.\n"
     ]
    }
   ],
   "source": [
    "import requests\n",
    "import re\n",
    "from bs4 import BeautifulSoup\n",
    "# 위의 두 모듈이 없는 경우에는 pip install requests bs4 실행\n",
    "\n",
    "def get_news_content(url):\n",
    "    response = requests.get(url)\n",
    "    content = response.text\n",
    "\n",
    "    soup = BeautifulSoup(content, 'html5lib')\n",
    "\n",
    "    div = soup.find('div', attrs = {'id' : 'harmonyContainer'})\n",
    "\n",
    "    content = ''\n",
    "    for paragraph in div.find_all('p'):\n",
    "        content += paragraph.get_text()\n",
    "\n",
    "    return content\n",
    "\n",
    "news1 = get_news_content('https://news.v.daum.net/v/20210924163902725')\n",
    "print(news1)"
   ],
   "metadata": {
    "collapsed": false,
    "pycharm": {
     "name": "#%%\n"
    }
   }
  },
  {
   "cell_type": "code",
   "source": [
    "email_reg = re.compile(r\"[\\w-]+@[\\w.]+\\w+\")\n",
    "email_reg.search(news1)"
   ],
   "metadata": {
    "collapsed": false,
    "pycharm": {
     "name": "#%%\n"
    }
   },
   "execution_count": 6,
   "outputs": [
    {
     "data": {
      "text/plain": "<re.Match object; span=(4098, 4112), match='sh@itdonga.com'>"
     },
     "execution_count": 6,
     "metadata": {},
     "output_type": "execute_result"
    }
   ]
  },
  {
   "cell_type": "markdown",
   "source": [
    "2. 올바른 웹 주소 추출"
   ],
   "metadata": {
    "collapsed": false
   }
  },
  {
   "cell_type": "code",
   "execution_count": 8,
   "outputs": [],
   "source": [
    "webs = ['http://www.test.co.kr',\n",
    "        'https://www.test1.com',\n",
    "        'http://www.test.com',\n",
    "        'ftp://www.test.com',\n",
    "        'http:://www.test.com',\n",
    "       'htp://www.test.com',\n",
    "       'http://www.google.com',\n",
    "       'https://www.homepage.com.']"
   ],
   "metadata": {
    "collapsed": false,
    "pycharm": {
     "name": "#%%\n"
    }
   }
  },
  {
   "cell_type": "code",
   "execution_count": 16,
   "outputs": [
    {
     "data": {
      "text/plain": "['http://www.test.co.kr',\n 'https://www.test1.com',\n 'http://www.test.com',\n 'http://www.google.com',\n 'https://www.homepage.com']"
     },
     "execution_count": 16,
     "metadata": {},
     "output_type": "execute_result"
    }
   ],
   "source": [
    "web_reg = re.compile(r\"https?://www.[\\w.]+\\w\")\n",
    "web_reg.findall(\" \".join(webs))"
   ],
   "metadata": {
    "collapsed": false,
    "pycharm": {
     "name": "#%%\n"
    }
   }
  },
  {
   "cell_type": "code",
   "execution_count": 19,
   "outputs": [
    {
     "data": {
      "text/plain": "[True, True, True, False, False, False, True, False]"
     },
     "execution_count": 19,
     "metadata": {},
     "output_type": "execute_result"
    }
   ],
   "source": [
    "web_reg = re.compile(r\"https?://www.[\\w.]+\\w$\")\n",
    "[web_reg.match(addr) != None for addr in webs ]\n"
   ],
   "metadata": {
    "collapsed": false,
    "pycharm": {
     "name": "#%%\n"
    }
   }
  }
 ],
 "metadata": {
  "kernelspec": {
   "display_name": "Python 3",
   "language": "python",
   "name": "python3"
  },
  "language_info": {
   "codemirror_mode": {
    "name": "ipython",
    "version": 2
   },
   "file_extension": ".py",
   "mimetype": "text/x-python",
   "name": "python",
   "nbconvert_exporter": "python",
   "pygments_lexer": "ipython2",
   "version": "2.7.6"
  }
 },
 "nbformat": 4,
 "nbformat_minor": 0
}