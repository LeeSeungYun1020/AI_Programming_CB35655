{
 "cells": [
  {
   "cell_type": "markdown",
   "metadata": {
    "collapsed": true,
    "pycharm": {
     "name": "#%% md\n"
    }
   },
   "source": [
    "# 클래스"
   ]
  },
  {
   "cell_type": "markdown",
   "source": [
    "## 클래스와 오브젝트\n",
    "- 클래스\n",
    "    - 실세계 모델링\n",
    "    - 속성, 동작\n",
    "    - 데이터(변수)와 연산(함수)를 캡슐화\n",
    "    - string, int, list, dict 모두 class로 존재\n",
    "- 객체\n",
    "    - 구체화된 객체(인스턴스)\n",
    "    - 파이썬의 모든 것은 객체\n",
    "    - 인스턴스화 되어 메모리에 상주"
   ],
   "metadata": {
    "collapsed": false
   }
  },
  {
   "cell_type": "markdown",
   "source": [
    "## 클래스 선언"
   ],
   "metadata": {
    "collapsed": false
   }
  },
  {
   "cell_type": "code",
   "execution_count": 1,
   "outputs": [],
   "source": [
    "import math\n",
    "\n",
    "\n",
    "class Person:\n",
    "    pass"
   ],
   "metadata": {
    "collapsed": false,
    "pycharm": {
     "name": "#%%\n"
    }
   }
  },
  {
   "cell_type": "code",
   "execution_count": 2,
   "outputs": [
    {
     "name": "stdout",
     "output_type": "stream",
     "text": [
      "<class '__main__.Person'> <class '__main__.Person'>\n",
      "<class 'list'> <class 'list'>\n"
     ]
    }
   ],
   "source": [
    "bob = Person()\n",
    "cathy = Person()\n",
    "a = list()\n",
    "b = []\n",
    "\n",
    "print(type(bob), type(cathy))\n",
    "print(type(a), type(b))"
   ],
   "metadata": {
    "collapsed": false,
    "pycharm": {
     "name": "#%%\n"
    }
   }
  },
  {
   "cell_type": "markdown",
   "source": [
    "## 클래스 생성자\n",
    "- __init__(self)\n",
    "- self는 객체 자신 가리킴 (타언어의 this)"
   ],
   "metadata": {
    "collapsed": false,
    "pycharm": {
     "name": "#%% md\n"
    }
   }
  },
  {
   "cell_type": "code",
   "execution_count": 6,
   "outputs": [
    {
     "name": "stdout",
     "output_type": "stream",
     "text": [
      "<__main__.Person object at 0x0000021F233A4EB0> is generated\n",
      "25 Jim\n",
      "30 Jim\n"
     ]
    }
   ],
   "source": [
    "class Person:\n",
    "    def __init__(self):\n",
    "        print(self, \"is generated\")\n",
    "        self.name = \"Jim\"\n",
    "        self.age = 25\n",
    "\n",
    "p1 = Person()\n",
    "print(p1.age, p1.name)\n",
    "p1.age = 30\n",
    "print(p1.age, p1.name)"
   ],
   "metadata": {
    "collapsed": false,
    "pycharm": {
     "name": "#%%\n"
    }
   }
  },
  {
   "cell_type": "code",
   "execution_count": null,
   "outputs": [],
   "source": [],
   "metadata": {
    "collapsed": false,
    "pycharm": {
     "name": "#%%\n"
    }
   }
  },
  {
   "cell_type": "code",
   "execution_count": 7,
   "outputs": [
    {
     "name": "stdout",
     "output_type": "stream",
     "text": [
      "<__main__.Person object at 0x0000021F23A44580> is generated\n",
      "20 Aaron\n"
     ]
    }
   ],
   "source": [
    "class Person:\n",
    "    def __init__(self, name, age):\n",
    "        print(self, \"is generated\")\n",
    "        self.name = name\n",
    "        self.age = age\n",
    "\n",
    "p1 = Person(\"Aaron\", 20)\n",
    "print(p1.age, p1.name)"
   ],
   "metadata": {
    "collapsed": false,
    "pycharm": {
     "name": "#%%\n"
    }
   }
  },
  {
   "cell_type": "markdown",
   "source": [
    "## self\n",
    "- 메소드는 항상 첫번째 인자로 self 전달\n",
    "- 호출 객체 자신 가리킴\n",
    "- 타언어 this에 해당\n",
    "- 관례적으로 self로 사용"
   ],
   "metadata": {
    "collapsed": false
   }
  },
  {
   "cell_type": "code",
   "execution_count": 8,
   "outputs": [
    {
     "name": "stdout",
     "output_type": "stream",
     "text": [
      "Bob is sleep\n"
     ]
    }
   ],
   "source": [
    "class Person:\n",
    "    def __init__(self, name = \"Bob\", age = 1):\n",
    "        self.name = name\n",
    "        self.age = age\n",
    "\n",
    "    def sleep(self):\n",
    "        print(self.name, \"is sleep\")\n",
    "\n",
    "\n",
    "p1 = Person()\n",
    "p1.sleep()"
   ],
   "metadata": {
    "collapsed": false,
    "pycharm": {
     "name": "#%%\n"
    }
   }
  },
  {
   "cell_type": "markdown",
   "source": [
    "## method 정의\n",
    "- 메소드(멤버 함수)\n",
    "- 해당 클래스 객체에서만 호출 가능"
   ],
   "metadata": {
    "collapsed": false
   }
  },
  {
   "cell_type": "code",
   "execution_count": 12,
   "outputs": [
    {
     "name": "stdout",
     "output_type": "stream",
     "text": [
      "Val: 0\n",
      "Val: 2\n",
      "Val: 0\n"
     ]
    }
   ],
   "source": [
    "class Counter:\n",
    "    def __init__(self):\n",
    "        self.num = 0\n",
    "\n",
    "    def print_value(self):\n",
    "        print(\"Val:\", self.num)\n",
    "\n",
    "    def reset(self):\n",
    "        self.num = 0\n",
    "\n",
    "    def increment(self):\n",
    "        self.num += 1\n",
    "\n",
    "c1 = Counter()\n",
    "c1.print_value()\n",
    "c1.increment()\n",
    "c1.increment()\n",
    "c1.print_value()\n",
    "c1.reset()\n",
    "c1.print_value()"
   ],
   "metadata": {
    "collapsed": false,
    "pycharm": {
     "name": "#%%\n"
    }
   }
  },
  {
   "cell_type": "markdown",
   "source": [
    "## method type\n",
    "- instance method: 객체 단위 호출\n",
    "- class method: 클래스 레벨 호출, 클래스 멤버 변수만 변경 가능"
   ],
   "metadata": {
    "collapsed": false
   }
  },
  {
   "cell_type": "code",
   "execution_count": 13,
   "outputs": [
    {
     "data": {
      "text/plain": "7"
     },
     "execution_count": 13,
     "metadata": {},
     "output_type": "execute_result"
    }
   ],
   "source": [
    "class MyMath:\n",
    "    @staticmethod\n",
    "    def add(a, b):\n",
    "        return a + b\n",
    "\n",
    "    @staticmethod\n",
    "    def mult(a, b):\n",
    "        return a * b\n",
    "\n",
    "MyMath.add(3, 4)"
   ],
   "metadata": {
    "collapsed": false,
    "pycharm": {
     "name": "#%%\n"
    }
   }
  },
  {
   "cell_type": "markdown",
   "source": [
    "## 상속\n",
    "- 기존 클래스 기능 물려받음\n",
    "- 기존 클래스에 기능 추가, 변경\n",
    "- parent, super, base class\n",
    "- child, sub, derived class\n",
    "- is-a 관계"
   ],
   "metadata": {
    "collapsed": false
   }
  },
  {
   "cell_type": "code",
   "execution_count": 21,
   "outputs": [
    {
     "name": "stdout",
     "output_type": "stream",
     "text": [
      "Bob(24)\n",
      "Bob eats apple\n"
     ]
    }
   ],
   "source": [
    "class Person:\n",
    "    def __init__(self, name, age):\n",
    "        self.name = name\n",
    "        self.age = age\n",
    "\n",
    "    def info(self):\n",
    "        print(\"{}({})\".format(self.name, self.age))\n",
    "\n",
    "    def eat(self, food):\n",
    "        print(\"{} eats {}\".format(self.name, food))\n",
    "\n",
    "    def sleep(self, hour):\n",
    "        print(\"{} sleeps {} hours\".format(self.name, hour))\n",
    "\n",
    "    def work(self):\n",
    "        print(\"{} work!\".format(self.name))\n",
    "\n",
    "class Student(Person):\n",
    "    def __init__(self, name, age):\n",
    "        self.name = name\n",
    "        self.age = age\n",
    "\n",
    "class Employee(Person):\n",
    "    def __init__(self, name, age):\n",
    "        self.name = name\n",
    "        self.age = age\n",
    "\n",
    "bob = Student('Bob', 24)\n",
    "bob.info()\n",
    "bob.eat(\"apple\")"
   ],
   "metadata": {
    "collapsed": false,
    "pycharm": {
     "name": "#%%\n"
    }
   }
  },
  {
   "cell_type": "markdown",
   "source": [
    "## method override"
   ],
   "metadata": {
    "collapsed": false,
    "pycharm": {
     "name": "#%% md\n"
    }
   }
  },
  {
   "cell_type": "code",
   "execution_count": 22,
   "outputs": [
    {
     "name": "stdout",
     "output_type": "stream",
     "text": [
      "Bob study!\n",
      "kile work hard!\n"
     ]
    }
   ],
   "source": [
    "class Person:\n",
    "    def __init__(self, name, age):\n",
    "        self.name = name\n",
    "        self.age = age\n",
    "\n",
    "    def info(self):\n",
    "        print(\"{}({})\".format(self.name, self.age))\n",
    "\n",
    "    def eat(self, food):\n",
    "        print(\"{} eats {}\".format(self.name, food))\n",
    "\n",
    "    def sleep(self, hour):\n",
    "        print(\"{} sleeps {} hours\".format(self.name, hour))\n",
    "\n",
    "    def work(self):\n",
    "        print(\"{} work!\".format(self.name))\n",
    "\n",
    "class Student(Person):\n",
    "    def __init__(self, name, age):\n",
    "        self.name = name\n",
    "        self.age = age\n",
    "\n",
    "    def work(self):\n",
    "        print(\"{} study!\".format(self.name))\n",
    "\n",
    "class Employee(Person):\n",
    "    def __init__(self, name, age):\n",
    "        self.name = name\n",
    "        self.age = age\n",
    "\n",
    "    def work(self):\n",
    "        print(\"{} work hard!\".format(self.name))\n",
    "\n",
    "bob = Student('Bob', 24)\n",
    "bob.work()\n",
    "\n",
    "kile = Employee(\"kile\", 35)\n",
    "kile.work()"
   ],
   "metadata": {
    "collapsed": false,
    "pycharm": {
     "name": "#%%\n"
    }
   }
  },
  {
   "cell_type": "markdown",
   "source": [
    "## super\n",
    "- 하위 클래스에서 상위 클래스 method 호출"
   ],
   "metadata": {
    "collapsed": false
   }
  },
  {
   "cell_type": "code",
   "execution_count": null,
   "outputs": [],
   "source": [
    "class Person:\n",
    "    def __init__(self, name, age):\n",
    "        self.name = name\n",
    "        self.age = age\n",
    "\n",
    "    def info(self):\n",
    "        print(\"{}({})\".format(self.name, self.age))\n",
    "\n",
    "    def eat(self, food):\n",
    "        print(\"{} eats {}\".format(self.name, food))\n",
    "\n",
    "    def sleep(self, hour):\n",
    "        print(\"{} sleeps {} hours\".format(self.name, hour))\n",
    "\n",
    "    def work(self):\n",
    "        print(\"{} work!\".format(self.name))\n",
    "\n",
    "class Student(Person):\n",
    "    def __init__(self, name, age):\n",
    "        super.__init__(name, age)\n",
    "\n",
    "    def work(self):\n",
    "        print(\"{} study!\".format(self.name))\n",
    "\n",
    "class Employee(Person):\n",
    "    def __init__(self, name, age):\n",
    "        super.__init__(name, age)\n",
    "\n",
    "\n",
    "    def work(self):\n",
    "        print(\"{} work hard!\".format(self.name))"
   ],
   "metadata": {
    "collapsed": false,
    "pycharm": {
     "name": "#%%\n"
    }
   }
  },
  {
   "cell_type": "markdown",
   "source": [
    "## special method\n",
    "- __로 시작 __로 끝나는 특수 함수\n",
    "- 해당 메소드를 구현해 객체에 파이썬 내장 함수, 연산자 적용"
   ],
   "metadata": {
    "collapsed": false
   }
  },
  {
   "cell_type": "code",
   "execution_count": 30,
   "outputs": [
    {
     "name": "stdout",
     "output_type": "stream",
     "text": [
      "(3, 4)\n",
      "(5, 11)\n",
      "(9, 12)\n",
      "25\n",
      "3\n"
     ]
    }
   ],
   "source": [
    "class Point:\n",
    "    def __init__(self, x = 0, y = 0):\n",
    "        self.x = x\n",
    "        self.y = y\n",
    "\n",
    "# 출력할 문자열\n",
    "    def __str__(self):\n",
    "        return \"({}, {})\".format(self.x, self.y)\n",
    "\n",
    "    def __add__(self, other):\n",
    "        return Point(self.x + other.x, self.y + other.y)\n",
    "\n",
    "    def __mul__(self, factor):\n",
    "        return Point(self.x * factor, self.y * factor)\n",
    "\n",
    "    def __len__(self):\n",
    "        return (self.x ** 2 + self.y ** 2)\n",
    "\n",
    "    def __getitem__(self, index):\n",
    "        if index == 0:\n",
    "            return self.x\n",
    "        elif index == 1:\n",
    "            return self.y\n",
    "        else:\n",
    "            return -1\n",
    "\n",
    "p1 = Point(3, 4)\n",
    "p2 = Point(2, 7)\n",
    "print(p1)\n",
    "print(p1 + p2)\n",
    "print(p1 * 3)\n",
    "print(len(p1))\n",
    "print(p1[0])"
   ],
   "metadata": {
    "collapsed": false,
    "pycharm": {
     "name": "#%%\n"
    }
   }
  },
  {
   "cell_type": "markdown",
   "source": [
    "## 연습\n",
    "### 복소수 클래스"
   ],
   "metadata": {
    "collapsed": false
   }
  },
  {
   "cell_type": "code",
   "execution_count": 41,
   "outputs": [
    {
     "name": "stdout",
     "output_type": "stream",
     "text": [
      "-2 - 3j\n",
      "4 + 7j\n",
      "3 + 6j\n",
      "-7 + 11j\n",
      "True\n",
      "True\n",
      "2.23606797749979\n"
     ]
    }
   ],
   "source": [
    "import math\n",
    "class Complex:\n",
    "    def __init__(self, r, i):\n",
    "        self.r = r\n",
    "        self.i = i\n",
    "\n",
    "    def __str__(self):\n",
    "        if self.i >= 0:\n",
    "            return \"{} + {}j\".format(self.r, self.i)\n",
    "        else:\n",
    "            return \"{} - {}j\".format(self.r, -self.i)\n",
    "\n",
    "    def __add__(self, other):\n",
    "        return Complex(self.r + other.r, self.i + other.i)\n",
    "\n",
    "    def __sub__(self, other):\n",
    "        return Complex(self.r - other.r, self.i - other.i)\n",
    "\n",
    "    def __mul__(self, other):\n",
    "        if type(other) == int:\n",
    "            return Complex(self.r * other, self.i * other)\n",
    "        elif type(other) == Complex:\n",
    "            return Complex(self.r * other.r - self.i * other.i, self.r * other.i + self.i * other.r)\n",
    "\n",
    "    def __eq__(self, other):\n",
    "        return self.r == other.r and self.i == other.i\n",
    "\n",
    "    def __abs__(self):\n",
    "        return math.sqrt(self.r ** 2 + self.i ** 2)\n",
    "\n",
    "a = Complex(1, 2)\n",
    "b = Complex(3, 5)\n",
    "print(a - b)\n",
    "print(a + b)\n",
    "print(a * 3)\n",
    "print(a * b)\n",
    "print(a != b)\n",
    "print(a == Complex(1, 2))\n",
    "print(abs(a))"
   ],
   "metadata": {
    "collapsed": false,
    "pycharm": {
     "name": "#%%\n"
    }
   }
  }
 ],
 "metadata": {
  "kernelspec": {
   "display_name": "Python 3",
   "language": "python",
   "name": "python3"
  },
  "language_info": {
   "codemirror_mode": {
    "name": "ipython",
    "version": 2
   },
   "file_extension": ".py",
   "mimetype": "text/x-python",
   "name": "python",
   "nbconvert_exporter": "python",
   "pygments_lexer": "ipython2",
   "version": "2.7.6"
  }
 },
 "nbformat": 4,
 "nbformat_minor": 0
}