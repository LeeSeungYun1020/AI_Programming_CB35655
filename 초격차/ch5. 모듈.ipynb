{
 "cells": [
  {
   "cell_type": "markdown",
   "metadata": {
    "collapsed": true,
    "pycharm": {
     "name": "#%% md\n"
    }
   },
   "source": [
    "# 모듈"
   ]
  },
  {
   "cell_type": "markdown",
   "source": [
    "## 모듈 임포트\n",
    "- 다양한 기능들이 함수로 구현되어 모듈 형태로 제공\n",
    "- requests, numpy, pandas"
   ],
   "metadata": {
    "collapsed": false
   }
  },
  {
   "cell_type": "code",
   "execution_count": 4,
   "outputs": [
    {
     "data": {
      "text/plain": "'<!doctype html><html itemscope=\"\" itemtype=\"http://schema.org/WebPage\" lang=\"ko\"><head><meta content=\"text/html; charset=UTF-8\" http-equiv=\"Content-Type\"><meta content=\"/images/branding/googleg/1x/googleg_standard_color_128dp.png\" itemprop=\"image\"><title>Google</title><script nonce=\"n/JzzzU4nS7Xfe819/RUDA==\">(function(){window.google={kEI:\\'c-lNYeCSJJLZ0ATjsAo\\',kEXPI:\\'0,1302536,56873,6059,206,4804,2316,383,246,5,1354,5250,1122516,1197759,329508,51223,16115,17444,11240,17572,4858,1362,9290,3029,17580,4020,978,13228,3847,4192,6431,19043,2778,920,2854,2226,1593,1279,2212,530,149,1103,840,1987,4310,4120,2023,1733,43,522,14669,3228,2844,7,5599,6755,5096,16320,908,2,941,2614,13142,3,346,230,6460,148,13975,4,1528,2304,1236,5226,577,4684,2014,13611,4764,2658,4242,2459,654,32,13628,1590,715,639,1493,16786,5773,2584,4094,3138,6,908,3,3541,1,8710,5553,447,1814,283,912,5992,16728,1715,2,14022,1931,6332,2350,3503,1576,3,472,1644,6768,1160,1286,78,5335,2381,2718,4026,2,518,3,4728,745,4635,3577,45,2,6,968,3935,2834,1932,2635,243,2704,2763,546,2072,1560,2,357,3,23,2,1,3,554,794,1264,265,633,1760,488,720,2,1464,2337,4,2240,1853,112,118,197,70,625,12,2847,350,977,258,539,849,95,1408,1265,59,1079,2,6,739,39,503,1120,375,79,103,2,142,264,41,1,3,843,257,715,8,462,1099,3,299,508,473,799,4,1550,599,1795,910,3,2,201,161,10,449,212,4,274,23,162,222,371,114,241,308,2002,593,5568402,190,256,73,88,45,1802683,4193460,520,2800696,882,444,1,2,80,1,1796,1,9,2553,1,748,141,795,563,1,4265,1,1,2,1331,4142,2609,155,17,13,72,139,4,2,20,2,169,13,19,46,5,39,96,548,29,2,2,1,2,1,2,2,7,4,1,2,2,2,2,2,2,353,513,186,1,1,158,3,2,2,2,2,2,4,2,3,3,269,551,5,7,4,4,5,2,10,14,28,10,25,2,6,3,6,4,3,6,38,5,2,1,41,1,1,1,1,13,23654059,299865,4041351,277,61,3,2414,448,2,1041,9,3243,1534,887,849,923,806207\\',kBL:\\'Uc7f\\'};google.sn=\\'webhp\\';google.kHL=\\'ko\\';})();(function(){\\nvar f=this||self;var h,k=[];function l(a){for(var b;a&&(!a.getAttribute||!(b=a.getAttribute(\"eid\")));)a=a.parentNode;return b||h}function m(a){for(var b=null;a&&(!a.getAttribute||!(b=a.getAttribute(\"leid\")));)a=a.parentNode;return b}\\nfunction n(a,b,c,d,g){var e=\"\";c||-1!==b.search(\"&ei=\")||(e=\"&ei=\"+l(d),-1===b.search(\"&lei=\")&&(d=m(d))&&(e+=\"&lei=\"+d));d=\"\";!c&&f._cshid&&-1===b.search(\"&cshid=\")&&\"slh\"!==a&&(d=\"&cshid=\"+f._cshid);c=c||\"/\"+(g||\"gen_204\")+\"?atyp=i&ct=\"+a+\"&cad=\"+b+e+\"&zx=\"+Date.now()+d;/^http:/i.test(c)&&\"https:\"===window.location.protocol&&(google.ml&&google.ml(Error(\"a\"),!1,{src:c,glmm:1}),c=\"\");return c};h=google.kEI;google.getEI=l;google.getLEI=m;google.ml=function(){return null};google.log=function(a,b,c,d,g){if(c=n(a,b,c,d,g)){a=new Image;var e=k.length;k[e]=a;a.onerror=a.onload=a.onabort=function(){delete k[e]};a.src=c}};google.logUrl=n;}).call(this);(function(){\\ngoogle.y={};google.sy=[];google.x=function(a,b){if(a)var c=a.id;else{do c=Math.random();while(google.y[c])}google.y[c]=[a,b];return!1};google.sx=function(a){google.sy.push(a)};google.lm=[];google.plm=function(a){google.lm.push.apply(google.lm,a)};google.lq=[];google.load=function(a,b,c){google.lq.push([[a],b,c])};google.loadAll=function(a,b){google.lq.push([a,b])};google.bx=!1;google.lx=function(){};}).call(this);google.f={};(function(){\\ndocument.documentElement.addEventListener(\"submit\",function(b){var a;if(a=b.target){var c=a.getAttribute(\"data-submitfalse\");a=\"1\"===c||\"q\"===c&&!a.elements.q.value?!0:!1}else a=!1;a&&(b.preventDefault(),b.stopPropagation())},!0);document.documentElement.addEventListener(\"click\",function(b){var a;a:{for(a=b.target;a&&a!==document.documentElement;a=a.parentElement)if(\"A\"===a.tagName){a=\"1\"===a.getAttribute(\"data-nohref\");break a}a=!1}a&&b.preventDefault()},!0);}).call(this);</script><style>#gbar,#guser{font-size:13px;padding-top:1px !important;}#gbar{height:22px}#guser{padding-bottom:7px !important;text-align:right}.gbh,.gbd{border-top:1px solid #c9d7f1;font-size:1px}.gbh{height:0;position:absolute;top:24px;width:100%}@media all{.gb1{height:22px;margin-right:.5em;vertical-align:top}#gbar{float:left}}a.gb1,a.gb4{text-decoration:underline !important}a.gb1,a.gb4{color:#00c !important}.gbi .gb4{color:#dd8e27 !important}.gbf .gb4{color:#900 !important}\\n</style><style>body,td,a,p,.h{font-family:&#44404;&#47548;,&#46027;&#50880;,arial,sans-serif}.ko{font-size:9pt}body{margin:0;overflow-y:scroll}#gog{padding:3px 8px 0}td{line-height:.8em}.gac_m td{line-height:17px}form{margin-bottom:20px}.h{color:#1558d6}em{font-weight:bold;font-style:normal}.lst{height:25px;width:496px}.gsfi,.lst{font:18px arial,sans-serif}.gsfs{font:17px arial,sans-serif}.ds{display:inline-box;display:inline-block;margin:3px 0 4px;margin-left:4px}input{font-family:inherit}body{background:#fff;color:#000}a{color:#4b11a8;text-decoration:none}a:hover,a:active{text-decoration:underline}.fl a{color:#1558d6}a:visited{color:#4b11a8}.sblc{padding-top:5px}.sblc a{display:block;margin:2px 0;margin-left:13px;font-size:11px}.lsbb{background:#f8f9fa;border:solid 1px;border-color:#dadce0 #70757a #70757a #dadce0;height:30px}.lsbb{display:block}#WqQANb a{display:inline-block;margin:0 12px}.lsb{background:url(/images/nav_logo229.png) 0 -261px repeat-x;border:none;color:#000;cursor:pointer;height:30px;margin:0;outline:0;font:15px arial,sans-serif;vertical-align:top}.lsb:active{background:#dadce0}.lst:focus{outline:none}.tiah{width:458px}</style><script nonce=\"n/JzzzU4nS7Xfe819/RUDA==\">(function(){window.google.erd={sp:\\'hp\\',jsr:0,bv:1448};\\nvar f=this||self;var g,h,k=null!==(g=f.mei)&&void 0!==g?g:1,l=null!==(h=f.sdo)&&void 0!==h?h:!0,n=0,p,q=google.erd,t=q.jsr;google.ml=function(a,b,e,m,d){d=void 0===d?2:d;b&&(p=a&&a.message);if(google.dl)return google.dl(a,d,e),null;if(0>t){window.console&&console.error(a,e);if(-2===t)throw a;b=!1}else b=!a||!a.message||\"Error loading script\"===a.message||n>=k&&!m?!1:!0;if(!b)return null;n++;e=e||{};b=encodeURIComponent;var c=\"/gen_204?atyp=i&ei=\"+b(google.kEI);google.kEXPI&&(c+=\"&jexpid=\"+b(google.kEXPI));c+=\"&srcpg=\"+b(q.sp)+\"&jsr=\"+b(q.jsr)+\"&bver=\"+b(q.bv)+(\"&jsel=\"+d);c+=\"&sn=\"+b(google.sn);for(var r in e)c+=\"&\",c+=b(r),c+=\"=\",c+=b(e[r]);c=c+\"&emsg=\"+b(a.name+\": \"+a.message);c=c+\"&jsst=\"+b(a.stack||\"N/A\");12288<=c.length&&(c=c.substr(0,12288));a=c;m||google.log(0,\"\",a);return a};window.onerror=function(a,b,e,m,d){p!==a&&google.ml(d instanceof Error?d:Error(a),!1,void 0,!1,google.dl?0:2);p=null;l&&n>=k&&(window.onerror=null)};})();</script></head><body bgcolor=\"#fff\"><script nonce=\"n/JzzzU4nS7Xfe819/RUDA==\">(function(){var src=\\'/images/nav_logo229.png\\';var iesg=false;document.body.onload = function(){window.n && window.n();if (document.images){new Image().src=src;}\\nif (!iesg){document.f&&document.f.q.focus();document.gbqf&&document.gbqf.q.focus();}\\n}\\n})();</script><div id=\"mngb\"><div id=gbar><nobr><b class=gb1>&#44160;&#49353;</b> <a class=gb1 href=\"http://www.google.co.kr/imghp?hl=ko&tab=wi\">&#51060;&#48120;&#51648;</a> <a class=gb1 href=\"http://maps.google.co.kr/maps?hl=ko&tab=wl\">&#51648;&#46020;</a> <a class=gb1 href=\"https://play.google.com/?hl=ko&tab=w8\">Play</a> <a class=gb1 href=\"http://www.youtube.com/?gl=KR&tab=w1\">YouTube</a> <a class=gb1 href=\"https://news.google.com/?tab=wn\">&#45684;&#49828;</a> <a class=gb1 href=\"https://mail.google.com/mail/?tab=wm\">Gmail</a> <a class=gb1 href=\"https://drive.google.com/?tab=wo\">&#46300;&#46972;&#51060;&#48652;</a> <a class=gb1 style=\"text-decoration:none\" href=\"https://www.google.co.kr/intl/ko/about/products?tab=wh\"><u>&#45908;&#48372;&#44592;</u> &raquo;</a></nobr></div><div id=guser width=100%><nobr><span id=gbn class=gbi></span><span id=gbf class=gbf></span><span id=gbe></span><a href=\"http://www.google.co.kr/history/optout?hl=ko\" class=gb4>&#50937; &#44592;&#47197;</a> | <a  href=\"/preferences?hl=ko\" class=gb4>&#49444;&#51221;</a> | <a target=_top id=gb_70 href=\"https://accounts.google.com/ServiceLogin?hl=ko&passive=true&continue=http://www.google.com/&ec=GAZAAQ\" class=gb4>&#47196;&#44536;&#51064;</a></nobr></div><div class=gbh style=left:0></div><div class=gbh style=right:0></div></div><center><br clear=\"all\" id=\"lgpd\"><div id=\"lga\"><img alt=\"Google\" height=\"92\" src=\"/images/branding/googlelogo/1x/googlelogo_white_background_color_272x92dp.png\" style=\"padding:28px 0 14px\" width=\"272\" id=\"hplogo\"><br><br></div><form action=\"/search\" name=\"f\"><table cellpadding=\"0\" cellspacing=\"0\"><tr valign=\"top\"><td width=\"25%\">&nbsp;</td><td align=\"center\" nowrap=\"\"><input name=\"ie\" value=\"ISO-8859-1\" type=\"hidden\"><input value=\"ko\" name=\"hl\" type=\"hidden\"><input name=\"source\" type=\"hidden\" value=\"hp\"><input name=\"biw\" type=\"hidden\"><input name=\"bih\" type=\"hidden\"><div class=\"ds\" style=\"height:32px;margin:4px 0\"><div style=\"position:relative;zoom:1\"><input class=\"lst tiah\" style=\"margin:0;padding:5px 8px 0 6px;vertical-align:top;color:#000;padding-right:38px\" autocomplete=\"off\" value=\"\" title=\"Google &#44160;&#49353;\" maxlength=\"2048\" name=\"q\" size=\"57\"><img src=\"/textinputassistant/tia.png\" style=\"position:absolute;cursor:pointer;right:5px;top:4px;z-index:300\" data-script-url=\"/textinputassistant/11/ko_tia.js\" id=\"tsuid1\" alt=\"\" height=\"23\" width=\"27\"><script nonce=\"n/JzzzU4nS7Xfe819/RUDA==\">(function(){var id=\\'tsuid1\\';document.getElementById(id).onclick = function(){var s = document.createElement(\\'script\\');s.src = this.getAttribute(\\'data-script-url\\');(document.getElementById(\\'xjsc\\')||document.body).appendChild(s);};})();</script></div></div><br style=\"line-height:0\"><span class=\"ds\"><span class=\"lsbb\"><input class=\"lsb\" value=\"Google &#44160;&#49353;\" name=\"btnG\" type=\"submit\"></span></span><span class=\"ds\"><span class=\"lsbb\"><input class=\"lsb\" id=\"tsuid2\" value=\"I&#8217;m Feeling Lucky\" name=\"btnI\" type=\"submit\"><script nonce=\"n/JzzzU4nS7Xfe819/RUDA==\">(function(){var id=\\'tsuid2\\';document.getElementById(id).onclick = function(){if (this.form.q.value){this.checked = 1;if (this.form.iflsig)this.form.iflsig.disabled = false;}\\nelse top.location=\\'/doodles/\\';};})();</script><input value=\"ALs-wAMAAAAAYU33g4GmIa5B9zkT-zFqeJpeTNKBZj2Z\" name=\"iflsig\" type=\"hidden\"></span></span></td><td class=\"fl sblc\" align=\"left\" nowrap=\"\" width=\"25%\"><a href=\"/advanced_search?hl=ko&amp;authuser=0\">&#44256;&#44553;&#44160;&#49353;</a></td></tr></table><input id=\"gbv\" name=\"gbv\" type=\"hidden\" value=\"1\"><script nonce=\"n/JzzzU4nS7Xfe819/RUDA==\">(function(){\\nvar a,b=\"1\";if(document&&document.getElementById)if(\"undefined\"!=typeof XMLHttpRequest)b=\"2\";else if(\"undefined\"!=typeof ActiveXObject){var c,d,e=[\"MSXML2.XMLHTTP.6.0\",\"MSXML2.XMLHTTP.3.0\",\"MSXML2.XMLHTTP\",\"Microsoft.XMLHTTP\"];for(c=0;d=e[c++];)try{new ActiveXObject(d),b=\"2\"}catch(h){}}a=b;if(\"2\"==a&&-1==location.search.indexOf(\"&gbv=2\")){var f=google.gbvu,g=document.getElementById(\"gbv\");g&&(g.value=a);f&&window.setTimeout(function(){location.href=f},0)};}).call(this);</script></form><div id=\"gac_scont\"></div><div style=\"font-size:83%;min-height:3.5em\"><br></div><span id=\"footer\"><div style=\"font-size:10pt\"><div style=\"margin:19px auto;text-align:center\" id=\"WqQANb\"><a href=\"/intl/ko/ads/\">&#44305;&#44256; &#54532;&#47196;&#44536;&#47016;</a><a href=\"http://www.google.co.kr/intl/ko/services/\">&#48708;&#51592;&#45768;&#49828; &#49556;&#47336;&#49496;</a><a href=\"/intl/ko/about.html\">Google &#51221;&#48372;</a><a href=\"http://www.google.com/setprefdomain?prefdom=KR&amp;prev=http://www.google.co.kr/&amp;sig=K_4th0M_7NgChia9JN7Zdxk1Sepjw%3D\">Google.co.kr</a></div></div><p style=\"font-size:8pt;color:#70757a\">&copy; 2021 - <a href=\"/intl/ko/policies/privacy/\">&#44060;&#51064;&#51221;&#48372;&#52376;&#47532;&#48169;&#52840;</a> - <a href=\"/intl/ko/policies/terms/\">&#50557;&#44288;</a></p></span></center><script nonce=\"n/JzzzU4nS7Xfe819/RUDA==\">(function(){window.google.cdo={height:757,width:1440};(function(){\\nvar a=window.innerWidth,b=window.innerHeight;if(!a||!b){var c=window.document,d=\"CSS1Compat\"==c.compatMode?c.documentElement:c.body;a=d.clientWidth;b=d.clientHeight}a&&b&&(a!=google.cdo.width||b!=google.cdo.height)&&google.log(\"\",\"\",\"/client_204?&atyp=i&biw=\"+a+\"&bih=\"+b+\"&ei=\"+google.kEI);}).call(this);})();</script> <script nonce=\"n/JzzzU4nS7Xfe819/RUDA==\">(function(){google.xjs={ck:\\'\\',cs:\\'\\',excm:[]};})();</script>  <script nonce=\"n/JzzzU4nS7Xfe819/RUDA==\">(function(){var u=\\'/xjs/_/js/k\\\\x3dxjs.hp.en.qJ5CJtc5VR0.O/am\\\\x3dAPgEWA/d\\\\x3d1/ed\\\\x3d1/rs\\\\x3dACT90oG4cthJQIKYKpDJcGzn-IAYY8zOxQ/m\\\\x3dsb_he,d\\';\\nvar e=this||self,f=function(a){return a};var g;var l=function(a,b){this.g=b===h?a:\"\"};l.prototype.toString=function(){return this.g+\"\"};var h={};\\nfunction m(){var a=u;google.lx=function(){n(a);google.lx=function(){}};google.bx||google.lx()}\\nfunction n(a){google.timers&&google.timers.load&&google.tick&&google.tick(\"load\",\"xjsls\");var b=document;var c=\"SCRIPT\";\"application/xhtml+xml\"===b.contentType&&(c=c.toLowerCase());c=b.createElement(c);if(void 0===g){b=null;var k=e.trustedTypes;if(k&&k.createPolicy){try{b=k.createPolicy(\"goog#html\",{createHTML:f,createScript:f,createScriptURL:f})}catch(p){e.console&&e.console.error(p.message)}g=b}else g=b}a=(b=g)?b.createScriptURL(a):a;a=new l(a,h);c.src=a instanceof l&&a.constructor===l?a.g:\"type_error:TrustedResourceUrl\";var d;a=(c.ownerDocument&&c.ownerDocument.defaultView||window).document;(d=(b=null===(d=a.querySelector)||void 0===d?void 0:d.call(a,\"script[nonce]\"))?b.nonce||b.getAttribute(\"nonce\")||\"\":\"\")&&c.setAttribute(\"nonce\",d);document.body.appendChild(c);google.psa=!0};setTimeout(function(){m()},0);})();(function(){window.google.xjsu=\\'/xjs/_/js/k\\\\x3dxjs.hp.en.qJ5CJtc5VR0.O/am\\\\x3dAPgEWA/d\\\\x3d1/ed\\\\x3d1/rs\\\\x3dACT90oG4cthJQIKYKpDJcGzn-IAYY8zOxQ/m\\\\x3dsb_he,d\\';})();function _DumpException(e){throw e;}\\nfunction _F_installCss(c){}\\n(function(){google.jl={attn:false,blt:\\'none\\',chnk:0,dw:false,dwu:false,emtn:0,end:0,ine:false,lls:\\'default\\',pdt:0,rep:0,snet:true,strt:0,ubm:false,uwp:true};})();(function(){var pmc=\\'{\\\\x22d\\\\x22:{},\\\\x22sb_he\\\\x22:{\\\\x22agen\\\\x22:true,\\\\x22cgen\\\\x22:true,\\\\x22client\\\\x22:\\\\x22heirloom-hp\\\\x22,\\\\x22dh\\\\x22:true,\\\\x22dhqt\\\\x22:true,\\\\x22ds\\\\x22:\\\\x22\\\\x22,\\\\x22ffql\\\\x22:\\\\x22ko\\\\x22,\\\\x22fl\\\\x22:true,\\\\x22host\\\\x22:\\\\x22google.com\\\\x22,\\\\x22isbh\\\\x22:28,\\\\x22jsonp\\\\x22:true,\\\\x22msgs\\\\x22:{\\\\x22cibl\\\\x22:\\\\x22&#44160;&#49353;&#50612; &#51648;&#50864;&#44592;\\\\x22,\\\\x22dym\\\\x22:\\\\x22&#51060;&#44163;&#51012; &#52286;&#51004;&#49512;&#45208;&#50836;?\\\\x22,\\\\x22lcky\\\\x22:\\\\x22I&#8217;m Feeling Lucky\\\\x22,\\\\x22lml\\\\x22:\\\\x22&#51088;&#49464;&#55176; &#50508;&#50500;&#48372;&#44592;\\\\x22,\\\\x22oskt\\\\x22:\\\\x22&#51077;&#47141; &#46020;&#44396;\\\\x22,\\\\x22psrc\\\\x22:\\\\x22&#44160;&#49353;&#50612;&#44032; \\\\\\\\u003Ca href\\\\x3d\\\\\\\\\\\\x22/history\\\\\\\\\\\\x22\\\\\\\\u003E&#50937; &#44592;&#47197;\\\\\\\\u003C/a\\\\\\\\u003E&#50640;&#49436; &#49325;&#51228;&#46104;&#50632;&#49845;&#45768;&#45796;.\\\\x22,\\\\x22psrl\\\\x22:\\\\x22&#49325;&#51228;\\\\x22,\\\\x22sbit\\\\x22:\\\\x22&#51060;&#48120;&#51648;&#47196; &#44160;&#49353;\\\\x22,\\\\x22srch\\\\x22:\\\\x22Google &#44160;&#49353;\\\\x22},\\\\x22ovr\\\\x22:{},\\\\x22pq\\\\x22:\\\\x22\\\\x22,\\\\x22refpd\\\\x22:true,\\\\x22refspre\\\\x22:true,\\\\x22rfs\\\\x22:[],\\\\x22sbas\\\\x22:\\\\x220 3px 8px 0 rgba(0,0,0,0.2),0 0 0 1px rgba(0,0,0,0.08)\\\\x22,\\\\x22sbpl\\\\x22:16,\\\\x22sbpr\\\\x22:16,\\\\x22scd\\\\x22:10,\\\\x22stok\\\\x22:\\\\x22iUfRelxFxII3wSMPt7drRsC8tto\\\\x22,\\\\x22uhde\\\\x22:false}}\\';google.pmc=JSON.parse(pmc);})();</script>        </body></html>'"
     },
     "execution_count": 4,
     "metadata": {},
     "output_type": "execute_result"
    }
   ],
   "source": [
    "import requests\n",
    "resp = requests.get('http://www.google.com')\n",
    "resp.text"
   ],
   "metadata": {
    "collapsed": false,
    "pycharm": {
     "name": "#%%\n"
    }
   }
  },
  {
   "cell_type": "markdown",
   "source": [
    "## import -"
   ],
   "metadata": {
    "collapsed": false
   }
  },
  {
   "cell_type": "code",
   "execution_count": 5,
   "outputs": [],
   "source": [
    "import math"
   ],
   "metadata": {
    "collapsed": false,
    "pycharm": {
     "name": "#%%\n"
    }
   }
  },
  {
   "cell_type": "code",
   "execution_count": 6,
   "outputs": [
    {
     "data": {
      "text/plain": "3.141592653589793"
     },
     "execution_count": 6,
     "metadata": {},
     "output_type": "execute_result"
    }
   ],
   "source": [
    "math.pi\n"
   ],
   "metadata": {
    "collapsed": false,
    "pycharm": {
     "name": "#%%\n"
    }
   }
  },
  {
   "cell_type": "code",
   "execution_count": 8,
   "outputs": [
    {
     "data": {
      "text/plain": "-1.0"
     },
     "execution_count": 8,
     "metadata": {},
     "output_type": "execute_result"
    }
   ],
   "source": [
    "math.cos(math.pi)"
   ],
   "metadata": {
    "collapsed": false,
    "pycharm": {
     "name": "#%%\n"
    }
   }
  },
  {
   "cell_type": "markdown",
   "source": [
    "## from - import\n",
    "- 모듈에서 특정 부분만 import"
   ],
   "metadata": {
    "collapsed": false
   }
  },
  {
   "cell_type": "code",
   "execution_count": 13,
   "outputs": [],
   "source": [
    "from math import pi\n",
    "from math import cos"
   ],
   "metadata": {
    "collapsed": false,
    "pycharm": {
     "name": "#%%\n"
    }
   }
  },
  {
   "cell_type": "code",
   "execution_count": 14,
   "outputs": [
    {
     "data": {
      "text/plain": "3.141592653589793"
     },
     "execution_count": 14,
     "metadata": {},
     "output_type": "execute_result"
    }
   ],
   "source": [
    "pi"
   ],
   "metadata": {
    "collapsed": false,
    "pycharm": {
     "name": "#%%\n"
    }
   }
  },
  {
   "cell_type": "code",
   "execution_count": 15,
   "outputs": [
    {
     "data": {
      "text/plain": "-1.0"
     },
     "execution_count": 15,
     "metadata": {},
     "output_type": "execute_result"
    }
   ],
   "source": [
    "cos(pi)"
   ],
   "metadata": {
    "collapsed": false,
    "pycharm": {
     "name": "#%%\n"
    }
   }
  },
  {
   "cell_type": "markdown",
   "source": [
    "## from - import *\n",
    "- 모듈내 정의된 모든 것 import\n",
    "- 권장 X"
   ],
   "metadata": {
    "collapsed": false
   }
  },
  {
   "cell_type": "code",
   "execution_count": 16,
   "outputs": [],
   "source": [
    "from math import *"
   ],
   "metadata": {
    "collapsed": false,
    "pycharm": {
     "name": "#%%\n"
    }
   }
  },
  {
   "cell_type": "code",
   "execution_count": 18,
   "outputs": [
    {
     "data": {
      "text/plain": "-2.4492935982947064e-16"
     },
     "execution_count": 18,
     "metadata": {},
     "output_type": "execute_result"
    }
   ],
   "source": [
    "sin(2 * pi)"
   ],
   "metadata": {
    "collapsed": false,
    "pycharm": {
     "name": "#%%\n"
    }
   }
  },
  {
   "cell_type": "code",
   "execution_count": 19,
   "outputs": [
    {
     "data": {
      "text/plain": "2.718281828459045"
     },
     "execution_count": 19,
     "metadata": {},
     "output_type": "execute_result"
    }
   ],
   "source": [
    "e"
   ],
   "metadata": {
    "collapsed": false,
    "pycharm": {
     "name": "#%%\n"
    }
   }
  },
  {
   "cell_type": "markdown",
   "source": [
    "## import - as alias\n",
    "- alias 별명 지정 가능"
   ],
   "metadata": {
    "collapsed": false
   }
  },
  {
   "cell_type": "code",
   "execution_count": 20,
   "outputs": [],
   "source": [
    "import math as m"
   ],
   "metadata": {
    "collapsed": false,
    "pycharm": {
     "name": "#%%\n"
    }
   }
  },
  {
   "cell_type": "code",
   "execution_count": 21,
   "outputs": [
    {
     "data": {
      "text/plain": "2.718281828459045"
     },
     "execution_count": 21,
     "metadata": {},
     "output_type": "execute_result"
    }
   ],
   "source": [
    "m.e"
   ],
   "metadata": {
    "collapsed": false,
    "pycharm": {
     "name": "#%%\n"
    }
   }
  }
 ],
 "metadata": {
  "kernelspec": {
   "display_name": "Python 3",
   "language": "python",
   "name": "python3"
  },
  "language_info": {
   "codemirror_mode": {
    "name": "ipython",
    "version": 2
   },
   "file_extension": ".py",
   "mimetype": "text/x-python",
   "name": "python",
   "nbconvert_exporter": "python",
   "pygments_lexer": "ipython2",
   "version": "2.7.6"
  }
 },
 "nbformat": 4,
 "nbformat_minor": 0
}