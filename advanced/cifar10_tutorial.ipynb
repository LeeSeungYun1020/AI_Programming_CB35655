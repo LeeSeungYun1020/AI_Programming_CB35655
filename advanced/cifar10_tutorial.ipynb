{
  "nbformat": 4,
  "nbformat_minor": 0,
  "metadata": {
    "kernelspec": {
      "display_name": "Python 3",
      "language": "python",
      "name": "python3"
    },
    "language_info": {
      "codemirror_mode": {
        "name": "ipython",
        "version": 3
      },
      "file_extension": ".py",
      "mimetype": "text/x-python",
      "name": "python",
      "nbconvert_exporter": "python",
      "pygments_lexer": "ipython3",
      "version": "3.6.13"
    },
    "colab": {
      "name": "cifar10_tutorial.ipynb",
      "provenance": []
    },
    "accelerator": "GPU",
    "widgets": {
      "application/vnd.jupyter.widget-state+json": {
        "d55990633f274bfc918d2ea41ad8ea2a": {
          "model_module": "@jupyter-widgets/controls",
          "model_name": "HBoxModel",
          "model_module_version": "1.5.0",
          "state": {
            "_view_name": "HBoxView",
            "_dom_classes": [],
            "_model_name": "HBoxModel",
            "_view_module": "@jupyter-widgets/controls",
            "_model_module_version": "1.5.0",
            "_view_count": null,
            "_view_module_version": "1.5.0",
            "box_style": "",
            "layout": "IPY_MODEL_9c027702697840e58e88fdd376b21378",
            "_model_module": "@jupyter-widgets/controls",
            "children": [
              "IPY_MODEL_d7a852fc3840426c8cb8bacc63303b70",
              "IPY_MODEL_ecd35524003548d7a5628f9f6df0ae24",
              "IPY_MODEL_4d30a17642364f34babd54d2204ea032"
            ]
          }
        },
        "9c027702697840e58e88fdd376b21378": {
          "model_module": "@jupyter-widgets/base",
          "model_name": "LayoutModel",
          "model_module_version": "1.2.0",
          "state": {
            "_view_name": "LayoutView",
            "grid_template_rows": null,
            "right": null,
            "justify_content": null,
            "_view_module": "@jupyter-widgets/base",
            "overflow": null,
            "_model_module_version": "1.2.0",
            "_view_count": null,
            "flex_flow": null,
            "width": null,
            "min_width": null,
            "border": null,
            "align_items": null,
            "bottom": null,
            "_model_module": "@jupyter-widgets/base",
            "top": null,
            "grid_column": null,
            "overflow_y": null,
            "overflow_x": null,
            "grid_auto_flow": null,
            "grid_area": null,
            "grid_template_columns": null,
            "flex": null,
            "_model_name": "LayoutModel",
            "justify_items": null,
            "grid_row": null,
            "max_height": null,
            "align_content": null,
            "visibility": null,
            "align_self": null,
            "height": null,
            "min_height": null,
            "padding": null,
            "grid_auto_rows": null,
            "grid_gap": null,
            "max_width": null,
            "order": null,
            "_view_module_version": "1.2.0",
            "grid_template_areas": null,
            "object_position": null,
            "object_fit": null,
            "grid_auto_columns": null,
            "margin": null,
            "display": null,
            "left": null
          }
        },
        "d7a852fc3840426c8cb8bacc63303b70": {
          "model_module": "@jupyter-widgets/controls",
          "model_name": "HTMLModel",
          "model_module_version": "1.5.0",
          "state": {
            "_view_name": "HTMLView",
            "style": "IPY_MODEL_cf95c295545e44f7a76523bd4125e149",
            "_dom_classes": [],
            "description": "",
            "_model_name": "HTMLModel",
            "placeholder": "​",
            "_view_module": "@jupyter-widgets/controls",
            "_model_module_version": "1.5.0",
            "value": "",
            "_view_count": null,
            "_view_module_version": "1.5.0",
            "description_tooltip": null,
            "_model_module": "@jupyter-widgets/controls",
            "layout": "IPY_MODEL_181833de02284ce5990ca14d7598455e"
          }
        },
        "ecd35524003548d7a5628f9f6df0ae24": {
          "model_module": "@jupyter-widgets/controls",
          "model_name": "FloatProgressModel",
          "model_module_version": "1.5.0",
          "state": {
            "_view_name": "ProgressView",
            "style": "IPY_MODEL_166bed78d4974ae59ea9460079ce7c5c",
            "_dom_classes": [],
            "description": "",
            "_model_name": "FloatProgressModel",
            "bar_style": "success",
            "max": 170498071,
            "_view_module": "@jupyter-widgets/controls",
            "_model_module_version": "1.5.0",
            "value": 170498071,
            "_view_count": null,
            "_view_module_version": "1.5.0",
            "orientation": "horizontal",
            "min": 0,
            "description_tooltip": null,
            "_model_module": "@jupyter-widgets/controls",
            "layout": "IPY_MODEL_4af29f27304346d490cb92f3598a6be4"
          }
        },
        "4d30a17642364f34babd54d2204ea032": {
          "model_module": "@jupyter-widgets/controls",
          "model_name": "HTMLModel",
          "model_module_version": "1.5.0",
          "state": {
            "_view_name": "HTMLView",
            "style": "IPY_MODEL_d3b9e6631a48459ba9510f36035c14a7",
            "_dom_classes": [],
            "description": "",
            "_model_name": "HTMLModel",
            "placeholder": "​",
            "_view_module": "@jupyter-widgets/controls",
            "_model_module_version": "1.5.0",
            "value": " 170499072/? [00:03&lt;00:00, 57964017.95it/s]",
            "_view_count": null,
            "_view_module_version": "1.5.0",
            "description_tooltip": null,
            "_model_module": "@jupyter-widgets/controls",
            "layout": "IPY_MODEL_6a037f1eb0a547d18fd2bba93018a947"
          }
        },
        "cf95c295545e44f7a76523bd4125e149": {
          "model_module": "@jupyter-widgets/controls",
          "model_name": "DescriptionStyleModel",
          "model_module_version": "1.5.0",
          "state": {
            "_view_name": "StyleView",
            "_model_name": "DescriptionStyleModel",
            "description_width": "",
            "_view_module": "@jupyter-widgets/base",
            "_model_module_version": "1.5.0",
            "_view_count": null,
            "_view_module_version": "1.2.0",
            "_model_module": "@jupyter-widgets/controls"
          }
        },
        "181833de02284ce5990ca14d7598455e": {
          "model_module": "@jupyter-widgets/base",
          "model_name": "LayoutModel",
          "model_module_version": "1.2.0",
          "state": {
            "_view_name": "LayoutView",
            "grid_template_rows": null,
            "right": null,
            "justify_content": null,
            "_view_module": "@jupyter-widgets/base",
            "overflow": null,
            "_model_module_version": "1.2.0",
            "_view_count": null,
            "flex_flow": null,
            "width": null,
            "min_width": null,
            "border": null,
            "align_items": null,
            "bottom": null,
            "_model_module": "@jupyter-widgets/base",
            "top": null,
            "grid_column": null,
            "overflow_y": null,
            "overflow_x": null,
            "grid_auto_flow": null,
            "grid_area": null,
            "grid_template_columns": null,
            "flex": null,
            "_model_name": "LayoutModel",
            "justify_items": null,
            "grid_row": null,
            "max_height": null,
            "align_content": null,
            "visibility": null,
            "align_self": null,
            "height": null,
            "min_height": null,
            "padding": null,
            "grid_auto_rows": null,
            "grid_gap": null,
            "max_width": null,
            "order": null,
            "_view_module_version": "1.2.0",
            "grid_template_areas": null,
            "object_position": null,
            "object_fit": null,
            "grid_auto_columns": null,
            "margin": null,
            "display": null,
            "left": null
          }
        },
        "166bed78d4974ae59ea9460079ce7c5c": {
          "model_module": "@jupyter-widgets/controls",
          "model_name": "ProgressStyleModel",
          "model_module_version": "1.5.0",
          "state": {
            "_view_name": "StyleView",
            "_model_name": "ProgressStyleModel",
            "description_width": "",
            "_view_module": "@jupyter-widgets/base",
            "_model_module_version": "1.5.0",
            "_view_count": null,
            "_view_module_version": "1.2.0",
            "bar_color": null,
            "_model_module": "@jupyter-widgets/controls"
          }
        },
        "4af29f27304346d490cb92f3598a6be4": {
          "model_module": "@jupyter-widgets/base",
          "model_name": "LayoutModel",
          "model_module_version": "1.2.0",
          "state": {
            "_view_name": "LayoutView",
            "grid_template_rows": null,
            "right": null,
            "justify_content": null,
            "_view_module": "@jupyter-widgets/base",
            "overflow": null,
            "_model_module_version": "1.2.0",
            "_view_count": null,
            "flex_flow": null,
            "width": null,
            "min_width": null,
            "border": null,
            "align_items": null,
            "bottom": null,
            "_model_module": "@jupyter-widgets/base",
            "top": null,
            "grid_column": null,
            "overflow_y": null,
            "overflow_x": null,
            "grid_auto_flow": null,
            "grid_area": null,
            "grid_template_columns": null,
            "flex": null,
            "_model_name": "LayoutModel",
            "justify_items": null,
            "grid_row": null,
            "max_height": null,
            "align_content": null,
            "visibility": null,
            "align_self": null,
            "height": null,
            "min_height": null,
            "padding": null,
            "grid_auto_rows": null,
            "grid_gap": null,
            "max_width": null,
            "order": null,
            "_view_module_version": "1.2.0",
            "grid_template_areas": null,
            "object_position": null,
            "object_fit": null,
            "grid_auto_columns": null,
            "margin": null,
            "display": null,
            "left": null
          }
        },
        "d3b9e6631a48459ba9510f36035c14a7": {
          "model_module": "@jupyter-widgets/controls",
          "model_name": "DescriptionStyleModel",
          "model_module_version": "1.5.0",
          "state": {
            "_view_name": "StyleView",
            "_model_name": "DescriptionStyleModel",
            "description_width": "",
            "_view_module": "@jupyter-widgets/base",
            "_model_module_version": "1.5.0",
            "_view_count": null,
            "_view_module_version": "1.2.0",
            "_model_module": "@jupyter-widgets/controls"
          }
        },
        "6a037f1eb0a547d18fd2bba93018a947": {
          "model_module": "@jupyter-widgets/base",
          "model_name": "LayoutModel",
          "model_module_version": "1.2.0",
          "state": {
            "_view_name": "LayoutView",
            "grid_template_rows": null,
            "right": null,
            "justify_content": null,
            "_view_module": "@jupyter-widgets/base",
            "overflow": null,
            "_model_module_version": "1.2.0",
            "_view_count": null,
            "flex_flow": null,
            "width": null,
            "min_width": null,
            "border": null,
            "align_items": null,
            "bottom": null,
            "_model_module": "@jupyter-widgets/base",
            "top": null,
            "grid_column": null,
            "overflow_y": null,
            "overflow_x": null,
            "grid_auto_flow": null,
            "grid_area": null,
            "grid_template_columns": null,
            "flex": null,
            "_model_name": "LayoutModel",
            "justify_items": null,
            "grid_row": null,
            "max_height": null,
            "align_content": null,
            "visibility": null,
            "align_self": null,
            "height": null,
            "min_height": null,
            "padding": null,
            "grid_auto_rows": null,
            "grid_gap": null,
            "max_width": null,
            "order": null,
            "_view_module_version": "1.2.0",
            "grid_template_areas": null,
            "object_position": null,
            "object_fit": null,
            "grid_auto_columns": null,
            "margin": null,
            "display": null,
            "left": null
          }
        }
      }
    }
  },
  "cells": [
    {
      "cell_type": "code",
      "metadata": {
        "id": "CNmr3ScnBLyq"
      },
      "source": [
        "%matplotlib inline"
      ],
      "execution_count": null,
      "outputs": []
    },
    {
      "cell_type": "markdown",
      "metadata": {
        "id": "GzWr9XDIBLyt"
      },
      "source": [
        "\n",
        "Training a Classifier\n",
        "=====================\n",
        "\n",
        "This is it. You have seen how to define neural networks, compute loss and make\n",
        "updates to the weights of the network.\n",
        "\n",
        "Now you might be thinking,\n",
        "\n",
        "What about data?\n",
        "----------------\n",
        "\n",
        "Generally, when you have to deal with image, text, audio or video data,\n",
        "you can use standard python packages that load data into a numpy array.\n",
        "Then you can convert this array into a ``torch.*Tensor``.\n",
        "\n",
        "-  For images, packages such as Pillow, OpenCV are useful\n",
        "-  For audio, packages such as scipy and librosa\n",
        "-  For text, either raw Python or Cython based loading, or NLTK and\n",
        "   SpaCy are useful\n",
        "\n",
        "Specifically for vision, we have created a package called\n",
        "``torchvision``, that has data loaders for common datasets such as\n",
        "ImageNet, CIFAR10, MNIST, etc. and data transformers for images, viz.,\n",
        "``torchvision.datasets`` and ``torch.utils.data.DataLoader``.\n",
        "\n",
        "This provides a huge convenience and avoids writing boilerplate code.\n",
        "\n",
        "For this tutorial, we will use the CIFAR10 dataset.\n",
        "It has the classes: ‘airplane’, ‘automobile’, ‘bird’, ‘cat’, ‘deer’,\n",
        "‘dog’, ‘frog’, ‘horse’, ‘ship’, ‘truck’. The images in CIFAR-10 are of\n",
        "size 3x32x32, i.e. 3-channel color images of 32x32 pixels in size.\n",
        "\n",
        ".. figure:: /_static/img/cifar10.png\n",
        "   :alt: cifar10\n",
        "\n",
        "   cifar10\n",
        "\n",
        "\n",
        "Training an image classifier\n",
        "----------------------------\n",
        "\n",
        "We will do the following steps in order:\n",
        "\n",
        "1. Load and normalize the CIFAR10 training and test datasets using\n",
        "   ``torchvision``\n",
        "2. Define a Convolutional Neural Network\n",
        "3. Define a loss function\n",
        "4. Train the network on the training data\n",
        "5. Test the network on the test data\n",
        "\n",
        "1. Load and normalize CIFAR10\n",
        "^^^^^^^^^^^^^^^^^^^^^^^^^^^^^\n",
        "\n",
        "Using ``torchvision``, it’s extremely easy to load CIFAR10.\n",
        "\n"
      ]
    },
    {
      "cell_type": "code",
      "metadata": {
        "id": "r8l2oMf_BLyx"
      },
      "source": [
        "import torch\n",
        "import torchvision\n",
        "import torchvision.transforms as transforms"
      ],
      "execution_count": null,
      "outputs": []
    },
    {
      "cell_type": "markdown",
      "metadata": {
        "id": "iVDeCxfuBLyy"
      },
      "source": [
        "The output of torchvision datasets are PILImage images of range [0, 1].\n",
        "We transform them to Tensors of normalized range [-1, 1].\n",
        "\n"
      ]
    },
    {
      "cell_type": "markdown",
      "metadata": {
        "id": "gsyksdvBBLyy"
      },
      "source": [
        "<div class=\"alert alert-info\"><h4>Note</h4><p>If running on Windows and you get a BrokenPipeError, try setting\n",
        "    the num_worker of torch.utils.data.DataLoader() to 0.</p></div>\n",
        "\n"
      ]
    },
    {
      "cell_type": "code",
      "metadata": {
        "id": "fZplNSvoBLyz",
        "colab": {
          "base_uri": "https://localhost:8080/",
          "height": 105,
          "referenced_widgets": [
            "d55990633f274bfc918d2ea41ad8ea2a",
            "9c027702697840e58e88fdd376b21378",
            "d7a852fc3840426c8cb8bacc63303b70",
            "ecd35524003548d7a5628f9f6df0ae24",
            "4d30a17642364f34babd54d2204ea032",
            "cf95c295545e44f7a76523bd4125e149",
            "181833de02284ce5990ca14d7598455e",
            "166bed78d4974ae59ea9460079ce7c5c",
            "4af29f27304346d490cb92f3598a6be4",
            "d3b9e6631a48459ba9510f36035c14a7",
            "6a037f1eb0a547d18fd2bba93018a947"
          ]
        },
        "outputId": "3d9d377a-e128-48ce-e40a-8fc3fef3f0e2"
      },
      "source": [
        "transform = transforms.Compose(\n",
        "    [transforms.ToTensor(),\n",
        "     transforms.Normalize((0.5, 0.5, 0.5), (0.5, 0.5, 0.5))])\n",
        "# 0.5 빼고 0.5로 나눔\n",
        "\n",
        "batch_size = 4\n",
        "# 몇 장을 하나의 batch로 사용할 것인가?\n",
        "\n",
        "trainset = torchvision.datasets.CIFAR10(root='./data', train=True,\n",
        "                                        download=True, transform=transform)\n",
        "trainloader = torch.utils.data.DataLoader(trainset, batch_size=batch_size,\n",
        "                                          shuffle=True, num_workers=2)\n",
        "\n",
        "testset = torchvision.datasets.CIFAR10(root='./data', train=False,\n",
        "                                       download=True, transform=transform)\n",
        "testloader = torch.utils.data.DataLoader(testset, batch_size=batch_size,\n",
        "                                         shuffle=False, num_workers=2)\n",
        "\n",
        "classes = ('plane', 'car', 'bird', 'cat',\n",
        "           'deer', 'dog', 'frog', 'horse', 'ship', 'truck')"
      ],
      "execution_count": null,
      "outputs": [
        {
          "output_type": "stream",
          "name": "stdout",
          "text": [
            "Downloading https://www.cs.toronto.edu/~kriz/cifar-10-python.tar.gz to ./data/cifar-10-python.tar.gz\n"
          ]
        },
        {
          "output_type": "display_data",
          "data": {
            "application/vnd.jupyter.widget-view+json": {
              "model_id": "d55990633f274bfc918d2ea41ad8ea2a",
              "version_minor": 0,
              "version_major": 2
            },
            "text/plain": [
              "  0%|          | 0/170498071 [00:00<?, ?it/s]"
            ]
          },
          "metadata": {}
        },
        {
          "output_type": "stream",
          "name": "stdout",
          "text": [
            "Extracting ./data/cifar-10-python.tar.gz to ./data\n",
            "Files already downloaded and verified\n"
          ]
        }
      ]
    },
    {
      "cell_type": "markdown",
      "metadata": {
        "id": "YBiFX_OQBLy1"
      },
      "source": [
        "Let us show some of the training images, for fun.\n",
        "\n"
      ]
    },
    {
      "cell_type": "code",
      "metadata": {
        "id": "2oqytsdxBLy2",
        "colab": {
          "base_uri": "https://localhost:8080/",
          "height": 157
        },
        "outputId": "9cd3033b-5a60-4e8a-aca5-c435a3767c58"
      },
      "source": [
        "import matplotlib.pyplot as plt\n",
        "import numpy as np\n",
        "\n",
        "# functions to show an image\n",
        "\n",
        "\n",
        "def imshow(img):\n",
        "    img = img / 2 + 0.5     # unnormalize\n",
        "    npimg = img.numpy()\n",
        "    plt.imshow(np.transpose(npimg, (1, 2, 0)))\n",
        "    plt.show()\n",
        "\n",
        "\n",
        "# get some random training images\n",
        "dataiter = iter(trainloader)\n",
        "images, labels = dataiter.next()\n",
        "\n",
        "# show images\n",
        "imshow(torchvision.utils.make_grid(images))\n",
        "# print labels\n",
        "print(' '.join('%5s' % classes[labels[j]] for j in range(batch_size)))"
      ],
      "execution_count": null,
      "outputs": [
        {
          "output_type": "display_data",
          "data": {
            "image/png": "[encoded data removed]",
            "text/plain": [
              "<Figure size 432x288 with 1 Axes>"
            ]
          },
          "metadata": {
            "needs_background": "light"
          }
        },
        {
          "output_type": "stream",
          "name": "stdout",
          "text": [
            " deer   cat  deer   car\n"
          ]
        }
      ]
    },
    {
      "cell_type": "markdown",
      "metadata": {
        "id": "TvhmCfVVBLy3"
      },
      "source": [
        "2. Define a Convolutional Neural Network\n",
        "^^^^^^^^^^^^^^^^^^^^^^^^^^^^^^^^^^^^^^\n",
        "Copy the neural network from the Neural Networks section before and modify it to\n",
        "take 3-channel images (instead of 1-channel images as it was defined).\n",
        "\n"
      ]
    },
    {
      "cell_type": "code",
      "metadata": {
        "id": "5AHE-BwwBLy4"
      },
      "source": [
        "import torch.nn as nn\n",
        "import torch.nn.functional as F\n",
        "\n",
        "\n",
        "class Net(nn.Module):\n",
        "    def __init__(self):\n",
        "        super().__init__()\n",
        "        #input, output, kernel size(5X5)\n",
        "        self.conv1 = nn.Conv2d(3, 6, 5)\n",
        "        # 2X2 pooling\n",
        "        self.pool = nn.MaxPool2d(2, 2)\n",
        "        self.conv2 = nn.Conv2d(6, 16, 5)\n",
        "        # fully connected layer\n",
        "        self.fc1 = nn.Linear(16 * 5 * 5, 120)\n",
        "        self.fc2 = nn.Linear(120, 84)\n",
        "        self.fc3 = nn.Linear(84, 10)\n",
        "\n",
        "# x = image\n",
        "    def forward(self, x):\n",
        "      #non-linearity(relu)\n",
        "        x = self.pool(F.relu(self.conv1(x)))\n",
        "        x = self.pool(F.relu(self.conv2(x)))\n",
        "        x = torch.flatten(x, 1) # flatten all dimensions except batch\n",
        "        x = F.relu(self.fc1(x))\n",
        "        x = F.relu(self.fc2(x))\n",
        "        x = self.fc3(x)\n",
        "        return x\n",
        "\n",
        "\n",
        "net = Net().cuda()"
      ],
      "execution_count": null,
      "outputs": []
    },
    {
      "cell_type": "code",
      "metadata": {
        "id": "GE6E8nVlJkY0",
        "colab": {
          "base_uri": "https://localhost:8080/"
        },
        "outputId": "6fb56a49-0006-4d72-b7a2-bdeca2379ad5"
      },
      "source": [
        "net.conv1.weight"
      ],
      "execution_count": null,
      "outputs": [
        {
          "output_type": "execute_result",
          "data": {
            "text/plain": [
              "Parameter containing:\n",
              "tensor([[[[-3.1924e-03, -8.7741e-02, -8.6241e-02,  1.4737e-02, -6.0296e-02],\n",
              "          [-7.3744e-02,  5.1591e-03,  8.0425e-02, -4.0018e-02, -2.7501e-02],\n",
              "          [-3.0497e-02, -2.6961e-02, -6.3714e-02,  8.8475e-02, -9.9598e-02],\n",
              "          [-1.0739e-01,  5.3658e-02,  7.6008e-02,  7.5064e-02, -5.8654e-02],\n",
              "          [ 1.0958e-02,  7.8890e-02,  1.0287e-01, -3.0797e-02,  6.5887e-02]],\n",
              "\n",
              "         [[ 1.0827e-01,  9.3562e-02, -3.4647e-02,  9.7074e-02,  6.4710e-02],\n",
              "          [ 2.0515e-02, -1.5539e-02, -5.6567e-02, -1.0776e-01,  1.7808e-02],\n",
              "          [-1.2904e-02, -5.0073e-02, -5.8439e-02,  3.6799e-02, -1.0970e-01],\n",
              "          [ 7.9714e-02,  3.2164e-03,  6.4968e-03, -1.0324e-01, -1.9702e-02],\n",
              "          [ 3.9672e-02,  2.7074e-02,  1.0132e-01, -6.4226e-03,  5.5670e-02]],\n",
              "\n",
              "         [[ 3.0041e-02,  2.2296e-02,  1.1371e-01,  7.7291e-02, -6.4944e-02],\n",
              "          [-9.8561e-03,  5.5071e-02, -5.9804e-02, -1.0468e-01,  1.5684e-02],\n",
              "          [ 2.4465e-02,  7.8645e-02,  3.5179e-02,  1.2867e-02,  6.5471e-02],\n",
              "          [ 6.0894e-02, -6.7822e-02,  7.6075e-02,  3.6211e-02, -9.5462e-03],\n",
              "          [ 1.8611e-02, -1.8692e-02,  5.5202e-02,  1.1056e-01, -1.1265e-01]]],\n",
              "\n",
              "\n",
              "        [[[ 8.6281e-02,  1.0285e-01,  2.3336e-02,  7.8873e-02, -7.8984e-02],\n",
              "          [-7.3614e-02, -1.1525e-01, -8.2144e-02, -1.5487e-02, -5.5952e-02],\n",
              "          [ 1.0132e-01, -4.8338e-02, -2.4221e-02,  9.4524e-02,  1.0486e-01],\n",
              "          [ 6.8396e-02,  1.1368e-01,  8.5517e-02, -3.6039e-02, -8.6076e-02],\n",
              "          [ 8.5087e-02,  1.1235e-01, -9.3127e-02, -1.3154e-02, -6.8195e-02]],\n",
              "\n",
              "         [[ 6.4674e-02,  7.8031e-02, -6.5270e-03,  6.5681e-02,  3.3719e-02],\n",
              "          [-7.4493e-02,  2.3033e-03, -1.1374e-01, -1.1229e-01, -2.4679e-02],\n",
              "          [-8.1896e-02, -5.3390e-02, -1.1416e-01, -1.1268e-01,  1.0797e-01],\n",
              "          [ 5.3963e-03,  7.2300e-02, -6.8635e-02, -6.2674e-02, -8.3391e-02],\n",
              "          [-1.8269e-02,  2.8455e-02, -7.4161e-02,  5.8401e-02,  1.4339e-02]],\n",
              "\n",
              "         [[-5.0789e-02,  8.5927e-02, -1.1427e-01,  4.7799e-02, -4.7422e-02],\n",
              "          [-5.8456e-02, -5.0223e-02, -2.2924e-02,  9.7046e-02,  3.4966e-02],\n",
              "          [-2.4660e-02, -6.2693e-03, -1.1192e-01,  6.5685e-02,  2.8887e-02],\n",
              "          [-9.0753e-02, -3.7865e-02,  1.4398e-02, -2.6530e-02,  5.4913e-02],\n",
              "          [-6.6131e-02, -1.0360e-01,  1.9467e-02,  9.8543e-02, -3.0286e-03]]],\n",
              "\n",
              "\n",
              "        [[[-1.1055e-01, -4.6597e-02, -8.3379e-02, -8.1854e-02, -5.6557e-02],\n",
              "          [-3.0758e-02,  2.8169e-02,  3.7661e-05, -9.6989e-02,  9.2314e-02],\n",
              "          [-4.7924e-02, -5.0743e-02, -3.8514e-02, -1.0089e-01,  1.1066e-01],\n",
              "          [ 5.1487e-03,  3.2217e-02,  3.4759e-02,  8.6447e-02, -1.0256e-02],\n",
              "          [-2.3021e-02, -3.2089e-02, -5.6841e-02,  5.8091e-02,  3.0226e-02]],\n",
              "\n",
              "         [[-3.1390e-02, -1.0793e-01,  7.2327e-02, -3.4538e-02,  1.0025e-01],\n",
              "          [ 8.1220e-02, -8.6214e-02,  8.7932e-02,  4.8996e-02, -7.4720e-02],\n",
              "          [-4.1414e-02, -1.9415e-02, -3.5144e-02, -1.1135e-01, -1.0466e-02],\n",
              "          [ 1.1055e-02,  4.4697e-02,  6.0188e-03, -5.6271e-02, -6.3841e-03],\n",
              "          [-2.0728e-02,  3.6289e-02,  1.1114e-01,  2.0847e-02,  7.7617e-02]],\n",
              "\n",
              "         [[ 5.4325e-02,  9.4171e-02, -9.9773e-02,  8.1616e-02,  1.0668e-01],\n",
              "          [-9.7021e-02,  8.2585e-02,  1.1239e-01,  1.0872e-01,  8.7599e-02],\n",
              "          [-8.5592e-02, -7.0077e-02,  4.1121e-02,  4.8588e-02,  6.0442e-02],\n",
              "          [ 8.1728e-02,  2.3730e-02, -6.0155e-02,  4.0867e-02, -3.2927e-02],\n",
              "          [-7.2475e-02, -6.0676e-02, -4.1933e-02,  3.8696e-02,  4.4223e-02]]],\n",
              "\n",
              "\n",
              "        [[[-6.0389e-02, -8.1937e-02, -1.7017e-02, -5.9319e-02,  7.3886e-03],\n",
              "          [-1.0578e-01,  1.0223e-01,  3.3313e-02, -7.4997e-03, -7.1274e-02],\n",
              "          [-5.5603e-02,  3.8845e-02, -5.9657e-02, -7.6683e-02,  2.5322e-02],\n",
              "          [ 3.5607e-02, -9.7056e-02, -6.0336e-02, -2.7906e-02, -5.7219e-03],\n",
              "          [ 1.0081e-01,  4.2457e-02, -4.1841e-02,  1.0834e-01,  4.9293e-02]],\n",
              "\n",
              "         [[-1.0120e-01, -1.0804e-02, -7.7101e-02,  9.2198e-02,  7.7393e-02],\n",
              "          [-2.3973e-02, -5.7289e-02, -5.9572e-02, -7.8035e-02,  5.6892e-02],\n",
              "          [ 9.3882e-02, -7.6243e-02, -7.6286e-02,  4.4460e-02, -6.5946e-02],\n",
              "          [-5.2920e-02,  9.0160e-02,  1.1143e-02,  6.0100e-02,  4.9989e-02],\n",
              "          [-1.0631e-01,  6.9110e-02,  9.3207e-02,  8.8223e-03, -2.8639e-03]],\n",
              "\n",
              "         [[ 1.0970e-01, -5.8452e-02,  7.4671e-02, -3.9287e-02, -1.1054e-01],\n",
              "          [ 5.9176e-02, -1.1303e-01,  3.5040e-02, -9.4397e-02,  6.7177e-02],\n",
              "          [ 3.1871e-02, -2.5582e-02, -1.0252e-02, -9.6118e-03, -1.1133e-01],\n",
              "          [-8.1299e-02,  1.0623e-01, -4.5738e-02,  1.8434e-02,  1.9010e-02],\n",
              "          [-2.7166e-02, -1.7420e-02,  4.0397e-03, -7.3689e-02, -1.0231e-01]]],\n",
              "\n",
              "\n",
              "        [[[ 4.4141e-02, -1.1140e-01,  6.3671e-02, -5.6779e-02, -7.3426e-02],\n",
              "          [-4.0050e-02,  1.0770e-02, -8.9530e-02,  9.8440e-02,  7.6383e-02],\n",
              "          [-6.8881e-02,  2.3564e-02,  4.0326e-02,  3.1446e-02, -2.7388e-02],\n",
              "          [ 6.2912e-02,  1.0202e-01, -5.8469e-02, -3.3594e-02,  2.2121e-03],\n",
              "          [ 1.0197e-01, -9.6075e-02,  1.1215e-01, -2.7436e-02,  9.9840e-02]],\n",
              "\n",
              "         [[-2.6522e-02, -3.2104e-02,  9.5989e-02,  2.4388e-02,  1.5009e-03],\n",
              "          [-6.4630e-03, -1.0994e-01,  3.0575e-02, -7.5605e-02,  9.0594e-02],\n",
              "          [ 1.0636e-01, -4.2252e-02,  7.9589e-02,  7.5112e-02, -1.0809e-01],\n",
              "          [-5.4790e-02,  1.0928e-01,  7.1669e-02,  1.1051e-01,  1.0467e-01],\n",
              "          [-3.4155e-02,  5.4203e-02,  5.4947e-02, -9.2218e-02, -2.9340e-02]],\n",
              "\n",
              "         [[-1.0660e-01, -1.5271e-02, -7.2161e-02,  8.4460e-02,  9.4421e-03],\n",
              "          [ 7.3946e-02,  9.8836e-02, -1.1543e-01, -2.4555e-02, -1.4138e-03],\n",
              "          [-8.1649e-03,  7.4039e-02, -8.5214e-02,  9.7109e-03,  4.9228e-02],\n",
              "          [-3.5284e-04,  1.0099e-01, -3.3269e-02, -6.7649e-02, -5.4484e-02],\n",
              "          [-2.2587e-02,  7.2294e-02, -1.1295e-01, -7.6992e-02, -9.2888e-02]]],\n",
              "\n",
              "\n",
              "        [[[ 1.8412e-02, -6.6136e-02,  5.1421e-02,  1.0867e-01,  7.6692e-02],\n",
              "          [ 1.0854e-01,  3.6505e-02,  6.3387e-02, -4.4806e-02,  7.9166e-02],\n",
              "          [-1.1020e-01, -1.7428e-02,  7.2512e-02,  3.8343e-02, -8.2800e-02],\n",
              "          [ 3.7501e-03, -7.8789e-02, -1.5257e-03,  8.1828e-02,  5.9283e-02],\n",
              "          [-3.8071e-03,  5.5917e-02, -1.2019e-02, -5.5044e-02, -2.1818e-02]],\n",
              "\n",
              "         [[ 4.0708e-02, -6.9824e-03,  3.0674e-02, -3.2525e-02,  1.0527e-01],\n",
              "          [ 1.0910e-01, -6.4585e-02,  4.6490e-02,  5.3403e-02, -9.7325e-02],\n",
              "          [-2.3400e-02,  2.9982e-02,  2.9645e-02,  9.9331e-02,  3.9814e-02],\n",
              "          [-6.4098e-02,  8.3328e-02, -6.7775e-02,  7.1213e-02, -4.3986e-02],\n",
              "          [ 1.0298e-01, -3.1161e-02, -1.1283e-01,  2.7858e-02,  5.1419e-02]],\n",
              "\n",
              "         [[-5.9246e-02,  2.4782e-02, -4.6951e-02,  4.1856e-02, -2.6254e-02],\n",
              "          [ 1.1424e-01, -1.0117e-01, -2.8287e-02, -8.5754e-02,  6.9929e-02],\n",
              "          [ 5.0221e-02,  4.1957e-02,  1.0924e-01,  7.0341e-02, -2.7988e-02],\n",
              "          [-2.7205e-02, -1.0538e-03,  3.8143e-02,  9.9601e-02,  2.6289e-03],\n",
              "          [ 2.2139e-03,  1.7283e-02,  6.4635e-02, -1.0312e-01, -5.5787e-02]]]],\n",
              "       device='cuda:0', requires_grad=True)"
            ]
          },
          "metadata": {},
          "execution_count": 18
        }
      ]
    },
    {
      "cell_type": "markdown",
      "metadata": {
        "id": "e0--nVrVBLy5"
      },
      "source": [
        "3. Define a Loss function and optimizer\n",
        "^^^^^^^^^^^^^^^^^^^^^^^^^^^^^^^^^^^^^^^\n",
        "Let's use a Classification Cross-Entropy loss and SGD with momentum.\n",
        "\n"
      ]
    },
    {
      "cell_type": "code",
      "metadata": {
        "id": "3_pcb46BBLy5"
      },
      "source": [
        "import torch.optim as optim\n",
        "\n",
        "criterion = nn.CrossEntropyLoss()\n",
        "optimizer = optim.SGD(net.parameters(), lr=0.001, momentum=0.9)"
      ],
      "execution_count": null,
      "outputs": []
    },
    {
      "cell_type": "markdown",
      "metadata": {
        "id": "MAm_e8iCBLy6"
      },
      "source": [
        "4. Train the network\n",
        "^^^^^^^^^^^^^^^^^^^^\n",
        "\n",
        "This is when things start to get interesting.\n",
        "We simply have to loop over our data iterator, and feed the inputs to the\n",
        "network and optimize.\n",
        "\n"
      ]
    },
    {
      "cell_type": "code",
      "metadata": {
        "id": "JcLrl7xdBLy6",
        "colab": {
          "base_uri": "https://localhost:8080/"
        },
        "outputId": "da861c90-5c4f-4762-aeb3-43b25f14b2f3"
      },
      "source": [
        "\n",
        "for epoch in range(2):  # loop over the dataset multiple times\n",
        "\n",
        "    running_loss = 0.0\n",
        "    for i, data in enumerate(trainloader, 0):\n",
        "        # get the inputs; data is a list of [inputs, labels]\n",
        "        inputs, labels = data\n",
        "        inputs = inputs.cuda()\n",
        "        labels = labels.cuda()\n",
        "\n",
        "        # zero the parameter gradients\n",
        "        optimizer.zero_grad()\n",
        "\n",
        "        # forward + backward + optimize\n",
        "        outputs = net(inputs)\n",
        "        loss = criterion(outputs, labels)\n",
        "        loss.backward()\n",
        "        optimizer.step()\n",
        "\n",
        "        # print statistics\n",
        "        running_loss += loss.item()\n",
        "        if i % 2000 == 1999:    # print every 2000 mini-batches\n",
        "            print('[%d, %5d] loss: %.3f' %\n",
        "                  (epoch + 1, i + 1, running_loss / 2000))\n",
        "            running_loss = 0.0\n",
        "\n",
        "print('Finished Training')"
      ],
      "execution_count": null,
      "outputs": [
        {
          "output_type": "stream",
          "name": "stdout",
          "text": [
            "[1,  2000] loss: 2.162\n",
            "[1,  4000] loss: 1.830\n",
            "[1,  6000] loss: 1.672\n",
            "[1,  8000] loss: 1.584\n",
            "[1, 10000] loss: 1.522\n",
            "[1, 12000] loss: 1.456\n",
            "[2,  2000] loss: 1.382\n",
            "[2,  4000] loss: 1.357\n",
            "[2,  6000] loss: 1.340\n",
            "[2,  8000] loss: 1.315\n",
            "[2, 10000] loss: 1.294\n",
            "[2, 12000] loss: 1.263\n",
            "Finished Training\n"
          ]
        }
      ]
    },
    {
      "cell_type": "markdown",
      "metadata": {
        "id": "bY1D7kKlBLy6"
      },
      "source": [
        "Let's quickly save our trained model:\n",
        "\n"
      ]
    },
    {
      "cell_type": "code",
      "metadata": {
        "id": "lojXri9oBLy7"
      },
      "source": [
        "PATH = './cifar_net.pth'\n",
        "torch.save(net.state_dict(), PATH)"
      ],
      "execution_count": null,
      "outputs": []
    },
    {
      "cell_type": "markdown",
      "metadata": {
        "id": "O7WP3AwUBLy7"
      },
      "source": [
        "See `here <https://pytorch.org/docs/stable/notes/serialization.html>`_\n",
        "for more details on saving PyTorch models.\n",
        "\n",
        "5. Test the network on the test data\n",
        "^^^^^^^^^^^^^^^^^^^^^^^^^^^^^^^^^^^^\n",
        "\n",
        "We have trained the network for 2 passes over the training dataset.\n",
        "But we need to check if the network has learnt anything at all.\n",
        "\n",
        "We will check this by predicting the class label that the neural network\n",
        "outputs, and checking it against the ground-truth. If the prediction is\n",
        "correct, we add the sample to the list of correct predictions.\n",
        "\n",
        "Okay, first step. Let us display an image from the test set to get familiar.\n",
        "\n"
      ]
    },
    {
      "cell_type": "code",
      "metadata": {
        "id": "moK0ta3oBLy7",
        "colab": {
          "base_uri": "https://localhost:8080/",
          "height": 157
        },
        "outputId": "89ee7768-1733-4ba8-a062-adcbcd5b8626"
      },
      "source": [
        "dataiter = iter(testloader)\n",
        "images, labels = dataiter.next()\n",
        "\n",
        "# print images\n",
        "imshow(torchvision.utils.make_grid(images))\n",
        "print('GroundTruth: ', ' '.join('%5s' % classes[labels[j]] for j in range(4)))"
      ],
      "execution_count": null,
      "outputs": [
        {
          "output_type": "display_data",
          "data": {
            "image/png": "[encoded data removed]",
            "text/plain": [
              "<Figure size 432x288 with 1 Axes>"
            ]
          },
          "metadata": {
            "needs_background": "light"
          }
        },
        {
          "output_type": "stream",
          "name": "stdout",
          "text": [
            "GroundTruth:    cat  ship  ship plane\n"
          ]
        }
      ]
    },
    {
      "cell_type": "markdown",
      "metadata": {
        "id": "17kvKARUBLy7"
      },
      "source": [
        "Next, let's load back in our saved model (note: saving and re-loading the model\n",
        "wasn't necessary here, we only did it to illustrate how to do so):\n",
        "\n"
      ]
    },
    {
      "cell_type": "code",
      "metadata": {
        "id": "ntP93U32BLy8",
        "colab": {
          "base_uri": "https://localhost:8080/"
        },
        "outputId": "e1872121-2e56-460a-c45b-0579c6badf6b"
      },
      "source": [
        "net = Net()\n",
        "net.load_state_dict(torch.load(PATH))"
      ],
      "execution_count": null,
      "outputs": [
        {
          "output_type": "execute_result",
          "data": {
            "text/plain": [
              "<All keys matched successfully>"
            ]
          },
          "metadata": {},
          "execution_count": 24
        }
      ]
    },
    {
      "cell_type": "markdown",
      "metadata": {
        "id": "rwVqjkHdBLy8"
      },
      "source": [
        "Okay, now let us see what the neural network thinks these examples above are:\n",
        "\n"
      ]
    },
    {
      "cell_type": "code",
      "metadata": {
        "id": "326kdOOqBLy8"
      },
      "source": [
        "outputs = net(images)"
      ],
      "execution_count": null,
      "outputs": []
    },
    {
      "cell_type": "markdown",
      "metadata": {
        "id": "vsOjp14pBLy9"
      },
      "source": [
        "The outputs are energies for the 10 classes.\n",
        "The higher the energy for a class, the more the network\n",
        "thinks that the image is of the particular class.\n",
        "So, let's get the index of the highest energy:\n",
        "\n"
      ]
    },
    {
      "cell_type": "code",
      "metadata": {
        "id": "z0dCBO4HBLy9",
        "colab": {
          "base_uri": "https://localhost:8080/"
        },
        "outputId": "1476fa46-96f2-42cc-832d-34b03eb819f5"
      },
      "source": [
        "_, predicted = torch.max(outputs, 1)\n",
        "\n",
        "print('Predicted: ', ' '.join('%5s' % classes[predicted[j]]\n",
        "                              for j in range(4)))"
      ],
      "execution_count": null,
      "outputs": [
        {
          "output_type": "stream",
          "name": "stdout",
          "text": [
            "Predicted:    cat  ship   car plane\n"
          ]
        }
      ]
    },
    {
      "cell_type": "markdown",
      "metadata": {
        "id": "Grso5TDlBLy-"
      },
      "source": [
        "The results seem pretty good.\n",
        "\n",
        "Let us look at how the network performs on the whole dataset.\n",
        "\n"
      ]
    },
    {
      "cell_type": "code",
      "metadata": {
        "id": "DoicnnlOBLy-",
        "colab": {
          "base_uri": "https://localhost:8080/"
        },
        "outputId": "3919c2e0-e328-433c-fcc9-660a27bcc3be"
      },
      "source": [
        "correct = 0\n",
        "total = 0\n",
        "# since we're not training, we don't need to calculate the gradients for our outputs\n",
        "with torch.no_grad():\n",
        "    for data in testloader:\n",
        "        images, labels = data\n",
        "        # calculate outputs by running images through the network \n",
        "        outputs = net(images)\n",
        "        # the class with the highest energy is what we choose as prediction\n",
        "        _, predicted = torch.max(outputs.data, 1)\n",
        "        total += labels.size(0)\n",
        "        correct += (predicted == labels).sum().item()\n",
        "\n",
        "print('Accuracy of the network on the 10000 test images: %d %%' % (\n",
        "    100 * correct / total))"
      ],
      "execution_count": null,
      "outputs": [
        {
          "output_type": "stream",
          "name": "stdout",
          "text": [
            "Accuracy of the network on the 10000 test images: 54 %\n"
          ]
        }
      ]
    },
    {
      "cell_type": "markdown",
      "metadata": {
        "id": "4oOm1lbsBLy-"
      },
      "source": [
        "That looks way better than chance, which is 10% accuracy (randomly picking\n",
        "a class out of 10 classes).\n",
        "Seems like the network learnt something.\n",
        "\n",
        "Hmmm, what are the classes that performed well, and the classes that did\n",
        "not perform well:\n",
        "\n"
      ]
    },
    {
      "cell_type": "code",
      "metadata": {
        "id": "2_PKU_6OBLy-",
        "colab": {
          "base_uri": "https://localhost:8080/"
        },
        "outputId": "7c0e49f8-ec42-464f-af47-e260ba4df5b4"
      },
      "source": [
        "# prepare to count predictions for each class\n",
        "correct_pred = {classname: 0 for classname in classes}\n",
        "total_pred = {classname: 0 for classname in classes}\n",
        "\n",
        "# again no gradients needed\n",
        "with torch.no_grad():\n",
        "    for data in testloader:\n",
        "        images, labels = data    \n",
        "        outputs = net(images)    \n",
        "        _, predictions = torch.max(outputs, 1)\n",
        "        # collect the correct predictions for each class\n",
        "        for label, prediction in zip(labels, predictions):\n",
        "            if label == prediction:\n",
        "                correct_pred[classes[label]] += 1\n",
        "            total_pred[classes[label]] += 1\n",
        "\n",
        "  \n",
        "# print accuracy for each class\n",
        "for classname, correct_count in correct_pred.items():\n",
        "    accuracy = 100 * float(correct_count) / total_pred[classname]\n",
        "    print(\"Accuracy for class {:5s} is: {:.1f} %\".format(classname, \n",
        "                                                   accuracy))"
      ],
      "execution_count": null,
      "outputs": [
        {
          "output_type": "stream",
          "name": "stdout",
          "text": [
            "Accuracy for class plane is: 58.9 %\n",
            "Accuracy for class car   is: 65.8 %\n",
            "Accuracy for class bird  is: 48.0 %\n",
            "Accuracy for class cat   is: 17.1 %\n",
            "Accuracy for class deer  is: 20.4 %\n",
            "Accuracy for class dog   is: 64.8 %\n",
            "Accuracy for class frog  is: 77.9 %\n",
            "Accuracy for class horse is: 55.9 %\n",
            "Accuracy for class ship  is: 71.4 %\n",
            "Accuracy for class truck is: 65.6 %\n"
          ]
        }
      ]
    },
    {
      "cell_type": "markdown",
      "metadata": {
        "id": "JGKeHxgmBLy_"
      },
      "source": [
        "Okay, so what next?\n",
        "\n",
        "How do we run these neural networks on the GPU?\n",
        "\n",
        "Training on GPU\n",
        "----------------\n",
        "Just like how you transfer a Tensor onto the GPU, you transfer the neural\n",
        "net onto the GPU.\n",
        "\n",
        "Let's first define our device as the first visible cuda device if we have\n",
        "CUDA available:\n",
        "\n"
      ]
    },
    {
      "cell_type": "code",
      "metadata": {
        "id": "MsWgiMtSBLy_",
        "colab": {
          "base_uri": "https://localhost:8080/"
        },
        "outputId": "b05764f6-63d5-4446-fa7d-090523b54b76"
      },
      "source": [
        "device = torch.device(\"cuda:0\" if torch.cuda.is_available() else \"cpu\")\n",
        "\n",
        "# Assuming that we are on a CUDA machine, this should print a CUDA device:\n",
        "\n",
        "print(device)"
      ],
      "execution_count": null,
      "outputs": [
        {
          "output_type": "stream",
          "name": "stdout",
          "text": [
            "cuda:0\n"
          ]
        }
      ]
    },
    {
      "cell_type": "markdown",
      "metadata": {
        "id": "-Mz9GlweBLy_"
      },
      "source": [
        "The rest of this section assumes that ``device`` is a CUDA device.\n",
        "\n",
        "Then these methods will recursively go over all modules and convert their\n",
        "parameters and buffers to CUDA tensors:\n",
        "\n",
        ".. code:: python\n",
        "\n",
        "    net.to(device)\n",
        "\n",
        "\n",
        "Remember that you will have to send the inputs and targets at every step\n",
        "to the GPU too:\n",
        "\n",
        ".. code:: python\n",
        "\n",
        "        inputs, labels = data[0].to(device), data[1].to(device)\n",
        "\n",
        "Why don't I notice MASSIVE speedup compared to CPU? Because your network\n",
        "is really small.\n",
        "\n",
        "**Exercise:** Try increasing the width of your network (argument 2 of\n",
        "the first ``nn.Conv2d``, and argument 1 of the second ``nn.Conv2d`` –\n",
        "they need to be the same number), see what kind of speedup you get.\n",
        "\n",
        "**Goals achieved**:\n",
        "\n",
        "- Understanding PyTorch's Tensor library and neural networks at a high level.\n",
        "- Train a small neural network to classify images\n",
        "\n",
        "Training on multiple GPUs\n",
        "-------------------------\n",
        "If you want to see even more MASSIVE speedup using all of your GPUs,\n",
        "please check out :doc:`data_parallel_tutorial`.\n",
        "\n",
        "Where do I go next?\n",
        "-------------------\n",
        "\n",
        "-  :doc:`Train neural nets to play video games </intermediate/reinforcement_q_learning>`\n",
        "-  `Train a state-of-the-art ResNet network on imagenet`_\n",
        "-  `Train a face generator using Generative Adversarial Networks`_\n",
        "-  `Train a word-level language model using Recurrent LSTM networks`_\n",
        "-  `More examples`_\n",
        "-  `More tutorials`_\n",
        "-  `Discuss PyTorch on the Forums`_\n",
        "-  `Chat with other users on Slack`_\n",
        "\n",
        "\n"
      ]
    },
    {
      "cell_type": "code",
      "metadata": {
        "id": "8WUlTKyABLy_"
      },
      "source": [
        ""
      ],
      "execution_count": null,
      "outputs": []
    }
  ]
}