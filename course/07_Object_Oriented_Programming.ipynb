{
 "cells": [
  {
   "cell_type": "code",
   "execution_count": 5,
   "metadata": {
    "collapsed": true
   },
   "outputs": [],
   "source": [
    "class Rectangle:\n",
    "    def __init__(self, width, height):\n",
    "        self._width = width\n",
    "        self._height = height\n",
    "\n",
    "    def set_width(self, width):\n",
    "        self._width = width\n",
    "\n",
    "    def set_height(self, height):\n",
    "        self._height = height\n",
    "\n",
    "    def get_width(self):\n",
    "        return self._width\n",
    "\n",
    "    def get_height(self):\n",
    "        return self._height\n",
    "\n",
    "    def area(self):\n",
    "        return self._width * self._height\n",
    "\n",
    "    def perimeter(self):\n",
    "        return 2 * (self._width + self._height)\n",
    "\n",
    "    def __str__(self):\n",
    "        return \"Width: {}, Heigh: {}\".format(self._width, self._height)"
   ]
  },
  {
   "cell_type": "code",
   "execution_count": 8,
   "outputs": [
    {
     "name": "stdout",
     "output_type": "stream",
     "text": [
      "Width: 1, Heigh: 4\n",
      "10\n"
     ]
    }
   ],
   "source": [
    "rect = Rectangle(1, 4)\n",
    "print(rect)\n",
    "print(rect.perimeter())"
   ],
   "metadata": {
    "collapsed": false,
    "pycharm": {
     "name": "#%%\n"
    }
   }
  },
  {
   "cell_type": "code",
   "execution_count": 7,
   "outputs": [
    {
     "name": "stdout",
     "output_type": "stream",
     "text": [
      "Width: 4, Heigh: 5\n"
     ]
    }
   ],
   "source": [
    "import data.rectangle as rec\n",
    "rect = rec.Rectangle(4, 5)\n",
    "print(rect)"
   ],
   "metadata": {
    "collapsed": false,
    "pycharm": {
     "name": "#%%\n"
    }
   }
  },
  {
   "cell_type": "code",
   "execution_count": 1,
   "outputs": [
    {
     "name": "stdout",
     "output_type": "stream",
     "text": [
      "Width: 5, Heigh: 6\n"
     ]
    }
   ],
   "source": [
    "from data.rectangle import Rectangle\n",
    "rect = Rectangle(5, 6)\n",
    "print(rect)"
   ],
   "metadata": {
    "collapsed": false,
    "pycharm": {
     "name": "#%%\n"
    }
   }
  },
  {
   "cell_type": "code",
   "execution_count": 3,
   "outputs": [
    {
     "name": "stdout",
     "output_type": "stream",
     "text": [
      "Lee\tB\n"
     ]
    }
   ],
   "source": [
    "from data.lgStudent import LGstudent\n",
    "\n",
    "def main():\n",
    "    name = input(\"Name: \")\n",
    "    midterm = eval(input(\"Midterm: \"))\n",
    "    final = eval(input(\"Final: \"))\n",
    "\n",
    "    student = LGstudent(name, midterm, final)\n",
    "    print(student)\n",
    "\n",
    "main()\n",
    "\n"
   ],
   "metadata": {
    "collapsed": false,
    "pycharm": {
     "name": "#%%\n"
    }
   }
  },
  {
   "cell_type": "code",
   "execution_count": 5,
   "outputs": [
    {
     "name": "stdout",
     "output_type": "stream",
     "text": [
      "Name\tGrade\n",
      "Lee\tA\n",
      "Kim\tD\n",
      "Park\tB\n"
     ]
    }
   ],
   "source": [
    "def main():\n",
    "    student_list = []\n",
    "    carry_on = \"Y\"\n",
    "    while carry_on == \"Y\":\n",
    "        name = input(\"Name: \")\n",
    "        midterm = eval(input(\"Midterm: \"))\n",
    "        final = eval(input(\"Final: \"))\n",
    "        student = LGstudent(name, midterm, final)\n",
    "        student_list.append(student)\n",
    "        carry_on = input(\"Continue? (Y/N)\").upper()\n",
    "\n",
    "    print(\"Name\\tGrade\")\n",
    "    for student in student_list:\n",
    "        print(student)\n",
    "\n",
    "main()"
   ],
   "metadata": {
    "collapsed": false,
    "pycharm": {
     "name": "#%%\n"
    }
   }
  },
  {
   "cell_type": "code",
   "execution_count": 10,
   "outputs": [
    {
     "name": "stdout",
     "output_type": "stream",
     "text": [
      "empty\n"
     ]
    }
   ],
   "source": [],
   "metadata": {
    "collapsed": false,
    "pycharm": {
     "name": "#%%\n"
    }
   }
  }
 ],
 "metadata": {
  "kernelspec": {
   "display_name": "Python 3",
   "language": "python",
   "name": "python3"
  },
  "language_info": {
   "codemirror_mode": {
    "name": "ipython",
    "version": 2
   },
   "file_extension": ".py",
   "mimetype": "text/x-python",
   "name": "python",
   "nbconvert_exporter": "python",
   "pygments_lexer": "ipython2",
   "version": "2.7.6"
  }
 },
 "nbformat": 4,
 "nbformat_minor": 0
}