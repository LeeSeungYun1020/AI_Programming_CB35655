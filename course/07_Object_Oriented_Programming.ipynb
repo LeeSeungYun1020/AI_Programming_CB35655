{
 "cells": [
  {
   "cell_type": "code",
   "execution_count": 5,
   "metadata": {
    "collapsed": true
   },
   "outputs": [],
   "source": [
    "class Rectangle:\n",
    "    def __init__(self, width, height):\n",
    "        self._width = width\n",
    "        self._height = height\n",
    "\n",
    "    def set_width(self, width):\n",
    "        self._width = width\n",
    "\n",
    "    def set_height(self, height):\n",
    "        self._height = height\n",
    "\n",
    "    def get_width(self):\n",
    "        return self._width\n",
    "\n",
    "    def get_height(self):\n",
    "        return self._height\n",
    "\n",
    "    def area(self):\n",
    "        return self._width * self._height\n",
    "\n",
    "    def perimeter(self):\n",
    "        return 2 * (self._width + self._height)\n",
    "\n",
    "    def __str__(self):\n",
    "        return \"Width: {}, Heigh: {}\".format(self._width, self._height)"
   ]
  },
  {
   "cell_type": "code",
   "execution_count": 8,
   "outputs": [
    {
     "name": "stdout",
     "output_type": "stream",
     "text": [
      "Width: 1, Heigh: 4\n",
      "10\n"
     ]
    }
   ],
   "source": [
    "rect = Rectangle(1, 4)\n",
    "print(rect)\n",
    "print(rect.perimeter())"
   ],
   "metadata": {
    "collapsed": false,
    "pycharm": {
     "name": "#%%\n"
    }
   }
  },
  {
   "cell_type": "code",
   "execution_count": 7,
   "outputs": [
    {
     "name": "stdout",
     "output_type": "stream",
     "text": [
      "Width: 4, Heigh: 5\n"
     ]
    }
   ],
   "source": [
    "import data.rectangle as rec\n",
    "rect = rec.Rectangle(4, 5)\n",
    "print(rect)"
   ],
   "metadata": {
    "collapsed": false,
    "pycharm": {
     "name": "#%%\n"
    }
   }
  },
  {
   "cell_type": "code",
   "execution_count": 1,
   "outputs": [
    {
     "name": "stdout",
     "output_type": "stream",
     "text": [
      "Width: 5, Heigh: 6\n"
     ]
    }
   ],
   "source": [
    "from data.rectangle import Rectangle\n",
    "rect = Rectangle(5, 6)\n",
    "print(rect)"
   ],
   "metadata": {
    "collapsed": false,
    "pycharm": {
     "name": "#%%\n"
    }
   }
  },
  {
   "cell_type": "code",
   "execution_count": 3,
   "outputs": [
    {
     "name": "stdout",
     "output_type": "stream",
     "text": [
      "Lee\tB\n"
     ]
    }
   ],
   "source": [
    "from data.lgStudent import LGstudent\n",
    "\n",
    "def main():\n",
    "    name = input(\"Name: \")\n",
    "    midterm = eval(input(\"Midterm: \"))\n",
    "    final = eval(input(\"Final: \"))\n",
    "\n",
    "    student = LGstudent(name, midterm, final)\n",
    "    print(student)\n",
    "\n",
    "main()\n",
    "\n"
   ],
   "metadata": {
    "collapsed": false,
    "pycharm": {
     "name": "#%%\n"
    }
   }
  },
  {
   "cell_type": "code",
   "execution_count": 5,
   "outputs": [
    {
     "name": "stdout",
     "output_type": "stream",
     "text": [
      "Name\tGrade\n",
      "Lee\tA\n",
      "Kim\tD\n",
      "Park\tB\n"
     ]
    }
   ],
   "source": [
    "def main():\n",
    "    student_list = []\n",
    "    carry_on = \"Y\"\n",
    "    while carry_on == \"Y\":\n",
    "        name = input(\"Name: \")\n",
    "        midterm = eval(input(\"Midterm: \"))\n",
    "        final = eval(input(\"Final: \"))\n",
    "        student = LGstudent(name, midterm, final)\n",
    "        student_list.append(student)\n",
    "        carry_on = input(\"Continue? (Y/N)\").upper()\n",
    "\n",
    "    print(\"Name\\tGrade\")\n",
    "    for student in student_list:\n",
    "        print(student)\n",
    "\n",
    "main()"
   ],
   "metadata": {
    "collapsed": false,
    "pycharm": {
     "name": "#%%\n"
    }
   }
  },
  {
   "cell_type": "code",
   "execution_count": 21,
   "outputs": [
    {
     "name": "stdout",
     "output_type": "stream",
     "text": [
      "Lee\tPass\n",
      "Lee\n"
     ]
    }
   ],
   "source": [
    "class Student:\n",
    "    def __init__(self, name=\"\", midterm=0, final=0):\n",
    "        self._name = name\n",
    "        self._midterm = midterm\n",
    "        self._final = final\n",
    "\n",
    "    def set_name(self, name):\n",
    "        self._name = name\n",
    "\n",
    "    def set_midterm(self, midterm):\n",
    "         self._midterm = midterm\n",
    "\n",
    "    def set_final(self, final):\n",
    "         self._final = final\n",
    "\n",
    "    def get_name(self):\n",
    "        return self._name\n",
    "\n",
    "    def __str__(self):\n",
    "        return self._name + \"\\t\" + self.calc_sem_grade()\n",
    "\n",
    "class LGStudent(Student):\n",
    "    def calc_sem_grade(self):\n",
    "        grade = (self._midterm + self._final) / 2\n",
    "        grade = round(grade)\n",
    "\n",
    "        if grade >= 90:\n",
    "            return \"A\"\n",
    "        elif grade >= 80:\n",
    "            return \"B\"\n",
    "        elif grade >= 70:\n",
    "            return \"C\"\n",
    "        elif grade >= 60:\n",
    "            return \"D\"\n",
    "        else:\n",
    "            return \"F\"\n",
    "\n",
    "class PFStudent(Student):\n",
    "    def calc_sem_grade(self):\n",
    "        grade = (self._midterm + self._final) / 2\n",
    "        grade = round(grade)\n",
    "        if grade >= 60:\n",
    "            return \"Pass\"\n",
    "        else:\n",
    "            return \"Fail\"\n",
    "\n",
    "student1 = PFStudent(\"Lee\", 67, 80)\n",
    "print(student1)\n",
    "print(student1.get_name())"
   ],
   "metadata": {
    "collapsed": false,
    "pycharm": {
     "name": "#%%\n"
    }
   }
  },
  {
   "cell_type": "code",
   "execution_count": 19,
   "outputs": [
    {
     "name": "stdout",
     "output_type": "stream",
     "text": [
      "\n",
      "{}\n",
      "True\n",
      "False\n",
      "\n",
      "\n",
      "{'a', 'b', 'c'}\n",
      "False\n",
      "True\n",
      "\n",
      "\n",
      "set()\n",
      "False\n",
      "True\n"
     ]
    }
   ],
   "source": [
    "print(\"\\n{}\")\n",
    "print(isinstance({}, dict))\n",
    "print(isinstance({}, set))\n",
    "\n",
    "print(\"\\n\\n{'a', 'b', 'c'}\")\n",
    "print(isinstance({'a', 'b', 'c'}, dict))\n",
    "print(isinstance({'a', 'b', 'c'}, set))\n",
    "\n",
    "print(\"\\n\\nset()\")\n",
    "print(isinstance(set(), dict))\n",
    "print(isinstance(set(), set))"
   ],
   "metadata": {
    "collapsed": false,
    "pycharm": {
     "name": "#%%\n"
    }
   }
  },
  {
   "cell_type": "code",
   "execution_count": 25,
   "outputs": [
    {
     "name": "stdout",
     "output_type": "stream",
     "text": [
      "Name\tGrade\n",
      "Kim\tF\n",
      "Lee\tA\n",
      "Park\tPass\n",
      "Number of Pass/Fail students = 1\n",
      "Number of Letter grade students = 2\n"
     ]
    }
   ],
   "source": [
    "def main():\n",
    "    student_list = []\n",
    "    carry_on = \"Y\"\n",
    "    while carry_on == \"Y\":\n",
    "        name = input(\"Name: \")\n",
    "        midterm = eval(input(\"Midterm: \"))\n",
    "        final = eval(input(\"Final: \"))\n",
    "        category = input(\"Type(LG/PF): \")\n",
    "        if category == \"LG\":\n",
    "            student = LGStudent(name, midterm, final)\n",
    "        else:\n",
    "            student = PFStudent(name, midterm, final)\n",
    "        student_list.append(student)\n",
    "        carry_on = input(\"Continue? (Y/N)\").upper()\n",
    "\n",
    "    student_list.sort(key=lambda x: x.get_name())\n",
    "    num_pf = 0\n",
    "    print(\"Name\\tGrade\")\n",
    "    for student in student_list:\n",
    "        print(student)\n",
    "        if isinstance(student, PFStudent):\n",
    "            num_pf += 1\n",
    "\n",
    "    print(\"Number of Pass/Fail students =\", num_pf)\n",
    "    print(\"Number of Letter grade students =\", len(student_list) - num_pf)\n",
    "\n",
    "main()"
   ],
   "metadata": {
    "collapsed": false,
    "pycharm": {
     "name": "#%%\n"
    }
   }
  },
  {
   "cell_type": "code",
   "execution_count": 26,
   "outputs": [
    {
     "name": "stdout",
     "output_type": "stream",
     "text": [
      "Lee\tPass\tFull-time student\n"
     ]
    }
   ],
   "source": [
    "import data.studentWithStatus as studentWithStatus\n",
    "student3 = studentWithStatus.PFstudent(\"Lee\", 84, 92, True)\n",
    "print(student3)\n"
   ],
   "metadata": {
    "collapsed": false,
    "pycharm": {
     "name": "#%%\n"
    }
   }
  },
  {
   "cell_type": "code",
   "execution_count": 1,
   "outputs": [],
   "source": [
    "class LGStudent:\n",
    "    def __init__(self, name=\"\", midterm=0, final=0):\n",
    "        self._name = name\n",
    "        self._midterm = midterm\n",
    "        self._final = final\n",
    "\n",
    "    def set_name(self, name):\n",
    "        self._name = name\n",
    "\n",
    "    def set_midterm(self, midterm):\n",
    "         self._midterm = midterm\n",
    "\n",
    "    def set_final(self, final):\n",
    "         self._final = final\n",
    "\n",
    "    def get_name(self):\n",
    "        return self._name\n",
    "\n",
    "    def __str__(self):\n",
    "        return self._name + \"\\t\" + self.calc_sem_grade()\n",
    "\n",
    "    def calc_sem_grade(self):\n",
    "        grade = (self._midterm + self._final) / 2\n",
    "        grade = round(grade)\n",
    "\n",
    "        if grade >= 90:\n",
    "            return \"A\"\n",
    "        elif grade >= 80:\n",
    "            return \"B\"\n",
    "        elif grade >= 70:\n",
    "            return \"C\"\n",
    "        elif grade >= 60:\n",
    "            return \"D\"\n",
    "        else:\n",
    "            return \"F\"\n",
    "\n",
    "class PFStudent(LGStudent):\n",
    "    def calc_sem_grade(self):\n",
    "        grade = (self._midterm + self._final) / 2\n",
    "        grade = round(grade)\n",
    "        if grade >= 60:\n",
    "            return \"Pass\"\n",
    "        else:\n",
    "            return \"Fail\""
   ],
   "metadata": {
    "collapsed": false,
    "pycharm": {
     "name": "#%%\n"
    }
   }
  },
  {
   "cell_type": "code",
   "execution_count": 2,
   "outputs": [
    {
     "name": "stdout",
     "output_type": "stream",
     "text": [
      "Lee\tPass\n"
     ]
    }
   ],
   "source": [
    "student4 = PFStudent(\"Lee\", 78, 80)\n",
    "print(student4)"
   ],
   "metadata": {
    "collapsed": false,
    "pycharm": {
     "name": "#%%\n"
    }
   }
  },
  {
   "cell_type": "code",
   "execution_count": 3,
   "outputs": [
    {
     "name": "stdout",
     "output_type": "stream",
     "text": [
      "Base1\n"
     ]
    }
   ],
   "source": [
    "class Base1:\n",
    "    def display(self):\n",
    "        print(\"Base1\")\n",
    "\n",
    "class Base2:\n",
    "    def display(self):\n",
    "        print(\"Base2\")\n",
    "\n",
    "class MultiDerived(Base1, Base2):\n",
    "    def __init__(self):\n",
    "        self._msg = \"Hello\"\n",
    "\n",
    "mlt = MultiDerived()\n",
    "mlt.display()"
   ],
   "metadata": {
    "collapsed": false,
    "pycharm": {
     "name": "#%%\n"
    }
   }
  },
  {
   "cell_type": "code",
   "execution_count": 4,
   "outputs": [
    {
     "name": "stdout",
     "output_type": "stream",
     "text": [
      "Hello\n"
     ]
    }
   ],
   "source": [
    "class MultiDerived(Base1, Base2):\n",
    "    def __init__(self):\n",
    "        self._msg = \"Hello\"\n",
    "\n",
    "    def display(self):\n",
    "        print(self._msg)\n",
    "\n",
    "mlt = MultiDerived()\n",
    "mlt.display()"
   ],
   "metadata": {
    "collapsed": false,
    "pycharm": {
     "name": "#%%\n"
    }
   }
  }
 ],
 "metadata": {
  "kernelspec": {
   "display_name": "Python 3",
   "language": "python",
   "name": "python3"
  },
  "language_info": {
   "codemirror_mode": {
    "name": "ipython",
    "version": 2
   },
   "file_extension": ".py",
   "mimetype": "text/x-python",
   "name": "python",
   "nbconvert_exporter": "python",
   "pygments_lexer": "ipython2",
   "version": "2.7.6"
  }
 },
 "nbformat": 4,
 "nbformat_minor": 0
}