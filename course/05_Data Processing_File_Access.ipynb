{
 "cells": [
  {
   "cell_type": "code",
   "execution_count": 9,
   "metadata": {
    "collapsed": true
   },
   "outputs": [
    {
     "name": "stdout",
     "output_type": "stream",
     "text": [
      "George Washington\n",
      "John Adams\n",
      "Thomas Jefferson\n",
      "['George Washington', 'John Adams', 'Thomas Jefferson']\n",
      "George Washington\n",
      "John Adams\n",
      "Thomas Jefferson\n",
      "George Washington\n",
      "John Adams\n",
      "Thomas Jefferson\n"
     ]
    }
   ],
   "source": [
    "def main():\n",
    "    file = \"data/FirstPresidents.txt\"\n",
    "    displayWithForLoop(file)\n",
    "    displayWithListComprehension(file)\n",
    "    displayWithReadline(file)\n",
    "\n",
    "def displayWithForLoop(file):\n",
    "    infile = open(file, 'r')\n",
    "    for line in infile:\n",
    "        print(line.rstrip())\n",
    "    infile.close()\n",
    "\n",
    "def displayWithListComprehension(file):\n",
    "    infile = open(file, 'r')\n",
    "    listPres = [line.rstrip() for line in infile]\n",
    "    print(listPres)\n",
    "    # print(\"\\n\".join(listPres))\n",
    "    infile.close()\n",
    "\n",
    "def displayWithReadline(file):\n",
    "    infile = open(file, 'r')\n",
    "    line = infile.readline()\n",
    "    while line != \"\":\n",
    "        print(line.rstrip())\n",
    "        line = infile.readline()\n",
    "    infile.close()\n",
    "\n",
    "main()"
   ]
  },
  {
   "cell_type": "code",
   "execution_count": 7,
   "outputs": [
    {
     "name": "stdout",
     "output_type": "stream",
     "text": [
      "DONE\n"
     ]
    }
   ],
   "source": [
    "def main():\n",
    "    ## Create two files containing the first three presidents.\n",
    "    L = [\"George Washington\", \"John Adams\",\n",
    "    \"Thomas Jefferson\"]\n",
    "    outfile = open(\"data/FirstPresidents2.txt\", 'w')\n",
    "    createWithWrite(L, outfile)\n",
    "    outfile = open(\"data/FirstPresidents3.txt\", 'w')\n",
    "    createWithWritelines(L, outfile)\n",
    "    print(\"DONE\")\n",
    "\n",
    "def createWithWrite(L, outfile):\n",
    "    for line in L:\n",
    "        outfile.write(line + '\\n')\n",
    "    outfile.close()\n",
    "\n",
    "def createWithWritelines(L, outfile):\n",
    "    # outfile.writelines('\\n'.join(L))\n",
    "    lnlist = [l + '\\n' for l in L]\n",
    "    outfile.writelines(lnlist)\n",
    "    outfile.close()\n",
    "\n",
    "main()"
   ],
   "metadata": {
    "collapsed": false,
    "pycharm": {
     "name": "#%%\n"
    }
   }
  },
  {
   "cell_type": "code",
   "execution_count": 6,
   "outputs": [
    {
     "name": "stdout",
     "output_type": "stream",
     "text": [
      "Alabama\n",
      "Alaska\n",
      "Arizona\n",
      "Arkansas\n",
      "California\n",
      "Colorado\n",
      "Connecticut\n",
      "Delaware\n",
      "Florida\n",
      "Georgia\n",
      "Hawaii\n",
      "Idaho\n",
      "Illinois\n",
      "Indiana\n",
      "Iowa\n",
      "Kansas\n",
      "Kentucky\n",
      "Louisiana\n",
      "Maine\n",
      "Maryland\n",
      "Massachusetts\n",
      "Michigan\n",
      "Minnesota\n",
      "Mississippi\n",
      "Missouri\n",
      "Montana\n",
      "Nebraska\n",
      "Nevada\n",
      "New Hampshire\n",
      "New Jersey\n",
      "New Mexico\n",
      "New York\n",
      "North Carolina\n",
      "North Dakota\n",
      "Ohio\n",
      "Oklahoma\n",
      "Oregon\n",
      "Pennsylvania\n",
      "Rhode Island\n",
      "South Carolina\n",
      "South Dakota\n",
      "Tennessee\n",
      "Texas\n",
      "Utah\n",
      "Vermont\n",
      "Virginia\n",
      "Washington\n",
      "West Virginia\n",
      "Wisconsin\n",
      "Wyoming\n"
     ]
    }
   ],
   "source": [
    "def main():\n",
    "    statesList = createListFromFile(\"data/States.txt\")\n",
    "    createSortedFile(statesList, \"data/StatesAlpha.txt\")\n",
    "\n",
    "def createListFromFile(fileName):\n",
    "    file = open(fileName, 'r')\n",
    "    list = [l.rstrip() for l in file]\n",
    "    file.close()\n",
    "    return list\n",
    "\n",
    "def createSortedFile(list, fileName):\n",
    "    file = open(fileName, 'w')\n",
    "    print(\"\\n\".join(sorted(list)))\n",
    "    file.writelines(\"\\n\".join(sorted(list)))\n",
    "    file.close()\n",
    "\n",
    "main()"
   ],
   "metadata": {
    "collapsed": false,
    "pycharm": {
     "name": "#%%\n"
    }
   }
  },
  {
   "cell_type": "code",
   "execution_count": 9,
   "outputs": [],
   "source": [
    "def main():\n",
    "    vicePresList = createListFromFile(\"data/VPres.txt\")\n",
    "    createBothFile(vicePresList, \"data/USPres.txt\", \"data/Both.txt\")\n",
    "\n",
    "def createBothFile(checklist, infileName, outfileName):\n",
    "    infile = open(infileName, 'r')\n",
    "    outfile = open(outfileName, 'w')\n",
    "    for l in infile:\n",
    "        if l.rstrip() in checklist:\n",
    "            outfile.write(l)\n",
    "    infile.close()\n",
    "    outfile.close()\n",
    "\n",
    "main()"
   ],
   "metadata": {
    "collapsed": false,
    "pycharm": {
     "name": "#%%\n"
    }
   }
  },
  {
   "cell_type": "code",
   "execution_count": 11,
   "outputs": [
    {
     "name": "stdout",
     "output_type": "stream",
     "text": [
      "FIle already exists.\n"
     ]
    }
   ],
   "source": [
    "import os.path\n",
    "if os.path.isfile(\"data/ABC.txt\"):\n",
    "    print(\"FIle already exists.\")\n",
    "else:\n",
    "    abcFile = open(\"data/ABC.txt\", 'w')\n",
    "    abcFile.write(\"a\\nb\\nc\\n\")\n",
    "    abcFile.close()"
   ],
   "metadata": {
    "collapsed": false,
    "pycharm": {
     "name": "#%%\n"
    }
   }
  },
  {
   "cell_type": "code",
   "execution_count": 2,
   "outputs": [
    {
     "name": "stdout",
     "output_type": "stream",
     "text": [
      "<class 'set'>\n",
      "<class 'set'>\n"
     ]
    }
   ],
   "source": [
    "s = {'a', 'b', 'c'}\n",
    "print(type(s))"
   ],
   "metadata": {
    "collapsed": false,
    "pycharm": {
     "name": "#%%\n"
    }
   }
  },
  {
   "cell_type": "code",
   "execution_count": 6,
   "outputs": [],
   "source": [
    "bri = {\"brazil\", \"russia\", \"india\"}"
   ],
   "metadata": {
    "collapsed": false,
    "pycharm": {
     "name": "#%%\n"
    }
   }
  },
  {
   "cell_type": "code",
   "execution_count": 8,
   "outputs": [
    {
     "name": "stdout",
     "output_type": "stream",
     "text": [
      "True\n",
      "False\n"
     ]
    }
   ],
   "source": [
    "print(\"brazil\" in bri)\n",
    "print(\"usa\" in bri)"
   ],
   "metadata": {
    "collapsed": false,
    "pycharm": {
     "name": "#%%\n"
    }
   }
  },
  {
   "cell_type": "code",
   "execution_count": 12,
   "outputs": [
    {
     "name": "stdout",
     "output_type": "stream",
     "text": [
      "{'china', 'india', 'brazil', 'russia'}\n",
      "True\n",
      "{'india', 'brazil', 'russia'}\n",
      "{'china'}\n",
      "{'india', 'russia', 'brazil', 'china'}\n"
     ]
    }
   ],
   "source": [
    "bric = bri.copy()\n",
    "bric.add(\"china\")\n",
    "print(bric)\n",
    "print(bric.issuperset(bri))\n",
    "print(bri & bric)# bri.intersection(bric)\n",
    "print(bric - bri)# bric.difference(bri)\n",
    "print(bri | bric)# bri.union(bric)"
   ],
   "metadata": {
    "collapsed": false,
    "pycharm": {
     "name": "#%%\n"
    }
   }
  },
  {
   "cell_type": "code",
   "execution_count": 16,
   "outputs": [
    {
     "data": {
      "text/plain": "['brazil', 'russia', 'china', 'india']"
     },
     "execution_count": 16,
     "metadata": {},
     "output_type": "execute_result"
    }
   ],
   "source": [
    "sorted(bric, key=len, reverse=True)"
   ],
   "metadata": {
    "collapsed": false,
    "pycharm": {
     "name": "#%%\n"
    }
   }
  },
  {
   "cell_type": "code",
   "execution_count": 17,
   "outputs": [
    {
     "data": {
      "text/plain": "{0, 1, 4, 9}"
     },
     "execution_count": 17,
     "metadata": {},
     "output_type": "execute_result"
    }
   ],
   "source": [
    "{x**2 for x in range(-3, 3)}"
   ],
   "metadata": {
    "collapsed": false,
    "pycharm": {
     "name": "#%%\n"
    }
   }
  },
  {
   "cell_type": "code",
   "execution_count": 23,
   "outputs": [
    {
     "name": "stdout",
     "output_type": "stream",
     "text": [
      "{'Harry Truman\\n', 'Thomas Jefferson\\n', 'Martin Van Buren\\n', 'John Tyler\\n', 'Andrew Johnson\\n', 'Lyndon Johnson\\n', 'Calvin Coolidge\\n', 'George H. W. Bush\\n', 'Theodore Roosevelt\\n', 'Millard Fillmore\\n', 'Chester Arthur\\n', 'John Adams\\n', 'Gerald Ford\\n', 'Richard Nixon\\n'}\n"
     ]
    }
   ],
   "source": [
    "def main():\n",
    "    vicePresSet = createSetFromFile(\"data/VPres.txt\")\n",
    "    presSet = createSetFromFile(\"data/USPres.txt\")\n",
    "    writeNamesToFile(vicePresSet & presSet, \"data/PresAndVPres.txt\")\n",
    "\n",
    "def createSetFromFile(fileName):\n",
    "    file = open(fileName, \"r\")\n",
    "    fileSet = {item for item in file}\n",
    "    file.close()\n",
    "    return fileSet\n",
    "\n",
    "def writeNamesToFile(nameSet, fileName):\n",
    "    print(nameSet)\n",
    "    file = open(fileName, \"w\")\n",
    "    file.writelines(nameSet)\n",
    "    file.close()\n",
    "main()"
   ],
   "metadata": {
    "collapsed": false,
    "pycharm": {
     "name": "#%%\n"
    }
   }
  },
  {
   "cell_type": "code",
   "execution_count": 33,
   "outputs": [
    {
     "name": "stdout",
     "output_type": "stream",
     "text": [
      "Argentina\n",
      "Bolivia\n",
      "Brazil\n",
      "Chile\n",
      "Colombia\n",
      "Ecuador\n",
      "Guyana\n",
      "Paraguay\n",
      "Peru\n",
      "Suriname\n",
      "Uruguay\n",
      "Venezuela\n"
     ]
    }
   ],
   "source": [
    "def main():\n",
    "    continent = input(\"Enter the name of a continent: \")\n",
    "    continent = continent.title()\n",
    "    with open(\"data/UN.txt\", \"r\") as file:\n",
    "        data = [it.rstrip().split(\",\")[0] for it in file if it.split(\",\")[1] == continent]\n",
    "        if data:\n",
    "            print(\"\\n\".join(data))\n",
    "        else:\n",
    "            print(\"There is no countries in\", continent)\n",
    "\n",
    "main()"
   ],
   "metadata": {
    "collapsed": false,
    "pycharm": {
     "name": "#%%\n"
    }
   }
  },
  {
   "cell_type": "code",
   "execution_count": 52,
   "outputs": [
    {
     "name": "stdout",
     "output_type": "stream",
     "text": [
      "Country             Area     \n",
      "Russian Federation  6,592,800\n",
      "Canada              3,855,000\n",
      "United States       3,794,066\n",
      "China               3,696,100\n",
      "Brazil              3,287,597\n"
     ]
    }
   ],
   "source": [
    "def main():\n",
    "    countries = placeRecordsIntoList(\"data/UN.txt\")\n",
    "    countries.sort(key=lambda x: x[3], reverse=True)\n",
    "    displayFive(countries)\n",
    "    createNewFile(\"data/UNbyArea.txt\", countries)\n",
    "\n",
    "def placeRecordsIntoList(fileName):\n",
    "    with open(fileName, \"r\") as file:\n",
    "        data = [item.rstrip().split(\",\") for item in file]\n",
    "        for line in data:\n",
    "            line[2] = eval(line[2])\n",
    "            line[3] = eval(line[3])\n",
    "        return data\n",
    "def displayFive(list):\n",
    "    print(\"{:20}{:9}\".format(\"Country\", \"Area\"))\n",
    "    for i in range(0, 5):\n",
    "        print(\"{:20}{:9,d}\".format(list[i][0], list[i][3]))\n",
    "\n",
    "def createNewFile(fileName, list):\n",
    "    with open(fileName, \"w\") as file:\n",
    "        file.writelines([\"{},{}\\n\".format(it[0], it[3]) for it in list])\n",
    "\n",
    "main()"
   ],
   "metadata": {
    "collapsed": false,
    "pycharm": {
     "name": "#%%\n"
    }
   }
  },
  {
   "cell_type": "code",
   "execution_count": 63,
   "outputs": [
    {
     "name": "stdout",
     "output_type": "stream",
     "text": [
      "{'one': 1, 'seven': 7, 'eleven': 11}\n",
      "{'one': 1, 'seven': 7, 'eleven': 11, 'eight': 8}\n",
      "[('one', 1), ('seven', 7), ('eleven', 11), ('eight', 8)]\n",
      "one 1\n",
      "seven 7\n",
      "eleven 11\n",
      "eight 8\n",
      "{'one': 1, 'seven': 7, 'eight': 8}\n",
      "seven\n"
     ]
    }
   ],
   "source": [
    "list1 = [[\"one\", 1], [\"seven\", 7], [\"eleven\", 11]]\n",
    "numDict = dict(list1)\n",
    "print(numDict)\n",
    "numDict[\"eight\"] = 8\n",
    "print(numDict)\n",
    "\n",
    "print(list(numDict.items()))\n",
    "for key, val in numDict.items():\n",
    "    print(key, val)\n",
    "\n",
    "del numDict[\"eleven\"]\n",
    "print(numDict)\n",
    "\n",
    "print(max(numDict)) #key 기준"
   ],
   "metadata": {
    "collapsed": false,
    "pycharm": {
     "name": "#%%\n"
    }
   }
  },
  {
   "cell_type": "code",
   "execution_count": 66,
   "outputs": [
    {
     "name": "stdout",
     "output_type": "stream",
     "text": [
      "Admission fee is 5\n"
     ]
    }
   ],
   "source": [
    "def main():\n",
    "    fee = {\"child\": 0, \"minor\": 5, \"adult\": 10, \"senior\": 8}\n",
    "    group = input(\"Enter the age group\\n(child, minor, adult, senior): \").lower()\n",
    "    print(\"Admission fee is\", fee[group])\n",
    "\n",
    "main()"
   ],
   "metadata": {
    "collapsed": false,
    "pycharm": {
     "name": "#%%\n"
    }
   }
  }
 ],
 "metadata": {
  "kernelspec": {
   "name": "python3",
   "language": "python",
   "display_name": "Python 3"
  },
  "language_info": {
   "codemirror_mode": {
    "name": "ipython",
    "version": 2
   },
   "file_extension": ".py",
   "mimetype": "text/x-python",
   "name": "python",
   "nbconvert_exporter": "python",
   "pygments_lexer": "ipython2",
   "version": "2.7.6"
  }
 },
 "nbformat": 4,
 "nbformat_minor": 0
}