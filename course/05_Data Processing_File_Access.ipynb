{
 "cells": [
  {
   "cell_type": "code",
   "execution_count": 9,
   "metadata": {
    "collapsed": true
   },
   "outputs": [
    {
     "name": "stdout",
     "output_type": "stream",
     "text": [
      "George Washington\n",
      "John Adams\n",
      "Thomas Jefferson\n",
      "['George Washington', 'John Adams', 'Thomas Jefferson']\n",
      "George Washington\n",
      "John Adams\n",
      "Thomas Jefferson\n",
      "George Washington\n",
      "John Adams\n",
      "Thomas Jefferson\n"
     ]
    }
   ],
   "source": [
    "def main():\n",
    "    file = \"data/FirstPresidents.txt\"\n",
    "    displayWithForLoop(file)\n",
    "    displayWithListComprehension(file)\n",
    "    displayWithReadline(file)\n",
    "\n",
    "def displayWithForLoop(file):\n",
    "    infile = open(file, 'r')\n",
    "    for line in infile:\n",
    "        print(line.rstrip())\n",
    "    infile.close()\n",
    "\n",
    "def displayWithListComprehension(file):\n",
    "    infile = open(file, 'r')\n",
    "    listPres = [line.rstrip() for line in infile]\n",
    "    print(listPres)\n",
    "    # print(\"\\n\".join(listPres))\n",
    "    infile.close()\n",
    "\n",
    "def displayWithReadline(file):\n",
    "    infile = open(file, 'r')\n",
    "    line = infile.readline()\n",
    "    while line != \"\":\n",
    "        print(line.rstrip())\n",
    "        line = infile.readline()\n",
    "    infile.close()\n",
    "\n",
    "main()"
   ]
  },
  {
   "cell_type": "code",
   "execution_count": 7,
   "outputs": [
    {
     "name": "stdout",
     "output_type": "stream",
     "text": [
      "DONE\n"
     ]
    }
   ],
   "source": [
    "def main():\n",
    "    ## Create two files containing the first three presidents.\n",
    "    L = [\"George Washington\", \"John Adams\",\n",
    "    \"Thomas Jefferson\"]\n",
    "    outfile = open(\"data/FirstPresidents2.txt\", 'w')\n",
    "    createWithWrite(L, outfile)\n",
    "    outfile = open(\"data/FirstPresidents3.txt\", 'w')\n",
    "    createWithWritelines(L, outfile)\n",
    "    print(\"DONE\")\n",
    "\n",
    "def createWithWrite(L, outfile):\n",
    "    for line in L:\n",
    "        outfile.write(line + '\\n')\n",
    "    outfile.close()\n",
    "\n",
    "def createWithWritelines(L, outfile):\n",
    "    # outfile.writelines('\\n'.join(L))\n",
    "    lnlist = [l + '\\n' for l in L]\n",
    "    outfile.writelines(lnlist)\n",
    "    outfile.close()\n",
    "\n",
    "main()"
   ],
   "metadata": {
    "collapsed": false,
    "pycharm": {
     "name": "#%%\n"
    }
   }
  },
  {
   "cell_type": "code",
   "execution_count": 6,
   "outputs": [
    {
     "name": "stdout",
     "output_type": "stream",
     "text": [
      "Alabama\n",
      "Alaska\n",
      "Arizona\n",
      "Arkansas\n",
      "California\n",
      "Colorado\n",
      "Connecticut\n",
      "Delaware\n",
      "Florida\n",
      "Georgia\n",
      "Hawaii\n",
      "Idaho\n",
      "Illinois\n",
      "Indiana\n",
      "Iowa\n",
      "Kansas\n",
      "Kentucky\n",
      "Louisiana\n",
      "Maine\n",
      "Maryland\n",
      "Massachusetts\n",
      "Michigan\n",
      "Minnesota\n",
      "Mississippi\n",
      "Missouri\n",
      "Montana\n",
      "Nebraska\n",
      "Nevada\n",
      "New Hampshire\n",
      "New Jersey\n",
      "New Mexico\n",
      "New York\n",
      "North Carolina\n",
      "North Dakota\n",
      "Ohio\n",
      "Oklahoma\n",
      "Oregon\n",
      "Pennsylvania\n",
      "Rhode Island\n",
      "South Carolina\n",
      "South Dakota\n",
      "Tennessee\n",
      "Texas\n",
      "Utah\n",
      "Vermont\n",
      "Virginia\n",
      "Washington\n",
      "West Virginia\n",
      "Wisconsin\n",
      "Wyoming\n"
     ]
    }
   ],
   "source": [
    "def main():\n",
    "    statesList = createListFromFile(\"data/States.txt\")\n",
    "    createSortedFile(statesList, \"data/StatesAlpha.txt\")\n",
    "\n",
    "def createListFromFile(fileName):\n",
    "    file = open(fileName, 'r')\n",
    "    list = [l.rstrip() for l in file]\n",
    "    file.close()\n",
    "    return list\n",
    "\n",
    "def createSortedFile(list, fileName):\n",
    "    file = open(fileName, 'w')\n",
    "    print(\"\\n\".join(sorted(list)))\n",
    "    file.writelines(\"\\n\".join(sorted(list)))\n",
    "    file.close()\n",
    "\n",
    "main()"
   ],
   "metadata": {
    "collapsed": false,
    "pycharm": {
     "name": "#%%\n"
    }
   }
  },
  {
   "cell_type": "code",
   "execution_count": 9,
   "outputs": [],
   "source": [
    "def main():\n",
    "    vicePresList = createListFromFile(\"data/VPres.txt\")\n",
    "    createBothFile(vicePresList, \"data/USPres.txt\", \"data/Both.txt\")\n",
    "\n",
    "def createBothFile(checklist, infileName, outfileName):\n",
    "    infile = open(infileName, 'r')\n",
    "    outfile = open(outfileName, 'w')\n",
    "    for l in infile:\n",
    "        if l.rstrip() in checklist:\n",
    "            outfile.write(l)\n",
    "    infile.close()\n",
    "    outfile.close()\n",
    "\n",
    "main()"
   ],
   "metadata": {
    "collapsed": false,
    "pycharm": {
     "name": "#%%\n"
    }
   }
  },
  {
   "cell_type": "code",
   "execution_count": 11,
   "outputs": [
    {
     "name": "stdout",
     "output_type": "stream",
     "text": [
      "FIle already exists.\n"
     ]
    }
   ],
   "source": [
    "import os.path\n",
    "if os.path.isfile(\"data/ABC.txt\"):\n",
    "    print(\"FIle already exists.\")\n",
    "else:\n",
    "    abcFile = open(\"data/ABC.txt\", 'w')\n",
    "    abcFile.write(\"a\\nb\\nc\\n\")\n",
    "    abcFile.close()"
   ],
   "metadata": {
    "collapsed": false,
    "pycharm": {
     "name": "#%%\n"
    }
   }
  }
 ],
 "metadata": {
  "kernelspec": {
   "name": "python3",
   "language": "python",
   "display_name": "Python 3"
  },
  "language_info": {
   "codemirror_mode": {
    "name": "ipython",
    "version": 2
   },
   "file_extension": ".py",
   "mimetype": "text/x-python",
   "name": "python",
   "nbconvert_exporter": "python",
   "pygments_lexer": "ipython2",
   "version": "2.7.6"
  }
 },
 "nbformat": 4,
 "nbformat_minor": 0
}