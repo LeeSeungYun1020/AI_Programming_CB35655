{
 "cells": [
  {
   "cell_type": "code",
   "execution_count": 9,
   "metadata": {
    "collapsed": true
   },
   "outputs": [
    {
     "name": "stdout",
     "output_type": "stream",
     "text": [
      "George Washington\n",
      "John Adams\n",
      "Thomas Jefferson\n",
      "['George Washington', 'John Adams', 'Thomas Jefferson']\n",
      "George Washington\n",
      "John Adams\n",
      "Thomas Jefferson\n",
      "George Washington\n",
      "John Adams\n",
      "Thomas Jefferson\n"
     ]
    }
   ],
   "source": [
    "def main():\n",
    "    file = \"data/FirstPresidents.txt\"\n",
    "    displayWithForLoop(file)\n",
    "    displayWithListComprehension(file)\n",
    "    displayWithReadline(file)\n",
    "\n",
    "def displayWithForLoop(file):\n",
    "    infile = open(file, 'r')\n",
    "    for line in infile:\n",
    "        print(line.rstrip())\n",
    "    infile.close()\n",
    "\n",
    "def displayWithListComprehension(file):\n",
    "    infile = open(file, 'r')\n",
    "    listPres = [line.rstrip() for line in infile]\n",
    "    print(listPres)\n",
    "    # print(\"\\n\".join(listPres))\n",
    "    infile.close()\n",
    "\n",
    "def displayWithReadline(file):\n",
    "    infile = open(file, 'r')\n",
    "    line = infile.readline()\n",
    "    while line != \"\":\n",
    "        print(line.rstrip())\n",
    "        line = infile.readline()\n",
    "    infile.close()\n",
    "\n",
    "main()"
   ]
  },
  {
   "cell_type": "code",
   "execution_count": 7,
   "outputs": [
    {
     "name": "stdout",
     "output_type": "stream",
     "text": [
      "DONE\n"
     ]
    }
   ],
   "source": [
    "def main():\n",
    "    ## Create two files containing the first three presidents.\n",
    "    L = [\"George Washington\", \"John Adams\",\n",
    "    \"Thomas Jefferson\"]\n",
    "    outfile = open(\"data/FirstPresidents2.txt\", 'w')\n",
    "    createWithWrite(L, outfile)\n",
    "    outfile = open(\"data/FirstPresidents3.txt\", 'w')\n",
    "    createWithWritelines(L, outfile)\n",
    "    print(\"DONE\")\n",
    "\n",
    "def createWithWrite(L, outfile):\n",
    "    for line in L:\n",
    "        outfile.write(line + '\\n')\n",
    "    outfile.close()\n",
    "\n",
    "def createWithWritelines(L, outfile):\n",
    "    # outfile.writelines('\\n'.join(L))\n",
    "    lnlist = [l + '\\n' for l in L]\n",
    "    outfile.writelines(lnlist)\n",
    "    outfile.close()\n",
    "\n",
    "main()"
   ],
   "metadata": {
    "collapsed": false,
    "pycharm": {
     "name": "#%%\n"
    }
   }
  },
  {
   "cell_type": "code",
   "execution_count": 6,
   "outputs": [
    {
     "name": "stdout",
     "output_type": "stream",
     "text": [
      "Alabama\n",
      "Alaska\n",
      "Arizona\n",
      "Arkansas\n",
      "California\n",
      "Colorado\n",
      "Connecticut\n",
      "Delaware\n",
      "Florida\n",
      "Georgia\n",
      "Hawaii\n",
      "Idaho\n",
      "Illinois\n",
      "Indiana\n",
      "Iowa\n",
      "Kansas\n",
      "Kentucky\n",
      "Louisiana\n",
      "Maine\n",
      "Maryland\n",
      "Massachusetts\n",
      "Michigan\n",
      "Minnesota\n",
      "Mississippi\n",
      "Missouri\n",
      "Montana\n",
      "Nebraska\n",
      "Nevada\n",
      "New Hampshire\n",
      "New Jersey\n",
      "New Mexico\n",
      "New York\n",
      "North Carolina\n",
      "North Dakota\n",
      "Ohio\n",
      "Oklahoma\n",
      "Oregon\n",
      "Pennsylvania\n",
      "Rhode Island\n",
      "South Carolina\n",
      "South Dakota\n",
      "Tennessee\n",
      "Texas\n",
      "Utah\n",
      "Vermont\n",
      "Virginia\n",
      "Washington\n",
      "West Virginia\n",
      "Wisconsin\n",
      "Wyoming\n"
     ]
    }
   ],
   "source": [
    "def main():\n",
    "    statesList = createListFromFile(\"data/States.txt\")\n",
    "    createSortedFile(statesList, \"data/StatesAlpha.txt\")\n",
    "\n",
    "def createListFromFile(fileName):\n",
    "    file = open(fileName, 'r')\n",
    "    list = [l.rstrip() for l in file]\n",
    "    file.close()\n",
    "    return list\n",
    "\n",
    "def createSortedFile(list, fileName):\n",
    "    file = open(fileName, 'w')\n",
    "    print(\"\\n\".join(sorted(list)))\n",
    "    file.writelines(\"\\n\".join(sorted(list)))\n",
    "    file.close()\n",
    "\n",
    "main()"
   ],
   "metadata": {
    "collapsed": false,
    "pycharm": {
     "name": "#%%\n"
    }
   }
  },
  {
   "cell_type": "code",
   "execution_count": 9,
   "outputs": [],
   "source": [
    "def main():\n",
    "    vicePresList = createListFromFile(\"data/VPres.txt\")\n",
    "    createBothFile(vicePresList, \"data/USPres.txt\", \"data/Both.txt\")\n",
    "\n",
    "def createBothFile(checklist, infileName, outfileName):\n",
    "    infile = open(infileName, 'r')\n",
    "    outfile = open(outfileName, 'w')\n",
    "    for l in infile:\n",
    "        if l.rstrip() in checklist:\n",
    "            outfile.write(l)\n",
    "    infile.close()\n",
    "    outfile.close()\n",
    "\n",
    "main()"
   ],
   "metadata": {
    "collapsed": false,
    "pycharm": {
     "name": "#%%\n"
    }
   }
  },
  {
   "cell_type": "code",
   "execution_count": 11,
   "outputs": [
    {
     "name": "stdout",
     "output_type": "stream",
     "text": [
      "FIle already exists.\n"
     ]
    }
   ],
   "source": [
    "import os.path\n",
    "if os.path.isfile(\"data/ABC.txt\"):\n",
    "    print(\"FIle already exists.\")\n",
    "else:\n",
    "    abcFile = open(\"data/ABC.txt\", 'w')\n",
    "    abcFile.write(\"a\\nb\\nc\\n\")\n",
    "    abcFile.close()"
   ],
   "metadata": {
    "collapsed": false,
    "pycharm": {
     "name": "#%%\n"
    }
   }
  },
  {
   "cell_type": "code",
   "execution_count": 2,
   "outputs": [
    {
     "name": "stdout",
     "output_type": "stream",
     "text": [
      "<class 'set'>\n",
      "<class 'set'>\n"
     ]
    }
   ],
   "source": [
    "s = {'a', 'b', 'c'}\n",
    "print(type(s))"
   ],
   "metadata": {
    "collapsed": false,
    "pycharm": {
     "name": "#%%\n"
    }
   }
  },
  {
   "cell_type": "code",
   "execution_count": 6,
   "outputs": [],
   "source": [
    "bri = {\"brazil\", \"russia\", \"india\"}"
   ],
   "metadata": {
    "collapsed": false,
    "pycharm": {
     "name": "#%%\n"
    }
   }
  },
  {
   "cell_type": "code",
   "execution_count": 8,
   "outputs": [
    {
     "name": "stdout",
     "output_type": "stream",
     "text": [
      "True\n",
      "False\n"
     ]
    }
   ],
   "source": [
    "print(\"brazil\" in bri)\n",
    "print(\"usa\" in bri)"
   ],
   "metadata": {
    "collapsed": false,
    "pycharm": {
     "name": "#%%\n"
    }
   }
  },
  {
   "cell_type": "code",
   "execution_count": 12,
   "outputs": [
    {
     "name": "stdout",
     "output_type": "stream",
     "text": [
      "{'china', 'india', 'brazil', 'russia'}\n",
      "True\n",
      "{'india', 'brazil', 'russia'}\n",
      "{'china'}\n",
      "{'india', 'russia', 'brazil', 'china'}\n"
     ]
    }
   ],
   "source": [
    "bric = bri.copy()\n",
    "bric.add(\"china\")\n",
    "print(bric)\n",
    "print(bric.issuperset(bri))\n",
    "print(bri & bric)# bri.intersection(bric)\n",
    "print(bric - bri)# bric.difference(bri)\n",
    "print(bri | bric)# bri.union(bric)"
   ],
   "metadata": {
    "collapsed": false,
    "pycharm": {
     "name": "#%%\n"
    }
   }
  },
  {
   "cell_type": "code",
   "execution_count": 16,
   "outputs": [
    {
     "data": {
      "text/plain": "['brazil', 'russia', 'china', 'india']"
     },
     "execution_count": 16,
     "metadata": {},
     "output_type": "execute_result"
    }
   ],
   "source": [
    "sorted(bric, key=len, reverse=True)"
   ],
   "metadata": {
    "collapsed": false,
    "pycharm": {
     "name": "#%%\n"
    }
   }
  },
  {
   "cell_type": "code",
   "execution_count": 17,
   "outputs": [
    {
     "data": {
      "text/plain": "{0, 1, 4, 9}"
     },
     "execution_count": 17,
     "metadata": {},
     "output_type": "execute_result"
    }
   ],
   "source": [
    "{x**2 for x in range(-3, 3)}"
   ],
   "metadata": {
    "collapsed": false,
    "pycharm": {
     "name": "#%%\n"
    }
   }
  },
  {
   "cell_type": "code",
   "execution_count": 23,
   "outputs": [
    {
     "name": "stdout",
     "output_type": "stream",
     "text": [
      "{'Harry Truman\\n', 'Thomas Jefferson\\n', 'Martin Van Buren\\n', 'John Tyler\\n', 'Andrew Johnson\\n', 'Lyndon Johnson\\n', 'Calvin Coolidge\\n', 'George H. W. Bush\\n', 'Theodore Roosevelt\\n', 'Millard Fillmore\\n', 'Chester Arthur\\n', 'John Adams\\n', 'Gerald Ford\\n', 'Richard Nixon\\n'}\n"
     ]
    }
   ],
   "source": [
    "def main():\n",
    "    vicePresSet = createSetFromFile(\"data/VPres.txt\")\n",
    "    presSet = createSetFromFile(\"data/USPres.txt\")\n",
    "    writeNamesToFile(vicePresSet & presSet, \"data/PresAndVPres.txt\")\n",
    "\n",
    "def createSetFromFile(fileName):\n",
    "    file = open(fileName, \"r\")\n",
    "    fileSet = {item for item in file}\n",
    "    file.close()\n",
    "    return fileSet\n",
    "\n",
    "def writeNamesToFile(nameSet, fileName):\n",
    "    print(nameSet)\n",
    "    file = open(fileName, \"w\")\n",
    "    file.writelines(nameSet)\n",
    "    file.close()\n",
    "main()"
   ],
   "metadata": {
    "collapsed": false,
    "pycharm": {
     "name": "#%%\n"
    }
   }
  },
  {
   "cell_type": "code",
   "execution_count": 33,
   "outputs": [
    {
     "name": "stdout",
     "output_type": "stream",
     "text": [
      "Argentina\n",
      "Bolivia\n",
      "Brazil\n",
      "Chile\n",
      "Colombia\n",
      "Ecuador\n",
      "Guyana\n",
      "Paraguay\n",
      "Peru\n",
      "Suriname\n",
      "Uruguay\n",
      "Venezuela\n"
     ]
    }
   ],
   "source": [
    "def main():\n",
    "    continent = input(\"Enter the name of a continent: \")\n",
    "    continent = continent.title()\n",
    "    with open(\"data/UN.txt\", \"r\") as file:\n",
    "        data = [it.rstrip().split(\",\")[0] for it in file if it.split(\",\")[1] == continent]\n",
    "        if data:\n",
    "            print(\"\\n\".join(data))\n",
    "        else:\n",
    "            print(\"There is no countries in\", continent)\n",
    "\n",
    "main()"
   ],
   "metadata": {
    "collapsed": false,
    "pycharm": {
     "name": "#%%\n"
    }
   }
  },
  {
   "cell_type": "code",
   "execution_count": 52,
   "outputs": [
    {
     "name": "stdout",
     "output_type": "stream",
     "text": [
      "Country             Area     \n",
      "Russian Federation  6,592,800\n",
      "Canada              3,855,000\n",
      "United States       3,794,066\n",
      "China               3,696,100\n",
      "Brazil              3,287,597\n"
     ]
    }
   ],
   "source": [
    "def main():\n",
    "    countries = placeRecordsIntoList(\"data/UN.txt\")\n",
    "    countries.sort(key=lambda x: x[3], reverse=True)\n",
    "    displayFive(countries)\n",
    "    createNewFile(\"data/UNbyArea.txt\", countries)\n",
    "\n",
    "def placeRecordsIntoList(fileName):\n",
    "    with open(fileName, \"r\") as file:\n",
    "        data = [item.rstrip().split(\",\") for item in file]\n",
    "        for line in data:\n",
    "            line[2] = eval(line[2])\n",
    "            line[3] = eval(line[3])\n",
    "        return data\n",
    "def displayFive(list):\n",
    "    print(\"{:20}{:9}\".format(\"Country\", \"Area\"))\n",
    "    for i in range(0, 5):\n",
    "        print(\"{:20}{:9,d}\".format(list[i][0], list[i][3]))\n",
    "\n",
    "def createNewFile(fileName, list):\n",
    "    with open(fileName, \"w\") as file:\n",
    "        file.writelines([\"{},{}\\n\".format(it[0], it[3]) for it in list])\n",
    "\n",
    "main()"
   ],
   "metadata": {
    "collapsed": false,
    "pycharm": {
     "name": "#%%\n"
    }
   }
  },
  {
   "cell_type": "code",
   "execution_count": 63,
   "outputs": [
    {
     "name": "stdout",
     "output_type": "stream",
     "text": [
      "{'one': 1, 'seven': 7, 'eleven': 11}\n",
      "{'one': 1, 'seven': 7, 'eleven': 11, 'eight': 8}\n",
      "[('one', 1), ('seven', 7), ('eleven', 11), ('eight', 8)]\n",
      "one 1\n",
      "seven 7\n",
      "eleven 11\n",
      "eight 8\n",
      "{'one': 1, 'seven': 7, 'eight': 8}\n",
      "seven\n"
     ]
    }
   ],
   "source": [
    "list1 = [[\"one\", 1], [\"seven\", 7], [\"eleven\", 11]]\n",
    "numDict = dict(list1)\n",
    "print(numDict)\n",
    "numDict[\"eight\"] = 8\n",
    "print(numDict)\n",
    "\n",
    "print(list(numDict.items()))\n",
    "for key, val in numDict.items():\n",
    "    print(key, val)\n",
    "\n",
    "del numDict[\"eleven\"]\n",
    "print(numDict)\n",
    "\n",
    "print(max(numDict)) #key 기준"
   ],
   "metadata": {
    "collapsed": false,
    "pycharm": {
     "name": "#%%\n"
    }
   }
  },
  {
   "cell_type": "code",
   "execution_count": 66,
   "outputs": [
    {
     "name": "stdout",
     "output_type": "stream",
     "text": [
      "Admission fee is 5\n"
     ]
    }
   ],
   "source": [
    "def main():\n",
    "    fee = {\"child\": 0, \"minor\": 5, \"adult\": 10, \"senior\": 8}\n",
    "    group = input(\"Enter the age group\\n(child, minor, adult, senior): \").lower()\n",
    "    print(\"Admission fee is\", fee[group])\n",
    "\n",
    "main()"
   ],
   "metadata": {
    "collapsed": false,
    "pycharm": {
     "name": "#%%\n"
    }
   }
  },
  {
   "cell_type": "code",
   "execution_count": 12,
   "outputs": [
    {
     "name": "stdout",
     "output_type": "stream",
     "text": [
      "The Gettysburg Address contains 268 words.\n",
      "The Gettysburg Address contains 139 different words.\n",
      "\n",
      "\tthat:\t13\n",
      "\tthe:\t11\n",
      "\twe:\t10\n",
      "\tto:\t8\n",
      "\there:\t8\n",
      "\ta:\t7\n",
      "\tand:\t6\n"
     ]
    }
   ],
   "source": [
    "def main():\n",
    "    word_list = form_list_word(\"data/Gettysburg.txt\")\n",
    "    freq = create_frequency_dictionary(word_list)\n",
    "    display_word_count(word_list, freq)\n",
    "    display_most_common_word(freq)\n",
    "\n",
    "def form_list_word(file_name):\n",
    "    with open(file_name, 'r') as file:\n",
    "        origin_line = file.readline().lower()\n",
    "        new_line = \"\"\n",
    "        for ch in origin_line:\n",
    "            if 'a' <= ch <= 'z' or ch == ' ':\n",
    "                new_line += ch\n",
    "        return new_line.split()\n",
    "\n",
    "def create_frequency_dictionary(word_list):\n",
    "    word_dict = {}\n",
    "    for word in word_list:\n",
    "        word_dict[word] = 0\n",
    "    for word in word_list:\n",
    "        word_dict[word] += 1\n",
    "    return word_dict\n",
    "\n",
    "def display_word_count(word_list, freq):\n",
    "    print(\"The Gettysburg Address contains\", len(word_list), \"words.\")\n",
    "    print(\"The Gettysburg Address contains\", len(freq), \"different words.\")\n",
    "    print()\n",
    "\n",
    "\n",
    "def display_most_common_word(freq):\n",
    "    freq_list = [it for it in freq.items() if it[1] >= 6]\n",
    "    freq_list.sort(key=lambda x: x[1], reverse=True)\n",
    "    for it in freq_list:\n",
    "        print(\"\\t{}:\\t{}\".format(it[0], it[1]))\n",
    "\n",
    "main()"
   ],
   "metadata": {
    "collapsed": false,
    "pycharm": {
     "name": "#%%\n"
    }
   }
  },
  {
   "cell_type": "code",
   "execution_count": 25,
   "outputs": [
    {
     "name": "stdout",
     "output_type": "stream",
     "text": [
      "\tChina: 1355.7\n",
      "\tIndia: 1236.3\n",
      "\tIndonesia: 253.6\n",
      "\tPakistan: 196.2\n",
      "\tBangladesh: 166.3\n",
      "\tJapan: 127.1\n",
      "\tPhilippines: 107.7\n",
      "\tVietnam: 93.4\n",
      "\tTurkey: 81.6\n",
      "\tIran: 80.8\n",
      "\tThailand: 67.7\n",
      "\tMyanmar: 55.7\n",
      "\tRepublic of Korea: 49.0\n",
      "\tIraq: 32.6\n",
      "\tAfghanistan: 31.8\n",
      "\tNepal: 31.0\n",
      "\tMalaysia: 30.1\n",
      "\tUzbekistan: 28.9\n",
      "\tSaudi Arabia: 27.3\n",
      "\tYemen: 26.1\n",
      "\tDemocratic People's Republic of Korea: 24.9\n",
      "\tSri Lanka: 22.9\n",
      "\tSyrian Arab Republic: 18.0\n",
      "\tKazakhstan: 18.0\n",
      "\tCambodia: 15.5\n",
      "\tAzerbaijan: 9.7\n",
      "\tTajikistan: 8.1\n",
      "\tJordan: 7.9\n",
      "\tIsrael: 7.8\n",
      "\tLao People's Democratic Republic: 6.8\n",
      "\tLebanon: 5.9\n",
      "\tSingapore: 5.6\n",
      "\tKyrgyzstan: 5.6\n",
      "\tUnited Arab Emirates: 5.6\n",
      "\tTurkmenistan: 5.1\n",
      "\tGeorgia: 4.9\n",
      "\tOman: 3.2\n",
      "\tArmenia: 3.1\n",
      "\tMongolia: 3.0\n",
      "\tKuwait: 2.7\n",
      "\tQatar: 2.1\n",
      "\tBahrain: 1.3\n",
      "\tTimor-Leste: 1.2\n",
      "\tCyprus: 1.2\n",
      "\tBhutan: 0.73\n",
      "\tBrunei Darussalam: 0.42\n",
      "\tMaldives: 0.39\n"
     ]
    }
   ],
   "source": [
    "import pickle\n",
    "def main():\n",
    "    nations = get_dictionary(\"data/UNDict.dat\")\n",
    "    continent = input(\"Enter continent: \").title()\n",
    "    continent_dict = construct_continent_nations(nations, continent)\n",
    "    display_sorted_result(continent_dict)\n",
    "\n",
    "def get_dictionary(file_name):\n",
    "    file = open(file_name, 'rb')\n",
    "    nations = pickle.load(file)\n",
    "    file.close()\n",
    "    return nations\n",
    "\n",
    "def construct_continent_nations(nations, continent):\n",
    "    continent_dict = {}\n",
    "    # for nation in nations.items():\n",
    "    #     if nation[1][\"cont\"] == continent:\n",
    "    #         continent_dict[nation[0]] = nation[1]\n",
    "    for nation in nations:\n",
    "        if nations[nation][\"cont\"] == continent:\n",
    "            continent_dict[nation] = nations[nation]\n",
    "    return continent_dict\n",
    "\n",
    "def display_sorted_result(continent_dict):\n",
    "    continent_list = sorted(continent_dict.items(), key=lambda x: x[1][\"popl\"], reverse=True)\n",
    "    for continent in continent_list:\n",
    "        print(\"\\t{}: {}\".format(continent[0], continent[1][\"popl\"]))\n",
    "main()"
   ],
   "metadata": {
    "collapsed": false,
    "pycharm": {
     "name": "#%%\n"
    }
   }
  },
  {
   "cell_type": "code",
   "execution_count": 30,
   "outputs": [
    {
     "name": "stdout",
     "output_type": "stream",
     "text": [
      "Presidents from Virginia\n",
      "Thomas Jefferson\n",
      "James Madison\n",
      "James Monroe\n",
      "John Tyler\n",
      "George Washington\n"
     ]
    }
   ],
   "source": [
    "import pickle\n",
    "def main():\n",
    "    pres_dict = create_president_dict(\"data/USpresStatesDict.dat\")\n",
    "    state = get_state(pres_dict)\n",
    "    display_president(state, pres_dict)\n",
    "\n",
    "def create_president_dict(file_name):\n",
    "    file = open(file_name, \"rb\")\n",
    "    pres_dict = pickle.load(file)\n",
    "    file.close()\n",
    "    return pres_dict\n",
    "\n",
    "def get_state(pres_dict):\n",
    "    state = input(\"Enter state: \").title()\n",
    "    if state in pres_dict.values():\n",
    "        return state\n",
    "    else:\n",
    "        return \"There are no presidents from \" + state + '.'\n",
    "\n",
    "def display_president(state, pres_dict):\n",
    "    if (state.startswith(\"There\")):\n",
    "        print(state)\n",
    "    else:\n",
    "        print(\"Presidents from\", state)\n",
    "        for pres in sorted(pres_dict):\n",
    "            if pres_dict[pres] == state:\n",
    "                print(pres[1], pres[0])\n",
    "\n",
    "\n",
    "main()"
   ],
   "metadata": {
    "collapsed": false,
    "pycharm": {
     "name": "#%%\n"
    }
   }
  },
  {
   "cell_type": "code",
   "execution_count": 32,
   "outputs": [
    {
     "name": "stdout",
     "output_type": "stream",
     "text": [
      "{('Washington', 'George'): 'Virginia', ('Monroe', 'James'): 'Virginia', ('Madison', 'James'): 'Virginia', ('Jefferson', 'Thomas'): 'Virginia', ('Tyler', 'John'): 'Virginia'}\n"
     ]
    }
   ],
   "source": [
    "def main():\n",
    "    CITY = [\"Virginia\"]\n",
    "    pres_dict = create_president_dict(\"data/USpresStatesDict.dat\")\n",
    "    print({k: pres_dict[k] for k in pres_dict if pres_dict[k] in CITY})\n",
    "\n",
    "def create_president_dict(file_name):\n",
    "    file = open(file_name, \"rb\")\n",
    "    pres_dict = pickle.load(file)\n",
    "    file.close()\n",
    "    return pres_dict\n",
    "\n",
    "main()"
   ],
   "metadata": {
    "collapsed": false,
    "pycharm": {
     "name": "#%%\n"
    }
   }
  }
 ],
 "metadata": {
  "kernelspec": {
   "name": "python3",
   "language": "python",
   "display_name": "Python 3"
  },
  "language_info": {
   "codemirror_mode": {
    "name": "ipython",
    "version": 2
   },
   "file_extension": ".py",
   "mimetype": "text/x-python",
   "name": "python",
   "nbconvert_exporter": "python",
   "pygments_lexer": "ipython2",
   "version": "2.7.6"
  }
 },
 "nbformat": 4,
 "nbformat_minor": 0
}